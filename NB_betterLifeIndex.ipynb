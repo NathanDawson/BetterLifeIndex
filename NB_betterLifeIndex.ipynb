{
 "cells": [
  {
   "cell_type": "markdown",
   "id": "12cc7205",
   "metadata": {},
   "source": [
    "# 1. Objective\n",
    "\n",
    "The objective is to gain a better understanding of the well-being of individuals across various countries. The Better Life Index dataset takes a wide range of variables into account, factoring in health, economic stability, education, safety and many others."
   ]
  },
  {
   "cell_type": "markdown",
   "id": "d8207c79",
   "metadata": {},
   "source": [
    "# 2. Data Understanding\n",
    "\n",
    "Within this section, we seek to understand the data, gaining insights into the distribution and relationships between the various variables.\n",
    "\n",
    "To begin, we will import the necessary libraries and conduct a brief descriptive analysis."
   ]
  },
  {
   "cell_type": "code",
   "execution_count": 1,
   "id": "d9adbe6e",
   "metadata": {
    "ExecuteTime": {
     "end_time": "2023-11-01T16:29:38.389675Z",
     "start_time": "2023-11-01T16:29:33.287511Z"
    },
    "tags": []
   },
   "outputs": [],
   "source": [
    "import pandas as pd\n",
    "import numpy as np\n",
    "import altair as alt"
   ]
  },
  {
   "cell_type": "code",
   "execution_count": 2,
   "id": "6efaeef5",
   "metadata": {
    "ExecuteTime": {
     "end_time": "2023-11-01T16:29:44.039984Z",
     "start_time": "2023-11-01T16:29:42.484610Z"
    },
    "tags": []
   },
   "outputs": [],
   "source": [
    "df = pd.read_excel('betterLifeIndex.xlsx')"
   ]
  },
  {
   "cell_type": "code",
   "execution_count": 3,
   "id": "a03898d4",
   "metadata": {
    "ExecuteTime": {
     "end_time": "2023-11-01T16:29:47.369226Z",
     "start_time": "2023-11-01T16:29:47.336569Z"
    },
    "scrolled": true,
    "tags": []
   },
   "outputs": [
    {
     "data": {
      "text/html": [
       "<div>\n",
       "<style scoped>\n",
       "    .dataframe tbody tr th:only-of-type {\n",
       "        vertical-align: middle;\n",
       "    }\n",
       "\n",
       "    .dataframe tbody tr th {\n",
       "        vertical-align: top;\n",
       "    }\n",
       "\n",
       "    .dataframe thead th {\n",
       "        text-align: right;\n",
       "    }\n",
       "</style>\n",
       "<table border=\"1\" class=\"dataframe\">\n",
       "  <thead>\n",
       "    <tr style=\"text-align: right;\">\n",
       "      <th></th>\n",
       "      <th>Country</th>\n",
       "      <th>Housing - Dwellings without basic facilities as pct</th>\n",
       "      <th>Housing - Housing expenditure as pct</th>\n",
       "      <th>Housing - Rooms per person as rat</th>\n",
       "      <th>Income - Household net adjusted disposable income in usd</th>\n",
       "      <th>Income - Household net wealth in usd</th>\n",
       "      <th>Jobs - Labour market insecurity as pct</th>\n",
       "      <th>Jobs - Employment rate as pct</th>\n",
       "      <th>Jobs - Long-term unemployment rate as pct</th>\n",
       "      <th>Jobs - Personal earnings in usd</th>\n",
       "      <th>...</th>\n",
       "      <th>Environment - Water quality as pct</th>\n",
       "      <th>Civic Engagement - Stakeholder engagement for developing regulations as avg score</th>\n",
       "      <th>Civic Engagement - Voter turnout as pct</th>\n",
       "      <th>Health - Life expectancy in yrs</th>\n",
       "      <th>Health - Self-reported health as pct</th>\n",
       "      <th>Life Satisfaction - Life satisfaction as avg score</th>\n",
       "      <th>Safety - Feeling safe walking alone at night as pct</th>\n",
       "      <th>Safety - Homicide rate as rat</th>\n",
       "      <th>Work-Life Balance - Employees working very long hours as pct</th>\n",
       "      <th>Work-Life Balance - Time devoted to leisure and personal care as hrs</th>\n",
       "    </tr>\n",
       "  </thead>\n",
       "  <tbody>\n",
       "    <tr>\n",
       "      <th>0</th>\n",
       "      <td>Australia</td>\n",
       "      <td>NaN</td>\n",
       "      <td>19.4</td>\n",
       "      <td>NaN</td>\n",
       "      <td>37433.0</td>\n",
       "      <td>528768.0</td>\n",
       "      <td>3.1</td>\n",
       "      <td>73</td>\n",
       "      <td>1.0</td>\n",
       "      <td>55206.0</td>\n",
       "      <td>...</td>\n",
       "      <td>92</td>\n",
       "      <td>2.7</td>\n",
       "      <td>92</td>\n",
       "      <td>83.0</td>\n",
       "      <td>85.0</td>\n",
       "      <td>7.1</td>\n",
       "      <td>67</td>\n",
       "      <td>0.9</td>\n",
       "      <td>12.5</td>\n",
       "      <td>14.36</td>\n",
       "    </tr>\n",
       "    <tr>\n",
       "      <th>1</th>\n",
       "      <td>Austria</td>\n",
       "      <td>0.8</td>\n",
       "      <td>20.8</td>\n",
       "      <td>1.6</td>\n",
       "      <td>37001.0</td>\n",
       "      <td>309637.0</td>\n",
       "      <td>2.3</td>\n",
       "      <td>72</td>\n",
       "      <td>1.3</td>\n",
       "      <td>53132.0</td>\n",
       "      <td>...</td>\n",
       "      <td>92</td>\n",
       "      <td>1.3</td>\n",
       "      <td>76</td>\n",
       "      <td>82.0</td>\n",
       "      <td>71.0</td>\n",
       "      <td>7.2</td>\n",
       "      <td>86</td>\n",
       "      <td>0.5</td>\n",
       "      <td>5.3</td>\n",
       "      <td>14.51</td>\n",
       "    </tr>\n",
       "    <tr>\n",
       "      <th>2</th>\n",
       "      <td>Belgium</td>\n",
       "      <td>0.7</td>\n",
       "      <td>20.0</td>\n",
       "      <td>2.1</td>\n",
       "      <td>34884.0</td>\n",
       "      <td>447607.0</td>\n",
       "      <td>2.4</td>\n",
       "      <td>65</td>\n",
       "      <td>2.3</td>\n",
       "      <td>54327.0</td>\n",
       "      <td>...</td>\n",
       "      <td>79</td>\n",
       "      <td>2.0</td>\n",
       "      <td>88</td>\n",
       "      <td>82.1</td>\n",
       "      <td>74.0</td>\n",
       "      <td>6.8</td>\n",
       "      <td>56</td>\n",
       "      <td>1.1</td>\n",
       "      <td>4.3</td>\n",
       "      <td>15.52</td>\n",
       "    </tr>\n",
       "    <tr>\n",
       "      <th>3</th>\n",
       "      <td>Canada</td>\n",
       "      <td>0.2</td>\n",
       "      <td>22.9</td>\n",
       "      <td>2.6</td>\n",
       "      <td>34421.0</td>\n",
       "      <td>478240.0</td>\n",
       "      <td>3.8</td>\n",
       "      <td>70</td>\n",
       "      <td>0.5</td>\n",
       "      <td>55342.0</td>\n",
       "      <td>...</td>\n",
       "      <td>90</td>\n",
       "      <td>2.9</td>\n",
       "      <td>68</td>\n",
       "      <td>82.1</td>\n",
       "      <td>89.0</td>\n",
       "      <td>7.0</td>\n",
       "      <td>78</td>\n",
       "      <td>1.2</td>\n",
       "      <td>3.3</td>\n",
       "      <td>14.57</td>\n",
       "    </tr>\n",
       "    <tr>\n",
       "      <th>4</th>\n",
       "      <td>Chile</td>\n",
       "      <td>9.4</td>\n",
       "      <td>18.4</td>\n",
       "      <td>1.9</td>\n",
       "      <td>NaN</td>\n",
       "      <td>135787.0</td>\n",
       "      <td>7.0</td>\n",
       "      <td>56</td>\n",
       "      <td>NaN</td>\n",
       "      <td>26729.0</td>\n",
       "      <td>...</td>\n",
       "      <td>62</td>\n",
       "      <td>1.3</td>\n",
       "      <td>47</td>\n",
       "      <td>80.6</td>\n",
       "      <td>60.0</td>\n",
       "      <td>6.2</td>\n",
       "      <td>41</td>\n",
       "      <td>2.4</td>\n",
       "      <td>7.7</td>\n",
       "      <td>NaN</td>\n",
       "    </tr>\n",
       "  </tbody>\n",
       "</table>\n",
       "<p>5 rows × 25 columns</p>\n",
       "</div>"
      ],
      "text/plain": [
       "     Country  Housing - Dwellings without basic facilities as pct  \\\n",
       "0  Australia                                                NaN     \n",
       "1    Austria                                                0.8     \n",
       "2    Belgium                                                0.7     \n",
       "3     Canada                                                0.2     \n",
       "4      Chile                                                9.4     \n",
       "\n",
       "   Housing - Housing expenditure as pct  Housing - Rooms per person as rat  \\\n",
       "0                                  19.4                                NaN   \n",
       "1                                  20.8                                1.6   \n",
       "2                                  20.0                                2.1   \n",
       "3                                  22.9                                2.6   \n",
       "4                                  18.4                                1.9   \n",
       "\n",
       "   Income - Household net adjusted disposable income in usd  \\\n",
       "0                                            37433.0          \n",
       "1                                            37001.0          \n",
       "2                                            34884.0          \n",
       "3                                            34421.0          \n",
       "4                                                NaN          \n",
       "\n",
       "   Income - Household net wealth in usd  \\\n",
       "0                              528768.0   \n",
       "1                              309637.0   \n",
       "2                              447607.0   \n",
       "3                              478240.0   \n",
       "4                              135787.0   \n",
       "\n",
       "   Jobs - Labour market insecurity as pct  Jobs - Employment rate as pct  \\\n",
       "0                                     3.1                             73   \n",
       "1                                     2.3                             72   \n",
       "2                                     2.4                             65   \n",
       "3                                     3.8                             70   \n",
       "4                                     7.0                             56   \n",
       "\n",
       "   Jobs - Long-term unemployment rate as pct  Jobs - Personal earnings in usd  \\\n",
       "0                                        1.0                          55206.0   \n",
       "1                                        1.3                          53132.0   \n",
       "2                                        2.3                          54327.0   \n",
       "3                                        0.5                          55342.0   \n",
       "4                                        NaN                          26729.0   \n",
       "\n",
       "   ...  Environment - Water quality as pct  \\\n",
       "0  ...                                  92   \n",
       "1  ...                                  92   \n",
       "2  ...                                  79   \n",
       "3  ...                                  90   \n",
       "4  ...                                  62   \n",
       "\n",
       "   Civic Engagement - Stakeholder engagement for developing regulations as avg score  \\\n",
       "0                                                2.7                                   \n",
       "1                                                1.3                                   \n",
       "2                                                2.0                                   \n",
       "3                                                2.9                                   \n",
       "4                                                1.3                                   \n",
       "\n",
       "   Civic Engagement - Voter turnout as pct  Health - Life expectancy in yrs  \\\n",
       "0                                       92                             83.0   \n",
       "1                                       76                             82.0   \n",
       "2                                       88                             82.1   \n",
       "3                                       68                             82.1   \n",
       "4                                       47                             80.6   \n",
       "\n",
       "   Health - Self-reported health as pct  \\\n",
       "0                                  85.0   \n",
       "1                                  71.0   \n",
       "2                                  74.0   \n",
       "3                                  89.0   \n",
       "4                                  60.0   \n",
       "\n",
       "   Life Satisfaction - Life satisfaction as avg score  \\\n",
       "0                                                7.1    \n",
       "1                                                7.2    \n",
       "2                                                6.8    \n",
       "3                                                7.0    \n",
       "4                                                6.2    \n",
       "\n",
       "   Safety - Feeling safe walking alone at night as pct  \\\n",
       "0                                                 67     \n",
       "1                                                 86     \n",
       "2                                                 56     \n",
       "3                                                 78     \n",
       "4                                                 41     \n",
       "\n",
       "   Safety - Homicide rate as rat  \\\n",
       "0                            0.9   \n",
       "1                            0.5   \n",
       "2                            1.1   \n",
       "3                            1.2   \n",
       "4                            2.4   \n",
       "\n",
       "   Work-Life Balance - Employees working very long hours as pct  \\\n",
       "0                                               12.5              \n",
       "1                                                5.3              \n",
       "2                                                4.3              \n",
       "3                                                3.3              \n",
       "4                                                7.7              \n",
       "\n",
       "   Work-Life Balance - Time devoted to leisure and personal care as hrs  \n",
       "0                                              14.36                     \n",
       "1                                              14.51                     \n",
       "2                                              15.52                     \n",
       "3                                              14.57                     \n",
       "4                                                NaN                     \n",
       "\n",
       "[5 rows x 25 columns]"
      ]
     },
     "execution_count": 3,
     "metadata": {},
     "output_type": "execute_result"
    }
   ],
   "source": [
    "df.head()"
   ]
  },
  {
   "cell_type": "markdown",
   "id": "66acac7e",
   "metadata": {},
   "source": [
    "# 3. Checking for Missing Data\n",
    "\n",
    "From a very brief analysis of the data, it becomes evident that there is missing data. As such, our first task at hand will be to handle this missing data. \n",
    "\n",
    "Missing data can skew results and misguide interpretations, and it is essential that this missing data is handled, either through imputation or omission."
   ]
  },
  {
   "cell_type": "code",
   "execution_count": 4,
   "id": "e3d128f4",
   "metadata": {
    "tags": []
   },
   "outputs": [
    {
     "data": {
      "text/plain": [
       "Country                                                                               0\n",
       "Housing - Dwellings without basic facilities as pct                                   3\n",
       "Housing - Housing expenditure as pct                                                  4\n",
       "Housing - Rooms per person as rat                                                     3\n",
       "Income - Household net adjusted disposable income in usd                              6\n",
       "Income - Household net wealth in usd                                                 12\n",
       "Jobs - Labour market insecurity as pct                                                7\n",
       "Jobs - Employment rate as pct                                                         0\n",
       "Jobs - Long-term unemployment rate as pct                                             2\n",
       "Jobs - Personal earnings in usd                                                       6\n",
       "Community - Quality of support network as pct                                         0\n",
       "Education - Educational attainment as pct                                             1\n",
       "Education - Student skills as avg score                                               2\n",
       "Education - Years in education in yrs                                                 2\n",
       "Environment - Air pollution in ugm3                                                   0\n",
       "Environment - Water quality as pct                                                    0\n",
       "Civic Engagement - Stakeholder engagement for developing regulations as avg score     2\n",
       "Civic Engagement - Voter turnout as pct                                               0\n",
       "Health - Life expectancy in yrs                                                       0\n",
       "Health - Self-reported health as pct                                                  2\n",
       "Life Satisfaction - Life satisfaction as avg score                                    0\n",
       "Safety - Feeling safe walking alone at night as pct                                   0\n",
       "Safety - Homicide rate as rat                                                         0\n",
       "Work-Life Balance - Employees working very long hours as pct                          2\n",
       "Work-Life Balance - Time devoted to leisure and personal care as hrs                 19\n",
       "dtype: int64"
      ]
     },
     "execution_count": 4,
     "metadata": {},
     "output_type": "execute_result"
    }
   ],
   "source": [
    "missing_values = df.isnull().sum()\n",
    "\n",
    "missing_values"
   ]
  },
  {
   "cell_type": "markdown",
   "id": "429f67c9",
   "metadata": {},
   "source": [
    "Having observed that several of the columns in the dataset have missing data, we need to make a decision regarding there retention or removal. Given that missing data is evident in many of the columns, removing such a high number of missing data could potentially impact the data's integrity and overall effectiveness. \n",
    "\n",
    "However, the presence of such a high level of missing data cannot be ignored. To proceed with these columns, we must address the gaps in data. \n",
    "\n",
    "To begin, we will impute the missing values for columns with less than 20% missing data using the median. This is done as a safety check, as using the median for imputation is only effective if the vast majority of the data is present, i.e., less than 20% missing data."
   ]
  },
  {
   "cell_type": "markdown",
   "id": "c8bf5638-b6bc-4f7a-a2c6-505d46175417",
   "metadata": {},
   "source": [
    "#### Imputation Using Median"
   ]
  },
  {
   "cell_type": "code",
   "execution_count": 5,
   "id": "a9148206",
   "metadata": {
    "tags": []
   },
   "outputs": [],
   "source": [
    "threshold = 0.2 * len(df)\n",
    "\n",
    "for column in df.columns:\n",
    "    if 0 < missing_values[column] < threshold:\n",
    "        df[column].fillna(df[column].median(), inplace=True)"
   ]
  },
  {
   "cell_type": "code",
   "execution_count": 6,
   "id": "ffaaf7b4",
   "metadata": {
    "tags": []
   },
   "outputs": [
    {
     "data": {
      "text/plain": [
       "Country                                                                               0\n",
       "Housing - Dwellings without basic facilities as pct                                   0\n",
       "Housing - Housing expenditure as pct                                                  0\n",
       "Housing - Rooms per person as rat                                                     0\n",
       "Income - Household net adjusted disposable income in usd                              0\n",
       "Income - Household net wealth in usd                                                 12\n",
       "Jobs - Labour market insecurity as pct                                                0\n",
       "Jobs - Employment rate as pct                                                         0\n",
       "Jobs - Long-term unemployment rate as pct                                             0\n",
       "Jobs - Personal earnings in usd                                                       0\n",
       "Community - Quality of support network as pct                                         0\n",
       "Education - Educational attainment as pct                                             0\n",
       "Education - Student skills as avg score                                               0\n",
       "Education - Years in education in yrs                                                 0\n",
       "Environment - Air pollution in ugm3                                                   0\n",
       "Environment - Water quality as pct                                                    0\n",
       "Civic Engagement - Stakeholder engagement for developing regulations as avg score     0\n",
       "Civic Engagement - Voter turnout as pct                                               0\n",
       "Health - Life expectancy in yrs                                                       0\n",
       "Health - Self-reported health as pct                                                  0\n",
       "Life Satisfaction - Life satisfaction as avg score                                    0\n",
       "Safety - Feeling safe walking alone at night as pct                                   0\n",
       "Safety - Homicide rate as rat                                                         0\n",
       "Work-Life Balance - Employees working very long hours as pct                          0\n",
       "Work-Life Balance - Time devoted to leisure and personal care as hrs                 19\n",
       "dtype: int64"
      ]
     },
     "execution_count": 6,
     "metadata": {},
     "output_type": "execute_result"
    }
   ],
   "source": [
    "df.isnull().sum()"
   ]
  },
  {
   "cell_type": "markdown",
   "id": "cc438a68",
   "metadata": {},
   "source": [
    "The imputation has been successful for most of the columns with less than 20% missing data. However, it seems that the imputation did not work for all. As such, we will further investigate these columns.\n",
    "\n",
    "This will be done by identifying the columns with more than 20% missing data."
   ]
  },
  {
   "cell_type": "code",
   "execution_count": 6,
   "id": "3ebdbff2",
   "metadata": {
    "tags": []
   },
   "outputs": [
    {
     "data": {
      "text/plain": [
       "Income - Household net wealth in usd                                    12\n",
       "Work-Life Balance - Time devoted to leisure and personal care as hrs    19\n",
       "dtype: int64"
      ]
     },
     "execution_count": 6,
     "metadata": {},
     "output_type": "execute_result"
    }
   ],
   "source": [
    "columns_above_threshold = missing_values[missing_values > threshold]\n",
    "\n",
    "columns_above_threshold"
   ]
  },
  {
   "cell_type": "markdown",
   "id": "1babd7ff",
   "metadata": {},
   "source": [
    "The columns with more than 20% missing data are:\n",
    "- Income - Household net wealth in usd\n",
    "- Work-Life Balance - Time devoted to leisure and personal care as hrs\n",
    "\n",
    "For imputing columns with a signifigant amount of missing data, it is best practice to not simply use median, as it can effect the data's integrity. As such, the utilisation of more advanced imputation methods are necessary. In this case, we will utilise KNN Imputation. This method uses the K-nearest neighbours algorithm to impute missing values based on the similarity of rows. It offers a more advanced approach by taking into account a wide array of variables within the dataset to impute the data, providing a better solution when compared to using median, when missing data is more prominent."
   ]
  },
  {
   "cell_type": "markdown",
   "id": "57100c03-0871-42e5-ad62-12968f2a698e",
   "metadata": {},
   "source": [
    "#### Imputation using K-Nearest Neighbours"
   ]
  },
  {
   "cell_type": "code",
   "execution_count": 7,
   "id": "323cd37e",
   "metadata": {
    "tags": []
   },
   "outputs": [
    {
     "name": "stdout",
     "output_type": "stream",
     "text": [
      "Income - Household net wealth in usd                                    0\n",
      "Work-Life Balance - Time devoted to leisure and personal care as hrs    0\n",
      "dtype: int64\n"
     ]
    }
   ],
   "source": [
    "from sklearn.impute import KNNImputer\n",
    "\n",
    "knn_imputer = KNNImputer(n_neighbors=5)\n",
    "\n",
    "df[columns_above_threshold.index] = knn_imputer.fit_transform(df[columns_above_threshold.index])\n",
    "\n",
    "print(df[columns_above_threshold.index].isnull().sum())"
   ]
  },
  {
   "cell_type": "markdown",
   "id": "639436d4",
   "metadata": {},
   "source": [
    "The missing values in the columns \"Income - Household net wealth in usd\" and \"Work-Life Balance - Time devoted to leisure and personal care as hrs\" have been successfully imputed using the KNN imputation method.\n",
    "\n",
    "With this, it is now possible to proceed to further analysis in the form of visualisations, helping us to understand the data distribution.\n"
   ]
  },
  {
   "cell_type": "markdown",
   "id": "75d5aad4-e286-4ab8-a268-d3ff8ac593ef",
   "metadata": {},
   "source": [
    "# 4. Data Understanding Continued"
   ]
  },
  {
   "cell_type": "code",
   "execution_count": 9,
   "id": "4615beb7",
   "metadata": {
    "tags": []
   },
   "outputs": [
    {
     "data": {
      "text/html": [
       "\n",
       "<style>\n",
       "  #altair-viz-81a699be5e404906b143f7f254a545b6.vega-embed {\n",
       "    width: 100%;\n",
       "    display: flex;\n",
       "  }\n",
       "\n",
       "  #altair-viz-81a699be5e404906b143f7f254a545b6.vega-embed details,\n",
       "  #altair-viz-81a699be5e404906b143f7f254a545b6.vega-embed details summary {\n",
       "    position: relative;\n",
       "  }\n",
       "</style>\n",
       "<div id=\"altair-viz-81a699be5e404906b143f7f254a545b6\"></div>\n",
       "<script type=\"text/javascript\">\n",
       "  var VEGA_DEBUG = (typeof VEGA_DEBUG == \"undefined\") ? {} : VEGA_DEBUG;\n",
       "  (function(spec, embedOpt){\n",
       "    let outputDiv = document.currentScript.previousElementSibling;\n",
       "    if (outputDiv.id !== \"altair-viz-81a699be5e404906b143f7f254a545b6\") {\n",
       "      outputDiv = document.getElementById(\"altair-viz-81a699be5e404906b143f7f254a545b6\");\n",
       "    }\n",
       "    const paths = {\n",
       "      \"vega\": \"https://cdn.jsdelivr.net/npm/vega@5?noext\",\n",
       "      \"vega-lib\": \"https://cdn.jsdelivr.net/npm/vega-lib?noext\",\n",
       "      \"vega-lite\": \"https://cdn.jsdelivr.net/npm/vega-lite@5.15.1?noext\",\n",
       "      \"vega-embed\": \"https://cdn.jsdelivr.net/npm/vega-embed@6?noext\",\n",
       "    };\n",
       "\n",
       "    function maybeLoadScript(lib, version) {\n",
       "      var key = `${lib.replace(\"-\", \"\")}_version`;\n",
       "      return (VEGA_DEBUG[key] == version) ?\n",
       "        Promise.resolve(paths[lib]) :\n",
       "        new Promise(function(resolve, reject) {\n",
       "          var s = document.createElement('script');\n",
       "          document.getElementsByTagName(\"head\")[0].appendChild(s);\n",
       "          s.async = true;\n",
       "          s.onload = () => {\n",
       "            VEGA_DEBUG[key] = version;\n",
       "            return resolve(paths[lib]);\n",
       "          };\n",
       "          s.onerror = () => reject(`Error loading script: ${paths[lib]}`);\n",
       "          s.src = paths[lib];\n",
       "        });\n",
       "    }\n",
       "\n",
       "    function showError(err) {\n",
       "      outputDiv.innerHTML = `<div class=\"error\" style=\"color:red;\">${err}</div>`;\n",
       "      throw err;\n",
       "    }\n",
       "\n",
       "    function displayChart(vegaEmbed) {\n",
       "      vegaEmbed(outputDiv, spec, embedOpt)\n",
       "        .catch(err => showError(`Javascript Error: ${err.message}<br>This usually means there's a typo in your chart specification. See the javascript console for the full traceback.`));\n",
       "    }\n",
       "\n",
       "    if(typeof define === \"function\" && define.amd) {\n",
       "      requirejs.config({paths});\n",
       "      require([\"vega-embed\"], displayChart, err => showError(`Error loading script: ${err.message}`));\n",
       "    } else {\n",
       "      maybeLoadScript(\"vega\", \"5\")\n",
       "        .then(() => maybeLoadScript(\"vega-lite\", \"5.15.1\"))\n",
       "        .then(() => maybeLoadScript(\"vega-embed\", \"6\"))\n",
       "        .catch(showError)\n",
       "        .then(() => displayChart(vegaEmbed));\n",
       "    }\n",
       "  })({\"config\": {\"view\": {\"continuousWidth\": 300, \"continuousHeight\": 300}}, \"vconcat\": [{\"mark\": {\"type\": \"bar\"}, \"encoding\": {\"x\": {\"bin\": {\"maxbins\": 50}, \"field\": \"Country\", \"title\": \"Country\", \"type\": \"nominal\"}, \"y\": {\"aggregate\": \"count\", \"type\": \"quantitative\"}}, \"height\": 200, \"title\": \"Distribution of Country\", \"width\": 400}, {\"mark\": {\"type\": \"bar\"}, \"encoding\": {\"x\": {\"bin\": {\"maxbins\": 50}, \"field\": \"Housing - Dwellings without basic facilities as pct\", \"title\": \"Housing - Dwellings without basic facilities as pct\", \"type\": \"quantitative\"}, \"y\": {\"aggregate\": \"count\", \"type\": \"quantitative\"}}, \"height\": 200, \"title\": \"Distribution of Housing - Dwellings without basic facilities as pct\", \"width\": 400}, {\"mark\": {\"type\": \"bar\"}, \"encoding\": {\"x\": {\"bin\": {\"maxbins\": 50}, \"field\": \"Housing - Housing expenditure as pct\", \"title\": \"Housing - Housing expenditure as pct\", \"type\": \"quantitative\"}, \"y\": {\"aggregate\": \"count\", \"type\": \"quantitative\"}}, \"height\": 200, \"title\": \"Distribution of Housing - Housing expenditure as pct\", \"width\": 400}, {\"mark\": {\"type\": \"bar\"}, \"encoding\": {\"x\": {\"bin\": {\"maxbins\": 50}, \"field\": \"Housing - Rooms per person as rat\", \"title\": \"Housing - Rooms per person as rat\", \"type\": \"quantitative\"}, \"y\": {\"aggregate\": \"count\", \"type\": \"quantitative\"}}, \"height\": 200, \"title\": \"Distribution of Housing - Rooms per person as rat\", \"width\": 400}, {\"mark\": {\"type\": \"bar\"}, \"encoding\": {\"x\": {\"bin\": {\"maxbins\": 50}, \"field\": \"Income - Household net adjusted disposable income in usd\", \"title\": \"Income - Household net adjusted disposable income in usd\", \"type\": \"quantitative\"}, \"y\": {\"aggregate\": \"count\", \"type\": \"quantitative\"}}, \"height\": 200, \"title\": \"Distribution of Income - Household net adjusted disposable income in usd\", \"width\": 400}, {\"mark\": {\"type\": \"bar\"}, \"encoding\": {\"x\": {\"bin\": {\"maxbins\": 50}, \"field\": \"Income - Household net wealth in usd\", \"title\": \"Income - Household net wealth in usd\", \"type\": \"quantitative\"}, \"y\": {\"aggregate\": \"count\", \"type\": \"quantitative\"}}, \"height\": 200, \"title\": \"Distribution of Income - Household net wealth in usd\", \"width\": 400}, {\"mark\": {\"type\": \"bar\"}, \"encoding\": {\"x\": {\"bin\": {\"maxbins\": 50}, \"field\": \"Jobs - Labour market insecurity as pct\", \"title\": \"Jobs - Labour market insecurity as pct\", \"type\": \"quantitative\"}, \"y\": {\"aggregate\": \"count\", \"type\": \"quantitative\"}}, \"height\": 200, \"title\": \"Distribution of Jobs - Labour market insecurity as pct\", \"width\": 400}, {\"mark\": {\"type\": \"bar\"}, \"encoding\": {\"x\": {\"bin\": {\"maxbins\": 50}, \"field\": \"Jobs - Employment rate as pct\", \"title\": \"Jobs - Employment rate as pct\", \"type\": \"quantitative\"}, \"y\": {\"aggregate\": \"count\", \"type\": \"quantitative\"}}, \"height\": 200, \"title\": \"Distribution of Jobs - Employment rate as pct\", \"width\": 400}, {\"mark\": {\"type\": \"bar\"}, \"encoding\": {\"x\": {\"bin\": {\"maxbins\": 50}, \"field\": \"Jobs - Long-term unemployment rate as pct\", \"title\": \"Jobs - Long-term unemployment rate as pct\", \"type\": \"quantitative\"}, \"y\": {\"aggregate\": \"count\", \"type\": \"quantitative\"}}, \"height\": 200, \"title\": \"Distribution of Jobs - Long-term unemployment rate as pct\", \"width\": 400}, {\"mark\": {\"type\": \"bar\"}, \"encoding\": {\"x\": {\"bin\": {\"maxbins\": 50}, \"field\": \"Jobs - Personal earnings in usd\", \"title\": \"Jobs - Personal earnings in usd\", \"type\": \"quantitative\"}, \"y\": {\"aggregate\": \"count\", \"type\": \"quantitative\"}}, \"height\": 200, \"title\": \"Distribution of Jobs - Personal earnings in usd\", \"width\": 400}, {\"mark\": {\"type\": \"bar\"}, \"encoding\": {\"x\": {\"bin\": {\"maxbins\": 50}, \"field\": \"Community - Quality of support network as pct\", \"title\": \"Community - Quality of support network as pct\", \"type\": \"quantitative\"}, \"y\": {\"aggregate\": \"count\", \"type\": \"quantitative\"}}, \"height\": 200, \"title\": \"Distribution of Community - Quality of support network as pct\", \"width\": 400}, {\"mark\": {\"type\": \"bar\"}, \"encoding\": {\"x\": {\"bin\": {\"maxbins\": 50}, \"field\": \"Education - Educational attainment as pct\", \"title\": \"Education - Educational attainment as pct\", \"type\": \"quantitative\"}, \"y\": {\"aggregate\": \"count\", \"type\": \"quantitative\"}}, \"height\": 200, \"title\": \"Distribution of Education - Educational attainment as pct\", \"width\": 400}, {\"mark\": {\"type\": \"bar\"}, \"encoding\": {\"x\": {\"bin\": {\"maxbins\": 50}, \"field\": \"Education - Student skills as avg score\", \"title\": \"Education - Student skills as avg score\", \"type\": \"quantitative\"}, \"y\": {\"aggregate\": \"count\", \"type\": \"quantitative\"}}, \"height\": 200, \"title\": \"Distribution of Education - Student skills as avg score\", \"width\": 400}, {\"mark\": {\"type\": \"bar\"}, \"encoding\": {\"x\": {\"bin\": {\"maxbins\": 50}, \"field\": \"Education - Years in education in yrs\", \"title\": \"Education - Years in education in yrs\", \"type\": \"quantitative\"}, \"y\": {\"aggregate\": \"count\", \"type\": \"quantitative\"}}, \"height\": 200, \"title\": \"Distribution of Education - Years in education in yrs\", \"width\": 400}, {\"mark\": {\"type\": \"bar\"}, \"encoding\": {\"x\": {\"bin\": {\"maxbins\": 50}, \"field\": \"Environment - Air pollution in ugm3\", \"title\": \"Environment - Air pollution in ugm3\", \"type\": \"quantitative\"}, \"y\": {\"aggregate\": \"count\", \"type\": \"quantitative\"}}, \"height\": 200, \"title\": \"Distribution of Environment - Air pollution in ugm3\", \"width\": 400}, {\"mark\": {\"type\": \"bar\"}, \"encoding\": {\"x\": {\"bin\": {\"maxbins\": 50}, \"field\": \"Environment - Water quality as pct\", \"title\": \"Environment - Water quality as pct\", \"type\": \"quantitative\"}, \"y\": {\"aggregate\": \"count\", \"type\": \"quantitative\"}}, \"height\": 200, \"title\": \"Distribution of Environment - Water quality as pct\", \"width\": 400}, {\"mark\": {\"type\": \"bar\"}, \"encoding\": {\"x\": {\"bin\": {\"maxbins\": 50}, \"field\": \"Civic Engagement - Stakeholder engagement for developing regulations as avg score\", \"title\": \"Civic Engagement - Stakeholder engagement for developing regulations as avg score\", \"type\": \"quantitative\"}, \"y\": {\"aggregate\": \"count\", \"type\": \"quantitative\"}}, \"height\": 200, \"title\": \"Distribution of Civic Engagement - Stakeholder engagement for developing regulations as avg score\", \"width\": 400}, {\"mark\": {\"type\": \"bar\"}, \"encoding\": {\"x\": {\"bin\": {\"maxbins\": 50}, \"field\": \"Civic Engagement - Voter turnout as pct\", \"title\": \"Civic Engagement - Voter turnout as pct\", \"type\": \"quantitative\"}, \"y\": {\"aggregate\": \"count\", \"type\": \"quantitative\"}}, \"height\": 200, \"title\": \"Distribution of Civic Engagement - Voter turnout as pct\", \"width\": 400}, {\"mark\": {\"type\": \"bar\"}, \"encoding\": {\"x\": {\"bin\": {\"maxbins\": 50}, \"field\": \"Health - Life expectancy in yrs\", \"title\": \"Health - Life expectancy in yrs\", \"type\": \"quantitative\"}, \"y\": {\"aggregate\": \"count\", \"type\": \"quantitative\"}}, \"height\": 200, \"title\": \"Distribution of Health - Life expectancy in yrs\", \"width\": 400}, {\"mark\": {\"type\": \"bar\"}, \"encoding\": {\"x\": {\"bin\": {\"maxbins\": 50}, \"field\": \"Health - Self-reported health as pct\", \"title\": \"Health - Self-reported health as pct\", \"type\": \"quantitative\"}, \"y\": {\"aggregate\": \"count\", \"type\": \"quantitative\"}}, \"height\": 200, \"title\": \"Distribution of Health - Self-reported health as pct\", \"width\": 400}, {\"mark\": {\"type\": \"bar\"}, \"encoding\": {\"x\": {\"bin\": {\"maxbins\": 50}, \"field\": \"Life Satisfaction - Life satisfaction as avg score\", \"title\": \"Life Satisfaction - Life satisfaction as avg score\", \"type\": \"quantitative\"}, \"y\": {\"aggregate\": \"count\", \"type\": \"quantitative\"}}, \"height\": 200, \"title\": \"Distribution of Life Satisfaction - Life satisfaction as avg score\", \"width\": 400}, {\"mark\": {\"type\": \"bar\"}, \"encoding\": {\"x\": {\"bin\": {\"maxbins\": 50}, \"field\": \"Safety - Feeling safe walking alone at night as pct\", \"title\": \"Safety - Feeling safe walking alone at night as pct\", \"type\": \"quantitative\"}, \"y\": {\"aggregate\": \"count\", \"type\": \"quantitative\"}}, \"height\": 200, \"title\": \"Distribution of Safety - Feeling safe walking alone at night as pct\", \"width\": 400}, {\"mark\": {\"type\": \"bar\"}, \"encoding\": {\"x\": {\"bin\": {\"maxbins\": 50}, \"field\": \"Safety - Homicide rate as rat\", \"title\": \"Safety - Homicide rate as rat\", \"type\": \"quantitative\"}, \"y\": {\"aggregate\": \"count\", \"type\": \"quantitative\"}}, \"height\": 200, \"title\": \"Distribution of Safety - Homicide rate as rat\", \"width\": 400}, {\"mark\": {\"type\": \"bar\"}, \"encoding\": {\"x\": {\"bin\": {\"maxbins\": 50}, \"field\": \"Work-Life Balance - Employees working very long hours as pct\", \"title\": \"Work-Life Balance - Employees working very long hours as pct\", \"type\": \"quantitative\"}, \"y\": {\"aggregate\": \"count\", \"type\": \"quantitative\"}}, \"height\": 200, \"title\": \"Distribution of Work-Life Balance - Employees working very long hours as pct\", \"width\": 400}, {\"mark\": {\"type\": \"bar\"}, \"encoding\": {\"x\": {\"bin\": {\"maxbins\": 50}, \"field\": \"Work-Life Balance - Time devoted to leisure and personal care as hrs\", \"title\": \"Work-Life Balance - Time devoted to leisure and personal care as hrs\", \"type\": \"quantitative\"}, \"y\": {\"aggregate\": \"count\", \"type\": \"quantitative\"}}, \"height\": 200, \"title\": \"Distribution of Work-Life Balance - Time devoted to leisure and personal care as hrs\", \"width\": 400}], \"data\": {\"name\": \"data-3b2ccd8034d828823c0e57cc38fc234f\"}, \"$schema\": \"https://vega.github.io/schema/vega-lite/v5.15.1.json\", \"datasets\": {\"data-3b2ccd8034d828823c0e57cc38fc234f\": [{\"Country\": \"Australia\", \"Housing - Dwellings without basic facilities as pct\": 0.6499999999999999, \"Housing - Housing expenditure as pct\": 19.4, \"Housing - Rooms per person as rat\": 1.7, \"Income - Household net adjusted disposable income in usd\": 37433.0, \"Income - Household net wealth in usd\": 528768.0, \"Jobs - Labour market insecurity as pct\": 3.1, \"Jobs - Employment rate as pct\": 73, \"Jobs - Long-term unemployment rate as pct\": 1.0, \"Jobs - Personal earnings in usd\": 55206.0, \"Community - Quality of support network as pct\": 93, \"Education - Educational attainment as pct\": 84.0, \"Education - Student skills as avg score\": 499.0, \"Education - Years in education in yrs\": 20.0, \"Environment - Air pollution in ugm3\": 6.7, \"Environment - Water quality as pct\": 92, \"Civic Engagement - Stakeholder engagement for developing regulations as avg score\": 2.7, \"Civic Engagement - Voter turnout as pct\": 92, \"Health - Life expectancy in yrs\": 83.0, \"Health - Self-reported health as pct\": 85.0, \"Life Satisfaction - Life satisfaction as avg score\": 7.1, \"Safety - Feeling safe walking alone at night as pct\": 67, \"Safety - Homicide rate as rat\": 0.9, \"Work-Life Balance - Employees working very long hours as pct\": 12.5, \"Work-Life Balance - Time devoted to leisure and personal care as hrs\": 14.36}, {\"Country\": \"Austria\", \"Housing - Dwellings without basic facilities as pct\": 0.8, \"Housing - Housing expenditure as pct\": 20.8, \"Housing - Rooms per person as rat\": 1.6, \"Income - Household net adjusted disposable income in usd\": 37001.0, \"Income - Household net wealth in usd\": 309637.0, \"Jobs - Labour market insecurity as pct\": 2.3, \"Jobs - Employment rate as pct\": 72, \"Jobs - Long-term unemployment rate as pct\": 1.3, \"Jobs - Personal earnings in usd\": 53132.0, \"Community - Quality of support network as pct\": 92, \"Education - Educational attainment as pct\": 86.0, \"Education - Student skills as avg score\": 491.0, \"Education - Years in education in yrs\": 17.0, \"Environment - Air pollution in ugm3\": 12.2, \"Environment - Water quality as pct\": 92, \"Civic Engagement - Stakeholder engagement for developing regulations as avg score\": 1.3, \"Civic Engagement - Voter turnout as pct\": 76, \"Health - Life expectancy in yrs\": 82.0, \"Health - Self-reported health as pct\": 71.0, \"Life Satisfaction - Life satisfaction as avg score\": 7.2, \"Safety - Feeling safe walking alone at night as pct\": 86, \"Safety - Homicide rate as rat\": 0.5, \"Work-Life Balance - Employees working very long hours as pct\": 5.3, \"Work-Life Balance - Time devoted to leisure and personal care as hrs\": 14.51}, {\"Country\": \"Belgium\", \"Housing - Dwellings without basic facilities as pct\": 0.7, \"Housing - Housing expenditure as pct\": 20.0, \"Housing - Rooms per person as rat\": 2.1, \"Income - Household net adjusted disposable income in usd\": 34884.0, \"Income - Household net wealth in usd\": 447607.0, \"Jobs - Labour market insecurity as pct\": 2.4, \"Jobs - Employment rate as pct\": 65, \"Jobs - Long-term unemployment rate as pct\": 2.3, \"Jobs - Personal earnings in usd\": 54327.0, \"Community - Quality of support network as pct\": 90, \"Education - Educational attainment as pct\": 80.0, \"Education - Student skills as avg score\": 500.0, \"Education - Years in education in yrs\": 19.0, \"Environment - Air pollution in ugm3\": 12.8, \"Environment - Water quality as pct\": 79, \"Civic Engagement - Stakeholder engagement for developing regulations as avg score\": 2.0, \"Civic Engagement - Voter turnout as pct\": 88, \"Health - Life expectancy in yrs\": 82.1, \"Health - Self-reported health as pct\": 74.0, \"Life Satisfaction - Life satisfaction as avg score\": 6.8, \"Safety - Feeling safe walking alone at night as pct\": 56, \"Safety - Homicide rate as rat\": 1.1, \"Work-Life Balance - Employees working very long hours as pct\": 4.3, \"Work-Life Balance - Time devoted to leisure and personal care as hrs\": 15.52}, {\"Country\": \"Canada\", \"Housing - Dwellings without basic facilities as pct\": 0.2, \"Housing - Housing expenditure as pct\": 22.9, \"Housing - Rooms per person as rat\": 2.6, \"Income - Household net adjusted disposable income in usd\": 34421.0, \"Income - Household net wealth in usd\": 478240.0, \"Jobs - Labour market insecurity as pct\": 3.8, \"Jobs - Employment rate as pct\": 70, \"Jobs - Long-term unemployment rate as pct\": 0.5, \"Jobs - Personal earnings in usd\": 55342.0, \"Community - Quality of support network as pct\": 93, \"Education - Educational attainment as pct\": 92.0, \"Education - Student skills as avg score\": 517.0, \"Education - Years in education in yrs\": 17.0, \"Environment - Air pollution in ugm3\": 7.1, \"Environment - Water quality as pct\": 90, \"Civic Engagement - Stakeholder engagement for developing regulations as avg score\": 2.9, \"Civic Engagement - Voter turnout as pct\": 68, \"Health - Life expectancy in yrs\": 82.1, \"Health - Self-reported health as pct\": 89.0, \"Life Satisfaction - Life satisfaction as avg score\": 7.0, \"Safety - Feeling safe walking alone at night as pct\": 78, \"Safety - Homicide rate as rat\": 1.2, \"Work-Life Balance - Employees working very long hours as pct\": 3.3, \"Work-Life Balance - Time devoted to leisure and personal care as hrs\": 14.57}, {\"Country\": \"Chile\", \"Housing - Dwellings without basic facilities as pct\": 9.4, \"Housing - Housing expenditure as pct\": 18.4, \"Housing - Rooms per person as rat\": 1.9, \"Income - Household net adjusted disposable income in usd\": 29431.0, \"Income - Household net wealth in usd\": 135787.0, \"Jobs - Labour market insecurity as pct\": 7.0, \"Jobs - Employment rate as pct\": 56, \"Jobs - Long-term unemployment rate as pct\": 1.2, \"Jobs - Personal earnings in usd\": 26729.0, \"Community - Quality of support network as pct\": 88, \"Education - Educational attainment as pct\": 67.0, \"Education - Student skills as avg score\": 438.0, \"Education - Years in education in yrs\": 17.0, \"Environment - Air pollution in ugm3\": 23.4, \"Environment - Water quality as pct\": 62, \"Civic Engagement - Stakeholder engagement for developing regulations as avg score\": 1.3, \"Civic Engagement - Voter turnout as pct\": 47, \"Health - Life expectancy in yrs\": 80.6, \"Health - Self-reported health as pct\": 60.0, \"Life Satisfaction - Life satisfaction as avg score\": 6.2, \"Safety - Feeling safe walking alone at night as pct\": 41, \"Safety - Homicide rate as rat\": 2.4, \"Work-Life Balance - Employees working very long hours as pct\": 7.7, \"Work-Life Balance - Time devoted to leisure and personal care as hrs\": 14.988}, {\"Country\": \"Colombia\", \"Housing - Dwellings without basic facilities as pct\": 12.3, \"Housing - Housing expenditure as pct\": 20.1, \"Housing - Rooms per person as rat\": 1.0, \"Income - Household net adjusted disposable income in usd\": 29431.0, \"Income - Household net wealth in usd\": 323959.6206896552, \"Jobs - Labour market insecurity as pct\": 3.9, \"Jobs - Employment rate as pct\": 58, \"Jobs - Long-term unemployment rate as pct\": 1.1, \"Jobs - Personal earnings in usd\": 45269.0, \"Community - Quality of support network as pct\": 80, \"Education - Educational attainment as pct\": 59.0, \"Education - Student skills as avg score\": 406.0, \"Education - Years in education in yrs\": 14.0, \"Environment - Air pollution in ugm3\": 22.6, \"Environment - Water quality as pct\": 82, \"Civic Engagement - Stakeholder engagement for developing regulations as avg score\": 1.4, \"Civic Engagement - Voter turnout as pct\": 53, \"Health - Life expectancy in yrs\": 76.7, \"Health - Self-reported health as pct\": 80.0, \"Life Satisfaction - Life satisfaction as avg score\": 5.7, \"Safety - Feeling safe walking alone at night as pct\": 50, \"Safety - Homicide rate as rat\": 23.1, \"Work-Life Balance - Employees working very long hours as pct\": 23.7, \"Work-Life Balance - Time devoted to leisure and personal care as hrs\": 15.069090909090908}, {\"Country\": \"Costa Rica\", \"Housing - Dwellings without basic facilities as pct\": 2.3, \"Housing - Housing expenditure as pct\": 17.0, \"Housing - Rooms per person as rat\": 1.2, \"Income - Household net adjusted disposable income in usd\": 16517.0, \"Income - Household net wealth in usd\": 323959.6206896552, \"Jobs - Labour market insecurity as pct\": 3.9, \"Jobs - Employment rate as pct\": 55, \"Jobs - Long-term unemployment rate as pct\": 1.5, \"Jobs - Personal earnings in usd\": 45269.0, \"Community - Quality of support network as pct\": 82, \"Education - Educational attainment as pct\": 43.0, \"Education - Student skills as avg score\": 415.0, \"Education - Years in education in yrs\": 18.0, \"Environment - Air pollution in ugm3\": 17.5, \"Environment - Water quality as pct\": 87, \"Civic Engagement - Stakeholder engagement for developing regulations as avg score\": 1.8, \"Civic Engagement - Voter turnout as pct\": 66, \"Health - Life expectancy in yrs\": 80.5, \"Health - Self-reported health as pct\": 73.0, \"Life Satisfaction - Life satisfaction as avg score\": 6.3, \"Safety - Feeling safe walking alone at night as pct\": 47, \"Safety - Homicide rate as rat\": 10.0, \"Work-Life Balance - Employees working very long hours as pct\": 22.0, \"Work-Life Balance - Time devoted to leisure and personal care as hrs\": 15.069090909090908}, {\"Country\": \"Czech Republic\", \"Housing - Dwellings without basic facilities as pct\": 0.5, \"Housing - Housing expenditure as pct\": 23.4, \"Housing - Rooms per person as rat\": 1.5, \"Income - Household net adjusted disposable income in usd\": 26664.0, \"Income - Household net wealth in usd\": 323959.6206896552, \"Jobs - Labour market insecurity as pct\": 2.3, \"Jobs - Employment rate as pct\": 74, \"Jobs - Long-term unemployment rate as pct\": 0.6, \"Jobs - Personal earnings in usd\": 29885.0, \"Community - Quality of support network as pct\": 96, \"Education - Educational attainment as pct\": 94.0, \"Education - Student skills as avg score\": 495.0, \"Education - Years in education in yrs\": 18.0, \"Environment - Air pollution in ugm3\": 17.0, \"Environment - Water quality as pct\": 89, \"Civic Engagement - Stakeholder engagement for developing regulations as avg score\": 1.6, \"Civic Engagement - Voter turnout as pct\": 62, \"Health - Life expectancy in yrs\": 79.3, \"Health - Self-reported health as pct\": 62.0, \"Life Satisfaction - Life satisfaction as avg score\": 6.9, \"Safety - Feeling safe walking alone at night as pct\": 77, \"Safety - Homicide rate as rat\": 0.7, \"Work-Life Balance - Employees working very long hours as pct\": 4.5, \"Work-Life Balance - Time devoted to leisure and personal care as hrs\": 15.069090909090908}, {\"Country\": \"Denmark\", \"Housing - Dwellings without basic facilities as pct\": 0.5, \"Housing - Housing expenditure as pct\": 23.3, \"Housing - Rooms per person as rat\": 1.9, \"Income - Household net adjusted disposable income in usd\": 33774.0, \"Income - Household net wealth in usd\": 149864.0, \"Jobs - Labour market insecurity as pct\": 4.5, \"Jobs - Employment rate as pct\": 74, \"Jobs - Long-term unemployment rate as pct\": 0.9, \"Jobs - Personal earnings in usd\": 58430.0, \"Community - Quality of support network as pct\": 95, \"Education - Educational attainment as pct\": 82.0, \"Education - Student skills as avg score\": 501.0, \"Education - Years in education in yrs\": 19.0, \"Environment - Air pollution in ugm3\": 10.0, \"Environment - Water quality as pct\": 93, \"Civic Engagement - Stakeholder engagement for developing regulations as avg score\": 2.0, \"Civic Engagement - Voter turnout as pct\": 85, \"Health - Life expectancy in yrs\": 81.5, \"Health - Self-reported health as pct\": 70.0, \"Life Satisfaction - Life satisfaction as avg score\": 7.5, \"Safety - Feeling safe walking alone at night as pct\": 85, \"Safety - Homicide rate as rat\": 0.5, \"Work-Life Balance - Employees working very long hours as pct\": 1.1, \"Work-Life Balance - Time devoted to leisure and personal care as hrs\": 14.988}, {\"Country\": \"Estonia\", \"Housing - Dwellings without basic facilities as pct\": 5.7, \"Housing - Housing expenditure as pct\": 17.0, \"Housing - Rooms per person as rat\": 1.7, \"Income - Household net adjusted disposable income in usd\": 23784.0, \"Income - Household net wealth in usd\": 188627.0, \"Jobs - Labour market insecurity as pct\": 5.4, \"Jobs - Employment rate as pct\": 74, \"Jobs - Long-term unemployment rate as pct\": 1.2, \"Jobs - Personal earnings in usd\": 30720.0, \"Community - Quality of support network as pct\": 95, \"Education - Educational attainment as pct\": 91.0, \"Education - Student skills as avg score\": 526.0, \"Education - Years in education in yrs\": 18.0, \"Environment - Air pollution in ugm3\": 5.9, \"Environment - Water quality as pct\": 86, \"Civic Engagement - Stakeholder engagement for developing regulations as avg score\": 2.7, \"Civic Engagement - Voter turnout as pct\": 64, \"Health - Life expectancy in yrs\": 78.8, \"Health - Self-reported health as pct\": 57.0, \"Life Satisfaction - Life satisfaction as avg score\": 6.5, \"Safety - Feeling safe walking alone at night as pct\": 79, \"Safety - Homicide rate as rat\": 1.9, \"Work-Life Balance - Employees working very long hours as pct\": 2.2, \"Work-Life Balance - Time devoted to leisure and personal care as hrs\": 14.98}, {\"Country\": \"Finland\", \"Housing - Dwellings without basic facilities as pct\": 0.4, \"Housing - Housing expenditure as pct\": 23.1, \"Housing - Rooms per person as rat\": 1.9, \"Income - Household net adjusted disposable income in usd\": 33471.0, \"Income - Household net wealth in usd\": 230032.0, \"Jobs - Labour market insecurity as pct\": 2.2, \"Jobs - Employment rate as pct\": 72, \"Jobs - Long-term unemployment rate as pct\": 1.2, \"Jobs - Personal earnings in usd\": 46230.0, \"Community - Quality of support network as pct\": 96, \"Education - Educational attainment as pct\": 91.0, \"Education - Student skills as avg score\": 516.0, \"Education - Years in education in yrs\": 20.0, \"Environment - Air pollution in ugm3\": 5.5, \"Environment - Water quality as pct\": 97, \"Civic Engagement - Stakeholder engagement for developing regulations as avg score\": 2.2, \"Civic Engagement - Voter turnout as pct\": 69, \"Health - Life expectancy in yrs\": 82.1, \"Health - Self-reported health as pct\": 68.0, \"Life Satisfaction - Life satisfaction as avg score\": 7.9, \"Safety - Feeling safe walking alone at night as pct\": 88, \"Safety - Homicide rate as rat\": 1.2, \"Work-Life Balance - Employees working very long hours as pct\": 3.6, \"Work-Life Balance - Time devoted to leisure and personal care as hrs\": 15.17}, {\"Country\": \"France\", \"Housing - Dwellings without basic facilities as pct\": 0.5, \"Housing - Housing expenditure as pct\": 20.7, \"Housing - Rooms per person as rat\": 1.8, \"Income - Household net adjusted disposable income in usd\": 34375.0, \"Income - Household net wealth in usd\": 298639.0, \"Jobs - Labour market insecurity as pct\": 3.1, \"Jobs - Employment rate as pct\": 65, \"Jobs - Long-term unemployment rate as pct\": 2.9, \"Jobs - Personal earnings in usd\": 45581.0, \"Community - Quality of support network as pct\": 94, \"Education - Educational attainment as pct\": 81.0, \"Education - Student skills as avg score\": 494.0, \"Education - Years in education in yrs\": 17.0, \"Environment - Air pollution in ugm3\": 11.4, \"Environment - Water quality as pct\": 78, \"Civic Engagement - Stakeholder engagement for developing regulations as avg score\": 2.1, \"Civic Engagement - Voter turnout as pct\": 75, \"Health - Life expectancy in yrs\": 82.9, \"Health - Self-reported health as pct\": 67.0, \"Life Satisfaction - Life satisfaction as avg score\": 6.7, \"Safety - Feeling safe walking alone at night as pct\": 74, \"Safety - Homicide rate as rat\": 0.4, \"Work-Life Balance - Employees working very long hours as pct\": 7.7, \"Work-Life Balance - Time devoted to leisure and personal care as hrs\": 16.2}, {\"Country\": \"Germany\", \"Housing - Dwellings without basic facilities as pct\": 0.1, \"Housing - Housing expenditure as pct\": 20.0, \"Housing - Rooms per person as rat\": 1.8, \"Income - Household net adjusted disposable income in usd\": 38971.0, \"Income - Household net wealth in usd\": 304317.0, \"Jobs - Labour market insecurity as pct\": 1.4, \"Jobs - Employment rate as pct\": 77, \"Jobs - Long-term unemployment rate as pct\": 1.2, \"Jobs - Personal earnings in usd\": 53745.0, \"Community - Quality of support network as pct\": 90, \"Education - Educational attainment as pct\": 86.0, \"Education - Student skills as avg score\": 500.0, \"Education - Years in education in yrs\": 18.0, \"Environment - Air pollution in ugm3\": 12.0, \"Environment - Water quality as pct\": 91, \"Civic Engagement - Stakeholder engagement for developing regulations as avg score\": 1.8, \"Civic Engagement - Voter turnout as pct\": 76, \"Health - Life expectancy in yrs\": 81.4, \"Health - Self-reported health as pct\": 66.0, \"Life Satisfaction - Life satisfaction as avg score\": 7.3, \"Safety - Feeling safe walking alone at night as pct\": 76, \"Safety - Homicide rate as rat\": 0.4, \"Work-Life Balance - Employees working very long hours as pct\": 3.9, \"Work-Life Balance - Time devoted to leisure and personal care as hrs\": 15.62}, {\"Country\": \"Greece\", \"Housing - Dwellings without basic facilities as pct\": 0.4, \"Housing - Housing expenditure as pct\": 21.8, \"Housing - Rooms per person as rat\": 1.2, \"Income - Household net adjusted disposable income in usd\": 20791.0, \"Income - Household net wealth in usd\": 148323.0, \"Jobs - Labour market insecurity as pct\": 21.7, \"Jobs - Employment rate as pct\": 56, \"Jobs - Long-term unemployment rate as pct\": 10.8, \"Jobs - Personal earnings in usd\": 27207.0, \"Community - Quality of support network as pct\": 78, \"Education - Educational attainment as pct\": 76.0, \"Education - Student skills as avg score\": 453.0, \"Education - Years in education in yrs\": 19.0, \"Environment - Air pollution in ugm3\": 14.5, \"Environment - Water quality as pct\": 67, \"Civic Engagement - Stakeholder engagement for developing regulations as avg score\": 1.8, \"Civic Engagement - Voter turnout as pct\": 58, \"Health - Life expectancy in yrs\": 81.7, \"Health - Self-reported health as pct\": 79.0, \"Life Satisfaction - Life satisfaction as avg score\": 5.8, \"Safety - Feeling safe walking alone at night as pct\": 69, \"Safety - Homicide rate as rat\": 1.0, \"Work-Life Balance - Employees working very long hours as pct\": 4.5, \"Work-Life Balance - Time devoted to leisure and personal care as hrs\": 15.03}, {\"Country\": \"Hungary\", \"Housing - Dwellings without basic facilities as pct\": 3.5, \"Housing - Housing expenditure as pct\": 19.9, \"Housing - Rooms per person as rat\": 1.4, \"Income - Household net adjusted disposable income in usd\": 21026.0, \"Income - Household net wealth in usd\": 150296.0, \"Jobs - Labour market insecurity as pct\": 3.8, \"Jobs - Employment rate as pct\": 70, \"Jobs - Long-term unemployment rate as pct\": 1.2, \"Jobs - Personal earnings in usd\": 25409.0, \"Community - Quality of support network as pct\": 94, \"Education - Educational attainment as pct\": 86.0, \"Education - Student skills as avg score\": 479.0, \"Education - Years in education in yrs\": 16.0, \"Environment - Air pollution in ugm3\": 16.7, \"Environment - Water quality as pct\": 81, \"Civic Engagement - Stakeholder engagement for developing regulations as avg score\": 1.2, \"Civic Engagement - Voter turnout as pct\": 70, \"Health - Life expectancy in yrs\": 76.4, \"Health - Self-reported health as pct\": 58.0, \"Life Satisfaction - Life satisfaction as avg score\": 6.0, \"Safety - Feeling safe walking alone at night as pct\": 74, \"Safety - Homicide rate as rat\": 0.9, \"Work-Life Balance - Employees working very long hours as pct\": 1.5, \"Work-Life Balance - Time devoted to leisure and personal care as hrs\": 15.08}, {\"Country\": \"Iceland\", \"Housing - Dwellings without basic facilities as pct\": 0.0, \"Housing - Housing expenditure as pct\": 20.1, \"Housing - Rooms per person as rat\": 1.6, \"Income - Household net adjusted disposable income in usd\": 29431.0, \"Income - Household net wealth in usd\": 323959.6206896552, \"Jobs - Labour market insecurity as pct\": 1.0, \"Jobs - Employment rate as pct\": 78, \"Jobs - Long-term unemployment rate as pct\": 0.7, \"Jobs - Personal earnings in usd\": 67488.0, \"Community - Quality of support network as pct\": 98, \"Education - Educational attainment as pct\": 76.0, \"Education - Student skills as avg score\": 481.0, \"Education - Years in education in yrs\": 19.0, \"Environment - Air pollution in ugm3\": 6.4, \"Environment - Water quality as pct\": 97, \"Civic Engagement - Stakeholder engagement for developing regulations as avg score\": 2.1, \"Civic Engagement - Voter turnout as pct\": 81, \"Health - Life expectancy in yrs\": 83.2, \"Health - Self-reported health as pct\": 77.0, \"Life Satisfaction - Life satisfaction as avg score\": 7.6, \"Safety - Feeling safe walking alone at night as pct\": 85, \"Safety - Homicide rate as rat\": 0.3, \"Work-Life Balance - Employees working very long hours as pct\": 11.7, \"Work-Life Balance - Time devoted to leisure and personal care as hrs\": 15.069090909090908}, {\"Country\": \"Ireland\", \"Housing - Dwellings without basic facilities as pct\": 0.2, \"Housing - Housing expenditure as pct\": 20.6, \"Housing - Rooms per person as rat\": 2.1, \"Income - Household net adjusted disposable income in usd\": 29488.0, \"Income - Household net wealth in usd\": 370341.0, \"Jobs - Labour market insecurity as pct\": 2.6, \"Jobs - Employment rate as pct\": 68, \"Jobs - Long-term unemployment rate as pct\": 1.2, \"Jobs - Personal earnings in usd\": 49474.0, \"Community - Quality of support network as pct\": 96, \"Education - Educational attainment as pct\": 85.0, \"Education - Student skills as avg score\": 505.0, \"Education - Years in education in yrs\": 18.0, \"Environment - Air pollution in ugm3\": 7.8, \"Environment - Water quality as pct\": 80, \"Civic Engagement - Stakeholder engagement for developing regulations as avg score\": 1.3, \"Civic Engagement - Voter turnout as pct\": 63, \"Health - Life expectancy in yrs\": 82.8, \"Health - Self-reported health as pct\": 84.0, \"Life Satisfaction - Life satisfaction as avg score\": 7.0, \"Safety - Feeling safe walking alone at night as pct\": 76, \"Safety - Homicide rate as rat\": 0.5, \"Work-Life Balance - Employees working very long hours as pct\": 4.7, \"Work-Life Balance - Time devoted to leisure and personal care as hrs\": 14.54}, {\"Country\": \"Israel\", \"Housing - Dwellings without basic facilities as pct\": 0.6499999999999999, \"Housing - Housing expenditure as pct\": 20.1, \"Housing - Rooms per person as rat\": 1.2, \"Income - Household net adjusted disposable income in usd\": 29431.0, \"Income - Household net wealth in usd\": 323959.6206896552, \"Jobs - Labour market insecurity as pct\": 4.6, \"Jobs - Employment rate as pct\": 67, \"Jobs - Long-term unemployment rate as pct\": 0.2, \"Jobs - Personal earnings in usd\": 39322.0, \"Community - Quality of support network as pct\": 95, \"Education - Educational attainment as pct\": 88.0, \"Education - Student skills as avg score\": 465.0, \"Education - Years in education in yrs\": 16.0, \"Environment - Air pollution in ugm3\": 19.7, \"Environment - Water quality as pct\": 77, \"Civic Engagement - Stakeholder engagement for developing regulations as avg score\": 2.5, \"Civic Engagement - Voter turnout as pct\": 67, \"Health - Life expectancy in yrs\": 82.9, \"Health - Self-reported health as pct\": 74.0, \"Life Satisfaction - Life satisfaction as avg score\": 7.2, \"Safety - Feeling safe walking alone at night as pct\": 80, \"Safety - Homicide rate as rat\": 1.5, \"Work-Life Balance - Employees working very long hours as pct\": 14.1, \"Work-Life Balance - Time devoted to leisure and personal care as hrs\": 15.069090909090908}, {\"Country\": \"Italy\", \"Housing - Dwellings without basic facilities as pct\": 0.6, \"Housing - Housing expenditure as pct\": 22.5, \"Housing - Rooms per person as rat\": 1.4, \"Income - Household net adjusted disposable income in usd\": 29431.0, \"Income - Household net wealth in usd\": 295020.0, \"Jobs - Labour market insecurity as pct\": 8.6, \"Jobs - Employment rate as pct\": 58, \"Jobs - Long-term unemployment rate as pct\": 4.8, \"Jobs - Personal earnings in usd\": 37769.0, \"Community - Quality of support network as pct\": 89, \"Education - Educational attainment as pct\": 63.0, \"Education - Student skills as avg score\": 477.0, \"Education - Years in education in yrs\": 17.0, \"Environment - Air pollution in ugm3\": 15.9, \"Environment - Water quality as pct\": 77, \"Civic Engagement - Stakeholder engagement for developing regulations as avg score\": 2.5, \"Civic Engagement - Voter turnout as pct\": 73, \"Health - Life expectancy in yrs\": 83.6, \"Health - Self-reported health as pct\": 73.0, \"Life Satisfaction - Life satisfaction as avg score\": 6.5, \"Safety - Feeling safe walking alone at night as pct\": 73, \"Safety - Homicide rate as rat\": 0.5, \"Work-Life Balance - Employees working very long hours as pct\": 3.3, \"Work-Life Balance - Time devoted to leisure and personal care as hrs\": 16.47}, {\"Country\": \"Japan\", \"Housing - Dwellings without basic facilities as pct\": 6.4, \"Housing - Housing expenditure as pct\": 21.8, \"Housing - Rooms per person as rat\": 1.9, \"Income - Household net adjusted disposable income in usd\": 28872.0, \"Income - Household net wealth in usd\": 294735.0, \"Jobs - Labour market insecurity as pct\": 2.7, \"Jobs - Employment rate as pct\": 77, \"Jobs - Long-term unemployment rate as pct\": 0.8, \"Jobs - Personal earnings in usd\": 38515.0, \"Community - Quality of support network as pct\": 89, \"Education - Educational attainment as pct\": 83.0, \"Education - Student skills as avg score\": 520.0, \"Education - Years in education in yrs\": 16.0, \"Environment - Air pollution in ugm3\": 13.7, \"Environment - Water quality as pct\": 87, \"Civic Engagement - Stakeholder engagement for developing regulations as avg score\": 1.4, \"Civic Engagement - Voter turnout as pct\": 53, \"Health - Life expectancy in yrs\": 84.4, \"Health - Self-reported health as pct\": 37.0, \"Life Satisfaction - Life satisfaction as avg score\": 6.1, \"Safety - Feeling safe walking alone at night as pct\": 77, \"Safety - Homicide rate as rat\": 0.2, \"Work-Life Balance - Employees working very long hours as pct\": 4.5, \"Work-Life Balance - Time devoted to leisure and personal care as hrs\": 14.1}, {\"Country\": \"Korea\", \"Housing - Dwellings without basic facilities as pct\": 2.5, \"Housing - Housing expenditure as pct\": 14.7, \"Housing - Rooms per person as rat\": 1.5, \"Income - Household net adjusted disposable income in usd\": 24590.0, \"Income - Household net wealth in usd\": 362340.0, \"Jobs - Labour market insecurity as pct\": 2.9, \"Jobs - Employment rate as pct\": 66, \"Jobs - Long-term unemployment rate as pct\": 0.0, \"Jobs - Personal earnings in usd\": 41960.0, \"Community - Quality of support network as pct\": 80, \"Education - Educational attainment as pct\": 89.0, \"Education - Student skills as avg score\": 520.0, \"Education - Years in education in yrs\": 17.0, \"Environment - Air pollution in ugm3\": 27.3, \"Environment - Water quality as pct\": 82, \"Civic Engagement - Stakeholder engagement for developing regulations as avg score\": 2.9, \"Civic Engagement - Voter turnout as pct\": 77, \"Health - Life expectancy in yrs\": 83.3, \"Health - Self-reported health as pct\": 34.0, \"Life Satisfaction - Life satisfaction as avg score\": 5.8, \"Safety - Feeling safe walking alone at night as pct\": 82, \"Safety - Homicide rate as rat\": 0.8, \"Work-Life Balance - Employees working very long hours as pct\": 4.5, \"Work-Life Balance - Time devoted to leisure and personal care as hrs\": 14.83}, {\"Country\": \"Latvia\", \"Housing - Dwellings without basic facilities as pct\": 11.2, \"Housing - Housing expenditure as pct\": 20.8, \"Housing - Rooms per person as rat\": 1.2, \"Income - Household net adjusted disposable income in usd\": 19783.0, \"Income - Household net wealth in usd\": 79245.0, \"Jobs - Labour market insecurity as pct\": 6.3, \"Jobs - Employment rate as pct\": 72, \"Jobs - Long-term unemployment rate as pct\": 2.2, \"Jobs - Personal earnings in usd\": 29876.0, \"Community - Quality of support network as pct\": 92, \"Education - Educational attainment as pct\": 89.0, \"Education - Student skills as avg score\": 487.0, \"Education - Years in education in yrs\": 18.0, \"Environment - Air pollution in ugm3\": 12.7, \"Environment - Water quality as pct\": 83, \"Civic Engagement - Stakeholder engagement for developing regulations as avg score\": 2.2, \"Civic Engagement - Voter turnout as pct\": 55, \"Health - Life expectancy in yrs\": 75.5, \"Health - Self-reported health as pct\": 47.0, \"Life Satisfaction - Life satisfaction as avg score\": 6.2, \"Safety - Feeling safe walking alone at night as pct\": 72, \"Safety - Homicide rate as rat\": 3.7, \"Work-Life Balance - Employees working very long hours as pct\": 1.6, \"Work-Life Balance - Time devoted to leisure and personal care as hrs\": 14.988}, {\"Country\": \"Lithuania\", \"Housing - Dwellings without basic facilities as pct\": 11.8, \"Housing - Housing expenditure as pct\": 18.4, \"Housing - Rooms per person as rat\": 1.5, \"Income - Household net adjusted disposable income in usd\": 26976.0, \"Income - Household net wealth in usd\": 182039.0, \"Jobs - Labour market insecurity as pct\": 3.9, \"Jobs - Employment rate as pct\": 72, \"Jobs - Long-term unemployment rate as pct\": 2.5, \"Jobs - Personal earnings in usd\": 31811.0, \"Community - Quality of support network as pct\": 89, \"Education - Educational attainment as pct\": 94.0, \"Education - Student skills as avg score\": 480.0, \"Education - Years in education in yrs\": 18.0, \"Environment - Air pollution in ugm3\": 10.5, \"Environment - Water quality as pct\": 83, \"Civic Engagement - Stakeholder engagement for developing regulations as avg score\": 2.4, \"Civic Engagement - Voter turnout as pct\": 57, \"Health - Life expectancy in yrs\": 76.4, \"Health - Self-reported health as pct\": 46.0, \"Life Satisfaction - Life satisfaction as avg score\": 6.4, \"Safety - Feeling safe walking alone at night as pct\": 62, \"Safety - Homicide rate as rat\": 2.5, \"Work-Life Balance - Employees working very long hours as pct\": 1.0, \"Work-Life Balance - Time devoted to leisure and personal care as hrs\": 14.988}, {\"Country\": \"Luxembourg\", \"Housing - Dwellings without basic facilities as pct\": 0.1, \"Housing - Housing expenditure as pct\": 20.7, \"Housing - Rooms per person as rat\": 2.0, \"Income - Household net adjusted disposable income in usd\": 44773.0, \"Income - Household net wealth in usd\": 941162.0, \"Jobs - Labour market insecurity as pct\": 2.2, \"Jobs - Employment rate as pct\": 67, \"Jobs - Long-term unemployment rate as pct\": 1.7, \"Jobs - Personal earnings in usd\": 65854.0, \"Community - Quality of support network as pct\": 91, \"Education - Educational attainment as pct\": 74.0, \"Education - Student skills as avg score\": 477.0, \"Education - Years in education in yrs\": 15.0, \"Environment - Air pollution in ugm3\": 10.0, \"Environment - Water quality as pct\": 85, \"Civic Engagement - Stakeholder engagement for developing regulations as avg score\": 1.7, \"Civic Engagement - Voter turnout as pct\": 90, \"Health - Life expectancy in yrs\": 82.7, \"Health - Self-reported health as pct\": 72.0, \"Life Satisfaction - Life satisfaction as avg score\": 7.4, \"Safety - Feeling safe walking alone at night as pct\": 87, \"Safety - Homicide rate as rat\": 0.2, \"Work-Life Balance - Employees working very long hours as pct\": 2.8, \"Work-Life Balance - Time devoted to leisure and personal care as hrs\": 14.662}, {\"Country\": \"Mexico\", \"Housing - Dwellings without basic facilities as pct\": 25.9, \"Housing - Housing expenditure as pct\": 17.8, \"Housing - Rooms per person as rat\": 1.1, \"Income - Household net adjusted disposable income in usd\": 16269.0, \"Income - Household net wealth in usd\": 323959.6206896552, \"Jobs - Labour market insecurity as pct\": 4.0, \"Jobs - Employment rate as pct\": 59, \"Jobs - Long-term unemployment rate as pct\": 0.1, \"Jobs - Personal earnings in usd\": 16230.0, \"Community - Quality of support network as pct\": 77, \"Education - Educational attainment as pct\": 42.0, \"Education - Student skills as avg score\": 416.0, \"Education - Years in education in yrs\": 15.0, \"Environment - Air pollution in ugm3\": 20.3, \"Environment - Water quality as pct\": 75, \"Civic Engagement - Stakeholder engagement for developing regulations as avg score\": 3.2, \"Civic Engagement - Voter turnout as pct\": 63, \"Health - Life expectancy in yrs\": 75.1, \"Health - Self-reported health as pct\": 66.0, \"Life Satisfaction - Life satisfaction as avg score\": 6.0, \"Safety - Feeling safe walking alone at night as pct\": 42, \"Safety - Homicide rate as rat\": 26.8, \"Work-Life Balance - Employees working very long hours as pct\": 27.0, \"Work-Life Balance - Time devoted to leisure and personal care as hrs\": 15.069090909090908}, {\"Country\": \"Netherlands\", \"Housing - Dwellings without basic facilities as pct\": 0.1, \"Housing - Housing expenditure as pct\": 19.6, \"Housing - Rooms per person as rat\": 2.0, \"Income - Household net adjusted disposable income in usd\": 34984.0, \"Income - Household net wealth in usd\": 248599.0, \"Jobs - Labour market insecurity as pct\": 2.5, \"Jobs - Employment rate as pct\": 78, \"Jobs - Long-term unemployment rate as pct\": 0.9, \"Jobs - Personal earnings in usd\": 58828.0, \"Community - Quality of support network as pct\": 94, \"Education - Educational attainment as pct\": 81.0, \"Education - Student skills as avg score\": 502.0, \"Education - Years in education in yrs\": 19.0, \"Environment - Air pollution in ugm3\": 12.2, \"Environment - Water quality as pct\": 91, \"Civic Engagement - Stakeholder engagement for developing regulations as avg score\": 2.6, \"Civic Engagement - Voter turnout as pct\": 79, \"Health - Life expectancy in yrs\": 82.2, \"Health - Self-reported health as pct\": 75.0, \"Life Satisfaction - Life satisfaction as avg score\": 7.5, \"Safety - Feeling safe walking alone at night as pct\": 83, \"Safety - Homicide rate as rat\": 0.6, \"Work-Life Balance - Employees working very long hours as pct\": 0.3, \"Work-Life Balance - Time devoted to leisure and personal care as hrs\": 15.45}, {\"Country\": \"New Zealand\", \"Housing - Dwellings without basic facilities as pct\": 0.6499999999999999, \"Housing - Housing expenditure as pct\": 25.0, \"Housing - Rooms per person as rat\": 2.4, \"Income - Household net adjusted disposable income in usd\": 39024.0, \"Income - Household net wealth in usd\": 514162.0, \"Jobs - Labour market insecurity as pct\": 4.5, \"Jobs - Employment rate as pct\": 77, \"Jobs - Long-term unemployment rate as pct\": 0.4, \"Jobs - Personal earnings in usd\": 45269.0, \"Community - Quality of support network as pct\": 95, \"Education - Educational attainment as pct\": 81.0, \"Education - Student skills as avg score\": 503.0, \"Education - Years in education in yrs\": 18.0, \"Environment - Air pollution in ugm3\": 6.0, \"Environment - Water quality as pct\": 85, \"Civic Engagement - Stakeholder engagement for developing regulations as avg score\": 2.5, \"Civic Engagement - Voter turnout as pct\": 82, \"Health - Life expectancy in yrs\": 82.1, \"Health - Self-reported health as pct\": 86.0, \"Life Satisfaction - Life satisfaction as avg score\": 7.3, \"Safety - Feeling safe walking alone at night as pct\": 66, \"Safety - Homicide rate as rat\": 1.3, \"Work-Life Balance - Employees working very long hours as pct\": 14.0, \"Work-Life Balance - Time devoted to leisure and personal care as hrs\": 14.87}, {\"Country\": \"Norway\", \"Housing - Dwellings without basic facilities as pct\": 0.0, \"Housing - Housing expenditure as pct\": 17.7, \"Housing - Rooms per person as rat\": 2.1, \"Income - Household net adjusted disposable income in usd\": 39144.0, \"Income - Household net wealth in usd\": 268358.0, \"Jobs - Labour market insecurity as pct\": 2.8, \"Jobs - Employment rate as pct\": 75, \"Jobs - Long-term unemployment rate as pct\": 0.9, \"Jobs - Personal earnings in usd\": 55780.0, \"Community - Quality of support network as pct\": 96, \"Education - Educational attainment as pct\": 82.0, \"Education - Student skills as avg score\": 497.0, \"Education - Years in education in yrs\": 18.0, \"Environment - Air pollution in ugm3\": 6.7, \"Environment - Water quality as pct\": 98, \"Civic Engagement - Stakeholder engagement for developing regulations as avg score\": 2.2, \"Civic Engagement - Voter turnout as pct\": 78, \"Health - Life expectancy in yrs\": 83.0, \"Health - Self-reported health as pct\": 75.0, \"Life Satisfaction - Life satisfaction as avg score\": 7.3, \"Safety - Feeling safe walking alone at night as pct\": 93, \"Safety - Homicide rate as rat\": 0.6, \"Work-Life Balance - Employees working very long hours as pct\": 1.4, \"Work-Life Balance - Time devoted to leisure and personal care as hrs\": 15.67}, {\"Country\": \"Poland\", \"Housing - Dwellings without basic facilities as pct\": 2.3, \"Housing - Housing expenditure as pct\": 21.2, \"Housing - Rooms per person as rat\": 1.1, \"Income - Household net adjusted disposable income in usd\": 23675.0, \"Income - Household net wealth in usd\": 233221.0, \"Jobs - Labour market insecurity as pct\": 5.0, \"Jobs - Employment rate as pct\": 69, \"Jobs - Long-term unemployment rate as pct\": 0.6, \"Jobs - Personal earnings in usd\": 32527.0, \"Community - Quality of support network as pct\": 94, \"Education - Educational attainment as pct\": 93.0, \"Education - Student skills as avg score\": 513.0, \"Education - Years in education in yrs\": 18.0, \"Environment - Air pollution in ugm3\": 22.8, \"Environment - Water quality as pct\": 82, \"Civic Engagement - Stakeholder engagement for developing regulations as avg score\": 2.6, \"Civic Engagement - Voter turnout as pct\": 68, \"Health - Life expectancy in yrs\": 78.0, \"Health - Self-reported health as pct\": 60.0, \"Life Satisfaction - Life satisfaction as avg score\": 6.1, \"Safety - Feeling safe walking alone at night as pct\": 71, \"Safety - Homicide rate as rat\": 0.5, \"Work-Life Balance - Employees working very long hours as pct\": 4.2, \"Work-Life Balance - Time devoted to leisure and personal care as hrs\": 14.68}, {\"Country\": \"Portugal\", \"Housing - Dwellings without basic facilities as pct\": 0.9, \"Housing - Housing expenditure as pct\": 19.6, \"Housing - Rooms per person as rat\": 1.7, \"Income - Household net adjusted disposable income in usd\": 24877.0, \"Income - Household net wealth in usd\": 255303.0, \"Jobs - Labour market insecurity as pct\": 8.1, \"Jobs - Employment rate as pct\": 69, \"Jobs - Long-term unemployment rate as pct\": 2.3, \"Jobs - Personal earnings in usd\": 28410.0, \"Community - Quality of support network as pct\": 87, \"Education - Educational attainment as pct\": 55.0, \"Education - Student skills as avg score\": 492.0, \"Education - Years in education in yrs\": 17.0, \"Environment - Air pollution in ugm3\": 8.3, \"Environment - Water quality as pct\": 89, \"Civic Engagement - Stakeholder engagement for developing regulations as avg score\": 1.5, \"Civic Engagement - Voter turnout as pct\": 49, \"Health - Life expectancy in yrs\": 81.8, \"Health - Self-reported health as pct\": 50.0, \"Life Satisfaction - Life satisfaction as avg score\": 5.8, \"Safety - Feeling safe walking alone at night as pct\": 83, \"Safety - Homicide rate as rat\": 0.7, \"Work-Life Balance - Employees working very long hours as pct\": 5.6, \"Work-Life Balance - Time devoted to leisure and personal care as hrs\": 15.014}, {\"Country\": \"Slovak Republic\", \"Housing - Dwellings without basic facilities as pct\": 1.5, \"Housing - Housing expenditure as pct\": 27.4, \"Housing - Rooms per person as rat\": 1.1, \"Income - Household net adjusted disposable income in usd\": 21149.0, \"Income - Household net wealth in usd\": 171425.0, \"Jobs - Labour market insecurity as pct\": 8.8, \"Jobs - Employment rate as pct\": 68, \"Jobs - Long-term unemployment rate as pct\": 3.0, \"Jobs - Personal earnings in usd\": 23619.0, \"Community - Quality of support network as pct\": 95, \"Education - Educational attainment as pct\": 92.0, \"Education - Student skills as avg score\": 469.0, \"Education - Years in education in yrs\": 16.0, \"Environment - Air pollution in ugm3\": 18.5, \"Environment - Water quality as pct\": 81, \"Civic Engagement - Stakeholder engagement for developing regulations as avg score\": 3.0, \"Civic Engagement - Voter turnout as pct\": 66, \"Health - Life expectancy in yrs\": 77.8, \"Health - Self-reported health as pct\": 65.0, \"Life Satisfaction - Life satisfaction as avg score\": 6.5, \"Safety - Feeling safe walking alone at night as pct\": 76, \"Safety - Homicide rate as rat\": 0.8, \"Work-Life Balance - Employees working very long hours as pct\": 4.2, \"Work-Life Balance - Time devoted to leisure and personal care as hrs\": 14.988}, {\"Country\": \"Slovenia\", \"Housing - Dwellings without basic facilities as pct\": 0.2, \"Housing - Housing expenditure as pct\": 18.2, \"Housing - Rooms per person as rat\": 1.6, \"Income - Household net adjusted disposable income in usd\": 25250.0, \"Income - Household net wealth in usd\": 233286.0, \"Jobs - Labour market insecurity as pct\": 5.9, \"Jobs - Employment rate as pct\": 71, \"Jobs - Long-term unemployment rate as pct\": 1.9, \"Jobs - Personal earnings in usd\": 41445.0, \"Community - Quality of support network as pct\": 95, \"Education - Educational attainment as pct\": 90.0, \"Education - Student skills as avg score\": 504.0, \"Education - Years in education in yrs\": 18.0, \"Environment - Air pollution in ugm3\": 17.0, \"Environment - Water quality as pct\": 93, \"Civic Engagement - Stakeholder engagement for developing regulations as avg score\": 2.5, \"Civic Engagement - Voter turnout as pct\": 53, \"Health - Life expectancy in yrs\": 81.6, \"Health - Self-reported health as pct\": 67.0, \"Life Satisfaction - Life satisfaction as avg score\": 6.5, \"Safety - Feeling safe walking alone at night as pct\": 91, \"Safety - Homicide rate as rat\": 0.4, \"Work-Life Balance - Employees working very long hours as pct\": 5.6, \"Work-Life Balance - Time devoted to leisure and personal care as hrs\": 15.190000000000001}, {\"Country\": \"Spain\", \"Housing - Dwellings without basic facilities as pct\": 0.3, \"Housing - Housing expenditure as pct\": 21.7, \"Housing - Rooms per person as rat\": 1.9, \"Income - Household net adjusted disposable income in usd\": 27155.0, \"Income - Household net wealth in usd\": 366534.0, \"Jobs - Labour market insecurity as pct\": 15.8, \"Jobs - Employment rate as pct\": 62, \"Jobs - Long-term unemployment rate as pct\": 5.0, \"Jobs - Personal earnings in usd\": 37922.0, \"Community - Quality of support network as pct\": 93, \"Education - Educational attainment as pct\": 63.0, \"Education - Student skills as avg score\": 495.0, \"Education - Years in education in yrs\": 18.0, \"Environment - Air pollution in ugm3\": 10.0, \"Environment - Water quality as pct\": 76, \"Civic Engagement - Stakeholder engagement for developing regulations as avg score\": 1.8, \"Civic Engagement - Voter turnout as pct\": 72, \"Health - Life expectancy in yrs\": 83.9, \"Health - Self-reported health as pct\": 75.0, \"Life Satisfaction - Life satisfaction as avg score\": 6.5, \"Safety - Feeling safe walking alone at night as pct\": 80, \"Safety - Homicide rate as rat\": 0.7, \"Work-Life Balance - Employees working very long hours as pct\": 2.5, \"Work-Life Balance - Time devoted to leisure and personal care as hrs\": 15.75}, {\"Country\": \"Sweden\", \"Housing - Dwellings without basic facilities as pct\": 0.0, \"Housing - Housing expenditure as pct\": 20.1, \"Housing - Rooms per person as rat\": 1.7, \"Income - Household net adjusted disposable income in usd\": 33730.0, \"Income - Household net wealth in usd\": 323959.6206896552, \"Jobs - Labour market insecurity as pct\": 4.4, \"Jobs - Employment rate as pct\": 75, \"Jobs - Long-term unemployment rate as pct\": 1.0, \"Jobs - Personal earnings in usd\": 47020.0, \"Community - Quality of support network as pct\": 94, \"Education - Educational attainment as pct\": 84.0, \"Education - Student skills as avg score\": 503.0, \"Education - Years in education in yrs\": 20.0, \"Environment - Air pollution in ugm3\": 5.8, \"Environment - Water quality as pct\": 97, \"Civic Engagement - Stakeholder engagement for developing regulations as avg score\": 2.0, \"Civic Engagement - Voter turnout as pct\": 87, \"Health - Life expectancy in yrs\": 83.2, \"Health - Self-reported health as pct\": 76.0, \"Life Satisfaction - Life satisfaction as avg score\": 7.3, \"Safety - Feeling safe walking alone at night as pct\": 79, \"Safety - Homicide rate as rat\": 1.1, \"Work-Life Balance - Employees working very long hours as pct\": 0.9, \"Work-Life Balance - Time devoted to leisure and personal care as hrs\": 15.069090909090908}, {\"Country\": \"Switzerland\", \"Housing - Dwellings without basic facilities as pct\": 0.0, \"Housing - Housing expenditure as pct\": 21.4, \"Housing - Rooms per person as rat\": 1.9, \"Income - Household net adjusted disposable income in usd\": 39697.0, \"Income - Household net wealth in usd\": 323959.6206896552, \"Jobs - Labour market insecurity as pct\": 3.9, \"Jobs - Employment rate as pct\": 80, \"Jobs - Long-term unemployment rate as pct\": 1.7, \"Jobs - Personal earnings in usd\": 64824.0, \"Community - Quality of support network as pct\": 94, \"Education - Educational attainment as pct\": 89.0, \"Education - Student skills as avg score\": 498.0, \"Education - Years in education in yrs\": 17.0, \"Environment - Air pollution in ugm3\": 10.1, \"Environment - Water quality as pct\": 96, \"Civic Engagement - Stakeholder engagement for developing regulations as avg score\": 2.3, \"Civic Engagement - Voter turnout as pct\": 45, \"Health - Life expectancy in yrs\": 84.0, \"Health - Self-reported health as pct\": 81.0, \"Life Satisfaction - Life satisfaction as avg score\": 7.5, \"Safety - Feeling safe walking alone at night as pct\": 86, \"Safety - Homicide rate as rat\": 0.3, \"Work-Life Balance - Employees working very long hours as pct\": 0.4, \"Work-Life Balance - Time devoted to leisure and personal care as hrs\": 15.069090909090908}, {\"Country\": \"Turkey\", \"Housing - Dwellings without basic facilities as pct\": 4.9, \"Housing - Housing expenditure as pct\": 18.9, \"Housing - Rooms per person as rat\": 1.0, \"Income - Household net adjusted disposable income in usd\": 29431.0, \"Income - Household net wealth in usd\": 415187.8, \"Jobs - Labour market insecurity as pct\": 13.0, \"Jobs - Employment rate as pct\": 48, \"Jobs - Long-term unemployment rate as pct\": 3.3, \"Jobs - Personal earnings in usd\": 45269.0, \"Community - Quality of support network as pct\": 85, \"Education - Educational attainment as pct\": 42.0, \"Education - Student skills as avg score\": 462.0, \"Education - Years in education in yrs\": 19.0, \"Environment - Air pollution in ugm3\": 27.1, \"Environment - Water quality as pct\": 62, \"Civic Engagement - Stakeholder engagement for developing regulations as avg score\": 1.5, \"Civic Engagement - Voter turnout as pct\": 86, \"Health - Life expectancy in yrs\": 78.6, \"Health - Self-reported health as pct\": 67.0, \"Life Satisfaction - Life satisfaction as avg score\": 4.9, \"Safety - Feeling safe walking alone at night as pct\": 59, \"Safety - Homicide rate as rat\": 1.0, \"Work-Life Balance - Employees working very long hours as pct\": 25.0, \"Work-Life Balance - Time devoted to leisure and personal care as hrs\": 14.61}, {\"Country\": \"United Kingdom\", \"Housing - Dwellings without basic facilities as pct\": 0.5, \"Housing - Housing expenditure as pct\": 23.2, \"Housing - Rooms per person as rat\": 2.0, \"Income - Household net adjusted disposable income in usd\": 33049.0, \"Income - Household net wealth in usd\": 524422.0, \"Jobs - Labour market insecurity as pct\": 3.3, \"Jobs - Employment rate as pct\": 75, \"Jobs - Long-term unemployment rate as pct\": 0.9, \"Jobs - Personal earnings in usd\": 47147.0, \"Community - Quality of support network as pct\": 93, \"Education - Educational attainment as pct\": 82.0, \"Education - Student skills as avg score\": 503.0, \"Education - Years in education in yrs\": 17.0, \"Environment - Air pollution in ugm3\": 10.1, \"Environment - Water quality as pct\": 82, \"Civic Engagement - Stakeholder engagement for developing regulations as avg score\": 3.1, \"Civic Engagement - Voter turnout as pct\": 68, \"Health - Life expectancy in yrs\": 81.3, \"Health - Self-reported health as pct\": 73.0, \"Life Satisfaction - Life satisfaction as avg score\": 6.8, \"Safety - Feeling safe walking alone at night as pct\": 78, \"Safety - Homicide rate as rat\": 0.2, \"Work-Life Balance - Employees working very long hours as pct\": 10.8, \"Work-Life Balance - Time devoted to leisure and personal care as hrs\": 14.94}, {\"Country\": \"United States\", \"Housing - Dwellings without basic facilities as pct\": 0.1, \"Housing - Housing expenditure as pct\": 18.3, \"Housing - Rooms per person as rat\": 2.4, \"Income - Household net adjusted disposable income in usd\": 51147.0, \"Income - Household net wealth in usd\": 684500.0, \"Jobs - Labour market insecurity as pct\": 4.2, \"Jobs - Employment rate as pct\": 67, \"Jobs - Long-term unemployment rate as pct\": 0.5, \"Jobs - Personal earnings in usd\": 69392.0, \"Community - Quality of support network as pct\": 94, \"Education - Educational attainment as pct\": 92.0, \"Education - Student skills as avg score\": 495.0, \"Education - Years in education in yrs\": 17.0, \"Environment - Air pollution in ugm3\": 7.7, \"Environment - Water quality as pct\": 88, \"Civic Engagement - Stakeholder engagement for developing regulations as avg score\": 3.1, \"Civic Engagement - Voter turnout as pct\": 65, \"Health - Life expectancy in yrs\": 78.9, \"Health - Self-reported health as pct\": 88.0, \"Life Satisfaction - Life satisfaction as avg score\": 7.0, \"Safety - Feeling safe walking alone at night as pct\": 78, \"Safety - Homicide rate as rat\": 6.0, \"Work-Life Balance - Employees working very long hours as pct\": 10.4, \"Work-Life Balance - Time devoted to leisure and personal care as hrs\": 14.57}, {\"Country\": \"Non-OECD - Brazil\", \"Housing - Dwellings without basic facilities as pct\": 6.7, \"Housing - Housing expenditure as pct\": 20.1, \"Housing - Rooms per person as rat\": 1.7, \"Income - Household net adjusted disposable income in usd\": 29431.0, \"Income - Household net wealth in usd\": 323959.6206896552, \"Jobs - Labour market insecurity as pct\": 3.9, \"Jobs - Employment rate as pct\": 57, \"Jobs - Long-term unemployment rate as pct\": 1.2, \"Jobs - Personal earnings in usd\": 45269.0, \"Community - Quality of support network as pct\": 83, \"Education - Educational attainment as pct\": 57.0, \"Education - Student skills as avg score\": 400.0, \"Education - Years in education in yrs\": 16.0, \"Environment - Air pollution in ugm3\": 11.7, \"Environment - Water quality as pct\": 70, \"Civic Engagement - Stakeholder engagement for developing regulations as avg score\": 2.2, \"Civic Engagement - Voter turnout as pct\": 80, \"Health - Life expectancy in yrs\": 75.9, \"Health - Self-reported health as pct\": 71.0, \"Life Satisfaction - Life satisfaction as avg score\": 6.1, \"Safety - Feeling safe walking alone at night as pct\": 45, \"Safety - Homicide rate as rat\": 19.0, \"Work-Life Balance - Employees working very long hours as pct\": 5.6, \"Work-Life Balance - Time devoted to leisure and personal care as hrs\": 15.069090909090908}, {\"Country\": \"Non-OECD - Russia\", \"Housing - Dwellings without basic facilities as pct\": 13.8, \"Housing - Housing expenditure as pct\": 17.4, \"Housing - Rooms per person as rat\": 1.0, \"Income - Household net adjusted disposable income in usd\": 19546.0, \"Income - Household net wealth in usd\": 323959.6206896552, \"Jobs - Labour market insecurity as pct\": 3.9, \"Jobs - Employment rate as pct\": 70, \"Jobs - Long-term unemployment rate as pct\": 1.1, \"Jobs - Personal earnings in usd\": 45269.0, \"Community - Quality of support network as pct\": 89, \"Education - Educational attainment as pct\": 95.0, \"Education - Student skills as avg score\": 481.0, \"Education - Years in education in yrs\": 16.0, \"Environment - Air pollution in ugm3\": 11.8, \"Environment - Water quality as pct\": 62, \"Civic Engagement - Stakeholder engagement for developing regulations as avg score\": 2.2, \"Civic Engagement - Voter turnout as pct\": 68, \"Health - Life expectancy in yrs\": 73.2, \"Health - Self-reported health as pct\": 43.0, \"Life Satisfaction - Life satisfaction as avg score\": 5.5, \"Safety - Feeling safe walking alone at night as pct\": 64, \"Safety - Homicide rate as rat\": 4.8, \"Work-Life Balance - Employees working very long hours as pct\": 0.1, \"Work-Life Balance - Time devoted to leisure and personal care as hrs\": 15.069090909090908}, {\"Country\": \"Non-OECD - South Africa\", \"Housing - Dwellings without basic facilities as pct\": 35.9, \"Housing - Housing expenditure as pct\": 18.1, \"Housing - Rooms per person as rat\": 1.7, \"Income - Household net adjusted disposable income in usd\": 9338.0, \"Income - Household net wealth in usd\": 323959.6206896552, \"Jobs - Labour market insecurity as pct\": 3.9, \"Jobs - Employment rate as pct\": 39, \"Jobs - Long-term unemployment rate as pct\": 17.9, \"Jobs - Personal earnings in usd\": 45269.0, \"Community - Quality of support network as pct\": 89, \"Education - Educational attainment as pct\": 48.0, \"Education - Student skills as avg score\": 495.0, \"Education - Years in education in yrs\": 18.0, \"Environment - Air pollution in ugm3\": 28.5, \"Environment - Water quality as pct\": 72, \"Civic Engagement - Stakeholder engagement for developing regulations as avg score\": 2.2, \"Civic Engagement - Voter turnout as pct\": 66, \"Health - Life expectancy in yrs\": 64.2, \"Health - Self-reported health as pct\": 71.0, \"Life Satisfaction - Life satisfaction as avg score\": 4.9, \"Safety - Feeling safe walking alone at night as pct\": 40, \"Safety - Homicide rate as rat\": 13.7, \"Work-Life Balance - Employees working very long hours as pct\": 15.4, \"Work-Life Balance - Time devoted to leisure and personal care as hrs\": 15.069090909090908}]}}, {\"mode\": \"vega-lite\"});\n",
       "</script>"
      ],
      "text/plain": [
       "alt.VConcatChart(...)"
      ]
     },
     "execution_count": 9,
     "metadata": {},
     "output_type": "execute_result"
    }
   ],
   "source": [
    "def plot_histogram(column):\n",
    "    chart = alt.Chart(df).mark_bar().encode(\n",
    "        alt.X(column, bin=alt.Bin(maxbins=50), title=column),\n",
    "        y='count()',\n",
    "    ).properties(\n",
    "        title=f'Distribution of {column}',\n",
    "        width=400,\n",
    "        height=200\n",
    "    )\n",
    "    return chart\n",
    "\n",
    "charts = [plot_histogram(col) for col in df.columns]\n",
    "alt.vconcat(*charts)"
   ]
  },
  {
   "cell_type": "markdown",
   "id": "b38ba325-cd97-4664-95fb-3cc2bb618daf",
   "metadata": {},
   "source": [
    "Now that we have both pre-processed the data and conducted an analysis into the data's characteristics, it is time to visualise the data in more meaningful ways. This is to potentially gain new insights into the data and discover any trends which may be present across the wide variety of variables in specific countries."
   ]
  },
  {
   "cell_type": "markdown",
   "id": "36e2188d",
   "metadata": {},
   "source": [
    "# 5. Comparing Well-Being Across Countries\n",
    "\n",
    "To compare well-being across countries, we will employ a variety of visualisation techniques. Each visualisation will aim to address an aspect of the data, such as choropleth maps to offer geographical perspective and bar charts for comparative analysis. Interactive elements will be introduced to enhance the user's experience by delivering detailed information through hovering over specific data points."
   ]
  },
  {
   "cell_type": "markdown",
   "id": "b7da8bf1-3a00-4177-af82-d0496d516d0d",
   "metadata": {},
   "source": [
    "### Visualisation 1: Work-Life Balance"
   ]
  },
  {
   "cell_type": "code",
   "execution_count": 10,
   "id": "0d66f426-84fe-40de-a844-de657b4a24e1",
   "metadata": {
    "tags": []
   },
   "outputs": [],
   "source": [
    "common_color_scale = alt.Scale(scheme='bluegreen')"
   ]
  },
  {
   "cell_type": "code",
   "execution_count": 14,
   "id": "98fdecae",
   "metadata": {
    "tags": []
   },
   "outputs": [
    {
     "data": {
      "text/html": [
       "\n",
       "<style>\n",
       "  #altair-viz-d18cd72a2c354b1683206c39bd25755e.vega-embed {\n",
       "    width: 100%;\n",
       "    display: flex;\n",
       "  }\n",
       "\n",
       "  #altair-viz-d18cd72a2c354b1683206c39bd25755e.vega-embed details,\n",
       "  #altair-viz-d18cd72a2c354b1683206c39bd25755e.vega-embed details summary {\n",
       "    position: relative;\n",
       "  }\n",
       "</style>\n",
       "<div id=\"altair-viz-d18cd72a2c354b1683206c39bd25755e\"></div>\n",
       "<script type=\"text/javascript\">\n",
       "  var VEGA_DEBUG = (typeof VEGA_DEBUG == \"undefined\") ? {} : VEGA_DEBUG;\n",
       "  (function(spec, embedOpt){\n",
       "    let outputDiv = document.currentScript.previousElementSibling;\n",
       "    if (outputDiv.id !== \"altair-viz-d18cd72a2c354b1683206c39bd25755e\") {\n",
       "      outputDiv = document.getElementById(\"altair-viz-d18cd72a2c354b1683206c39bd25755e\");\n",
       "    }\n",
       "    const paths = {\n",
       "      \"vega\": \"https://cdn.jsdelivr.net/npm/vega@5?noext\",\n",
       "      \"vega-lib\": \"https://cdn.jsdelivr.net/npm/vega-lib?noext\",\n",
       "      \"vega-lite\": \"https://cdn.jsdelivr.net/npm/vega-lite@5.15.1?noext\",\n",
       "      \"vega-embed\": \"https://cdn.jsdelivr.net/npm/vega-embed@6?noext\",\n",
       "    };\n",
       "\n",
       "    function maybeLoadScript(lib, version) {\n",
       "      var key = `${lib.replace(\"-\", \"\")}_version`;\n",
       "      return (VEGA_DEBUG[key] == version) ?\n",
       "        Promise.resolve(paths[lib]) :\n",
       "        new Promise(function(resolve, reject) {\n",
       "          var s = document.createElement('script');\n",
       "          document.getElementsByTagName(\"head\")[0].appendChild(s);\n",
       "          s.async = true;\n",
       "          s.onload = () => {\n",
       "            VEGA_DEBUG[key] = version;\n",
       "            return resolve(paths[lib]);\n",
       "          };\n",
       "          s.onerror = () => reject(`Error loading script: ${paths[lib]}`);\n",
       "          s.src = paths[lib];\n",
       "        });\n",
       "    }\n",
       "\n",
       "    function showError(err) {\n",
       "      outputDiv.innerHTML = `<div class=\"error\" style=\"color:red;\">${err}</div>`;\n",
       "      throw err;\n",
       "    }\n",
       "\n",
       "    function displayChart(vegaEmbed) {\n",
       "      vegaEmbed(outputDiv, spec, embedOpt)\n",
       "        .catch(err => showError(`Javascript Error: ${err.message}<br>This usually means there's a typo in your chart specification. See the javascript console for the full traceback.`));\n",
       "    }\n",
       "\n",
       "    if(typeof define === \"function\" && define.amd) {\n",
       "      requirejs.config({paths});\n",
       "      require([\"vega-embed\"], displayChart, err => showError(`Error loading script: ${err.message}`));\n",
       "    } else {\n",
       "      maybeLoadScript(\"vega\", \"5\")\n",
       "        .then(() => maybeLoadScript(\"vega-lite\", \"5.15.1\"))\n",
       "        .then(() => maybeLoadScript(\"vega-embed\", \"6\"))\n",
       "        .catch(showError)\n",
       "        .then(() => displayChart(vegaEmbed));\n",
       "    }\n",
       "  })({\"config\": {\"view\": {\"continuousWidth\": 300, \"continuousHeight\": 300}}, \"data\": {\"name\": \"data-361e55d884d425454931892f602fded5\"}, \"mark\": {\"type\": \"bar\"}, \"encoding\": {\"color\": {\"field\": \"Work-Life Balance - Employees working very long hours as pct\", \"legend\": null, \"scale\": {\"scheme\": \"bluegreen\"}, \"type\": \"quantitative\"}, \"tooltip\": [{\"field\": \"Country\", \"title\": \"Country\", \"type\": \"nominal\"}, {\"field\": \"Work-Life Balance - Employees working very long hours as pct\", \"title\": \"Employees Working Very Long Hours (%)\", \"type\": \"quantitative\"}], \"x\": {\"axis\": {\"labelAngle\": -45}, \"field\": \"Country\", \"sort\": \"-y\", \"title\": \"Country\", \"type\": \"nominal\"}, \"y\": {\"field\": \"Work-Life Balance - Employees working very long hours as pct\", \"title\": \"Employees Working Very Long Hours (%)\", \"type\": \"quantitative\"}}, \"height\": 290, \"title\": \"Work-Life Balance per Country\", \"width\": 625, \"$schema\": \"https://vega.github.io/schema/vega-lite/v5.15.1.json\", \"datasets\": {\"data-361e55d884d425454931892f602fded5\": [{\"Country\": \"Australia\", \"Work-Life Balance - Employees working very long hours as pct\": 12.5}, {\"Country\": \"Austria\", \"Work-Life Balance - Employees working very long hours as pct\": 5.3}, {\"Country\": \"Belgium\", \"Work-Life Balance - Employees working very long hours as pct\": 4.3}, {\"Country\": \"Canada\", \"Work-Life Balance - Employees working very long hours as pct\": 3.3}, {\"Country\": \"Chile\", \"Work-Life Balance - Employees working very long hours as pct\": 7.7}, {\"Country\": \"Colombia\", \"Work-Life Balance - Employees working very long hours as pct\": 23.7}, {\"Country\": \"Costa Rica\", \"Work-Life Balance - Employees working very long hours as pct\": 22.0}, {\"Country\": \"Czech Republic\", \"Work-Life Balance - Employees working very long hours as pct\": 4.5}, {\"Country\": \"Denmark\", \"Work-Life Balance - Employees working very long hours as pct\": 1.1}, {\"Country\": \"Estonia\", \"Work-Life Balance - Employees working very long hours as pct\": 2.2}, {\"Country\": \"Finland\", \"Work-Life Balance - Employees working very long hours as pct\": 3.6}, {\"Country\": \"France\", \"Work-Life Balance - Employees working very long hours as pct\": 7.7}, {\"Country\": \"Germany\", \"Work-Life Balance - Employees working very long hours as pct\": 3.9}, {\"Country\": \"Greece\", \"Work-Life Balance - Employees working very long hours as pct\": 4.5}, {\"Country\": \"Hungary\", \"Work-Life Balance - Employees working very long hours as pct\": 1.5}, {\"Country\": \"Iceland\", \"Work-Life Balance - Employees working very long hours as pct\": 11.7}, {\"Country\": \"Ireland\", \"Work-Life Balance - Employees working very long hours as pct\": 4.7}, {\"Country\": \"Israel\", \"Work-Life Balance - Employees working very long hours as pct\": 14.1}, {\"Country\": \"Italy\", \"Work-Life Balance - Employees working very long hours as pct\": 3.3}, {\"Country\": \"Japan\", \"Work-Life Balance - Employees working very long hours as pct\": 4.5}, {\"Country\": \"Korea\", \"Work-Life Balance - Employees working very long hours as pct\": 4.5}, {\"Country\": \"Latvia\", \"Work-Life Balance - Employees working very long hours as pct\": 1.6}, {\"Country\": \"Lithuania\", \"Work-Life Balance - Employees working very long hours as pct\": 1.0}, {\"Country\": \"Luxembourg\", \"Work-Life Balance - Employees working very long hours as pct\": 2.8}, {\"Country\": \"Mexico\", \"Work-Life Balance - Employees working very long hours as pct\": 27.0}, {\"Country\": \"Netherlands\", \"Work-Life Balance - Employees working very long hours as pct\": 0.3}, {\"Country\": \"New Zealand\", \"Work-Life Balance - Employees working very long hours as pct\": 14.0}, {\"Country\": \"Norway\", \"Work-Life Balance - Employees working very long hours as pct\": 1.4}, {\"Country\": \"Poland\", \"Work-Life Balance - Employees working very long hours as pct\": 4.2}, {\"Country\": \"Portugal\", \"Work-Life Balance - Employees working very long hours as pct\": 5.6}, {\"Country\": \"Slovak Republic\", \"Work-Life Balance - Employees working very long hours as pct\": 4.2}, {\"Country\": \"Slovenia\", \"Work-Life Balance - Employees working very long hours as pct\": 5.6}, {\"Country\": \"Spain\", \"Work-Life Balance - Employees working very long hours as pct\": 2.5}, {\"Country\": \"Sweden\", \"Work-Life Balance - Employees working very long hours as pct\": 0.9}, {\"Country\": \"Switzerland\", \"Work-Life Balance - Employees working very long hours as pct\": 0.4}, {\"Country\": \"Turkey\", \"Work-Life Balance - Employees working very long hours as pct\": 25.0}, {\"Country\": \"United Kingdom\", \"Work-Life Balance - Employees working very long hours as pct\": 10.8}, {\"Country\": \"United States\", \"Work-Life Balance - Employees working very long hours as pct\": 10.4}, {\"Country\": \"Non-OECD - Brazil\", \"Work-Life Balance - Employees working very long hours as pct\": 5.6}, {\"Country\": \"Non-OECD - Russia\", \"Work-Life Balance - Employees working very long hours as pct\": 0.1}, {\"Country\": \"Non-OECD - South Africa\", \"Work-Life Balance - Employees working very long hours as pct\": 15.4}]}}, {\"mode\": \"vega-lite\"});\n",
       "</script>"
      ],
      "text/plain": [
       "alt.Chart(...)"
      ]
     },
     "execution_count": 14,
     "metadata": {},
     "output_type": "execute_result"
    }
   ],
   "source": [
    "work_life_balance_data = df[['Country', 'Work-Life Balance - Employees working very long hours as pct']]\n",
    "\n",
    "work_chart = alt.Chart(work_life_balance_data).mark_bar().encode(\n",
    "    x=alt.X('Country:N', sort='-y', title='Country', axis=alt.Axis(labelAngle=-45)),\n",
    "    y=alt.Y('Work-Life Balance - Employees working very long hours as pct:Q', title='Employees Working Very Long Hours (%)'),\n",
    "    color=alt.Color('Work-Life Balance - Employees working very long hours as pct:Q', scale=common_color_scale, legend=None),\n",
    "    tooltip=[\n",
    "        alt.Tooltip('Country:N', title='Country'),\n",
    "        alt.Tooltip('Work-Life Balance - Employees working very long hours as pct:Q', title='Employees Working Very Long Hours (%)')\n",
    "        ]\n",
    ").properties(\n",
    "    title='Work-Life Balance per Country',\n",
    "    width=625,\n",
    "    height=290\n",
    ")\n",
    "work_chart"
   ]
  },
  {
   "cell_type": "markdown",
   "id": "baceae19-bc4c-4a31-be56-e24dbac30987",
   "metadata": {},
   "source": [
    "### Visualisation 2: Income"
   ]
  },
  {
   "cell_type": "code",
   "execution_count": 15,
   "id": "6c59e78c",
   "metadata": {
    "tags": []
   },
   "outputs": [
    {
     "data": {
      "text/html": [
       "\n",
       "<style>\n",
       "  #altair-viz-2cef86f031cb497499b9f94f938a4bfb.vega-embed {\n",
       "    width: 100%;\n",
       "    display: flex;\n",
       "  }\n",
       "\n",
       "  #altair-viz-2cef86f031cb497499b9f94f938a4bfb.vega-embed details,\n",
       "  #altair-viz-2cef86f031cb497499b9f94f938a4bfb.vega-embed details summary {\n",
       "    position: relative;\n",
       "  }\n",
       "</style>\n",
       "<div id=\"altair-viz-2cef86f031cb497499b9f94f938a4bfb\"></div>\n",
       "<script type=\"text/javascript\">\n",
       "  var VEGA_DEBUG = (typeof VEGA_DEBUG == \"undefined\") ? {} : VEGA_DEBUG;\n",
       "  (function(spec, embedOpt){\n",
       "    let outputDiv = document.currentScript.previousElementSibling;\n",
       "    if (outputDiv.id !== \"altair-viz-2cef86f031cb497499b9f94f938a4bfb\") {\n",
       "      outputDiv = document.getElementById(\"altair-viz-2cef86f031cb497499b9f94f938a4bfb\");\n",
       "    }\n",
       "    const paths = {\n",
       "      \"vega\": \"https://cdn.jsdelivr.net/npm/vega@5?noext\",\n",
       "      \"vega-lib\": \"https://cdn.jsdelivr.net/npm/vega-lib?noext\",\n",
       "      \"vega-lite\": \"https://cdn.jsdelivr.net/npm/vega-lite@5.15.1?noext\",\n",
       "      \"vega-embed\": \"https://cdn.jsdelivr.net/npm/vega-embed@6?noext\",\n",
       "    };\n",
       "\n",
       "    function maybeLoadScript(lib, version) {\n",
       "      var key = `${lib.replace(\"-\", \"\")}_version`;\n",
       "      return (VEGA_DEBUG[key] == version) ?\n",
       "        Promise.resolve(paths[lib]) :\n",
       "        new Promise(function(resolve, reject) {\n",
       "          var s = document.createElement('script');\n",
       "          document.getElementsByTagName(\"head\")[0].appendChild(s);\n",
       "          s.async = true;\n",
       "          s.onload = () => {\n",
       "            VEGA_DEBUG[key] = version;\n",
       "            return resolve(paths[lib]);\n",
       "          };\n",
       "          s.onerror = () => reject(`Error loading script: ${paths[lib]}`);\n",
       "          s.src = paths[lib];\n",
       "        });\n",
       "    }\n",
       "\n",
       "    function showError(err) {\n",
       "      outputDiv.innerHTML = `<div class=\"error\" style=\"color:red;\">${err}</div>`;\n",
       "      throw err;\n",
       "    }\n",
       "\n",
       "    function displayChart(vegaEmbed) {\n",
       "      vegaEmbed(outputDiv, spec, embedOpt)\n",
       "        .catch(err => showError(`Javascript Error: ${err.message}<br>This usually means there's a typo in your chart specification. See the javascript console for the full traceback.`));\n",
       "    }\n",
       "\n",
       "    if(typeof define === \"function\" && define.amd) {\n",
       "      requirejs.config({paths});\n",
       "      require([\"vega-embed\"], displayChart, err => showError(`Error loading script: ${err.message}`));\n",
       "    } else {\n",
       "      maybeLoadScript(\"vega\", \"5\")\n",
       "        .then(() => maybeLoadScript(\"vega-lite\", \"5.15.1\"))\n",
       "        .then(() => maybeLoadScript(\"vega-embed\", \"6\"))\n",
       "        .catch(showError)\n",
       "        .then(() => displayChart(vegaEmbed));\n",
       "    }\n",
       "  })({\"config\": {\"view\": {\"continuousWidth\": 300, \"continuousHeight\": 300}}, \"data\": {\"name\": \"data-b3631113c56cfc33f8c17f630ae90858\"}, \"mark\": {\"type\": \"bar\"}, \"encoding\": {\"color\": {\"field\": \"Income - Household net adjusted disposable income in usd\", \"legend\": null, \"scale\": {\"scheme\": \"bluegreen\"}, \"type\": \"quantitative\"}, \"tooltip\": [{\"field\": \"Country\", \"title\": \"Country\", \"type\": \"nominal\"}, {\"field\": \"Income - Household net adjusted disposable income in usd\", \"title\": \"Household Net Adjusted Disposable Income (USD)\", \"type\": \"quantitative\"}], \"x\": {\"axis\": {\"labelAngle\": -45}, \"field\": \"Country\", \"sort\": \"-y\", \"title\": \"Country\", \"type\": \"nominal\"}, \"y\": {\"field\": \"Income - Household net adjusted disposable income in usd\", \"title\": \"Household Net Adjusted Disposable Income (USD)\", \"type\": \"quantitative\"}}, \"height\": 290, \"title\": \"Disposable Income per Country\", \"width\": 625, \"$schema\": \"https://vega.github.io/schema/vega-lite/v5.15.1.json\", \"datasets\": {\"data-b3631113c56cfc33f8c17f630ae90858\": [{\"Country\": \"Australia\", \"Income - Household net adjusted disposable income in usd\": 37433.0}, {\"Country\": \"Austria\", \"Income - Household net adjusted disposable income in usd\": 37001.0}, {\"Country\": \"Belgium\", \"Income - Household net adjusted disposable income in usd\": 34884.0}, {\"Country\": \"Canada\", \"Income - Household net adjusted disposable income in usd\": 34421.0}, {\"Country\": \"Chile\", \"Income - Household net adjusted disposable income in usd\": 29431.0}, {\"Country\": \"Colombia\", \"Income - Household net adjusted disposable income in usd\": 29431.0}, {\"Country\": \"Costa Rica\", \"Income - Household net adjusted disposable income in usd\": 16517.0}, {\"Country\": \"Czech Republic\", \"Income - Household net adjusted disposable income in usd\": 26664.0}, {\"Country\": \"Denmark\", \"Income - Household net adjusted disposable income in usd\": 33774.0}, {\"Country\": \"Estonia\", \"Income - Household net adjusted disposable income in usd\": 23784.0}, {\"Country\": \"Finland\", \"Income - Household net adjusted disposable income in usd\": 33471.0}, {\"Country\": \"France\", \"Income - Household net adjusted disposable income in usd\": 34375.0}, {\"Country\": \"Germany\", \"Income - Household net adjusted disposable income in usd\": 38971.0}, {\"Country\": \"Greece\", \"Income - Household net adjusted disposable income in usd\": 20791.0}, {\"Country\": \"Hungary\", \"Income - Household net adjusted disposable income in usd\": 21026.0}, {\"Country\": \"Iceland\", \"Income - Household net adjusted disposable income in usd\": 29431.0}, {\"Country\": \"Ireland\", \"Income - Household net adjusted disposable income in usd\": 29488.0}, {\"Country\": \"Israel\", \"Income - Household net adjusted disposable income in usd\": 29431.0}, {\"Country\": \"Italy\", \"Income - Household net adjusted disposable income in usd\": 29431.0}, {\"Country\": \"Japan\", \"Income - Household net adjusted disposable income in usd\": 28872.0}, {\"Country\": \"Korea\", \"Income - Household net adjusted disposable income in usd\": 24590.0}, {\"Country\": \"Latvia\", \"Income - Household net adjusted disposable income in usd\": 19783.0}, {\"Country\": \"Lithuania\", \"Income - Household net adjusted disposable income in usd\": 26976.0}, {\"Country\": \"Luxembourg\", \"Income - Household net adjusted disposable income in usd\": 44773.0}, {\"Country\": \"Mexico\", \"Income - Household net adjusted disposable income in usd\": 16269.0}, {\"Country\": \"Netherlands\", \"Income - Household net adjusted disposable income in usd\": 34984.0}, {\"Country\": \"New Zealand\", \"Income - Household net adjusted disposable income in usd\": 39024.0}, {\"Country\": \"Norway\", \"Income - Household net adjusted disposable income in usd\": 39144.0}, {\"Country\": \"Poland\", \"Income - Household net adjusted disposable income in usd\": 23675.0}, {\"Country\": \"Portugal\", \"Income - Household net adjusted disposable income in usd\": 24877.0}, {\"Country\": \"Slovak Republic\", \"Income - Household net adjusted disposable income in usd\": 21149.0}, {\"Country\": \"Slovenia\", \"Income - Household net adjusted disposable income in usd\": 25250.0}, {\"Country\": \"Spain\", \"Income - Household net adjusted disposable income in usd\": 27155.0}, {\"Country\": \"Sweden\", \"Income - Household net adjusted disposable income in usd\": 33730.0}, {\"Country\": \"Switzerland\", \"Income - Household net adjusted disposable income in usd\": 39697.0}, {\"Country\": \"Turkey\", \"Income - Household net adjusted disposable income in usd\": 29431.0}, {\"Country\": \"United Kingdom\", \"Income - Household net adjusted disposable income in usd\": 33049.0}, {\"Country\": \"United States\", \"Income - Household net adjusted disposable income in usd\": 51147.0}, {\"Country\": \"Non-OECD - Brazil\", \"Income - Household net adjusted disposable income in usd\": 29431.0}, {\"Country\": \"Non-OECD - Russia\", \"Income - Household net adjusted disposable income in usd\": 19546.0}, {\"Country\": \"Non-OECD - South Africa\", \"Income - Household net adjusted disposable income in usd\": 9338.0}]}}, {\"mode\": \"vega-lite\"});\n",
       "</script>"
      ],
      "text/plain": [
       "alt.Chart(...)"
      ]
     },
     "execution_count": 15,
     "metadata": {},
     "output_type": "execute_result"
    }
   ],
   "source": [
    "income_data = df[['Country', 'Income - Household net adjusted disposable income in usd']]\n",
    "\n",
    "income_chart = alt.Chart(income_data).mark_bar().encode(\n",
    "    x=alt.X('Country:N', sort='-y', title='Country', axis=alt.Axis(labelAngle=-45)),\n",
    "    y=alt.Y('Income - Household net adjusted disposable income in usd:Q', title='Household Net Adjusted Disposable Income (USD)'),\n",
    "    color=alt.Color('Income - Household net adjusted disposable income in usd:Q', scale=common_color_scale, legend=None),\n",
    "    tooltip=[\n",
    "        alt.Tooltip('Country:N', title='Country'),\n",
    "        alt.Tooltip('Income - Household net adjusted disposable income in usd:Q', title='Household Net Adjusted Disposable Income (USD)')\n",
    "        ]\n",
    ").properties(\n",
    "    title='Disposable Income per Country',\n",
    "    width=625,\n",
    "    height=290\n",
    ")\n",
    "\n",
    "income_chart"
   ]
  },
  {
   "cell_type": "markdown",
   "id": "49dddc9f-ae1b-4382-b126-d4da92ef6ad5",
   "metadata": {},
   "source": [
    "### Visualisation 3: Life Satisfaction"
   ]
  },
  {
   "cell_type": "code",
   "execution_count": 11,
   "id": "cfc723c4",
   "metadata": {
    "tags": []
   },
   "outputs": [],
   "source": [
    "country_to_numeric_iso = {\n",
    "    'Australia': '036', 'Austria': '040', 'Belgium': '056', 'Canada': '124', 'Chile': '152',\n",
    "    'Colombia': '170', 'Costa Rica': '188', 'Czech Republic': '203', 'Denmark': '208',\n",
    "    'Estonia': '233', 'Finland': '246', 'France': '250', 'Germany': '276', 'Greece': '300',\n",
    "    'Hungary': '348', 'Iceland': '352', 'Ireland': '372', 'Israel': '376', 'Italy': '380',\n",
    "    'Japan': '392', 'Korea': '410', 'Latvia': '428', 'Lithuania': '440', 'Luxembourg': '442',\n",
    "    'Mexico': '484', 'Netherlands': '528', 'New Zealand': '554', 'Norway': '578', 'Poland': '616',\n",
    "    'Portugal': '620', 'Slovak Republic': '703', 'Slovenia': '705', 'Spain': '724', 'Sweden': '752',\n",
    "    'Switzerland': '756', 'Turkey': '792', 'United Kingdom': '826', 'United States': '840',\n",
    "    # Non-OECD countries\n",
    "    'Non-OECD - Brazil': '076', 'Non-OECD - Russia': '643', 'Non-OECD - South Africa': '710'\n",
    "}\n",
    "\n",
    "iso_numeric_to_country = {v: k for k, v in country_to_numeric_iso.items()}\n",
    "\n",
    "df['ISO_numeric'] = df['Country'].map(country_to_numeric_iso)\n",
    "df['Country_Name'] = df['ISO_numeric'].map(iso_numeric_to_country)"
   ]
  },
  {
   "cell_type": "code",
   "execution_count": 21,
   "id": "27c0b939",
   "metadata": {
    "tags": []
   },
   "outputs": [
    {
     "data": {
      "text/html": [
       "\n",
       "<style>\n",
       "  #altair-viz-80516db480594b4ca20de268a7e1a781.vega-embed {\n",
       "    width: 100%;\n",
       "    display: flex;\n",
       "  }\n",
       "\n",
       "  #altair-viz-80516db480594b4ca20de268a7e1a781.vega-embed details,\n",
       "  #altair-viz-80516db480594b4ca20de268a7e1a781.vega-embed details summary {\n",
       "    position: relative;\n",
       "  }\n",
       "</style>\n",
       "<div id=\"altair-viz-80516db480594b4ca20de268a7e1a781\"></div>\n",
       "<script type=\"text/javascript\">\n",
       "  var VEGA_DEBUG = (typeof VEGA_DEBUG == \"undefined\") ? {} : VEGA_DEBUG;\n",
       "  (function(spec, embedOpt){\n",
       "    let outputDiv = document.currentScript.previousElementSibling;\n",
       "    if (outputDiv.id !== \"altair-viz-80516db480594b4ca20de268a7e1a781\") {\n",
       "      outputDiv = document.getElementById(\"altair-viz-80516db480594b4ca20de268a7e1a781\");\n",
       "    }\n",
       "    const paths = {\n",
       "      \"vega\": \"https://cdn.jsdelivr.net/npm/vega@5?noext\",\n",
       "      \"vega-lib\": \"https://cdn.jsdelivr.net/npm/vega-lib?noext\",\n",
       "      \"vega-lite\": \"https://cdn.jsdelivr.net/npm/vega-lite@5.15.1?noext\",\n",
       "      \"vega-embed\": \"https://cdn.jsdelivr.net/npm/vega-embed@6?noext\",\n",
       "    };\n",
       "\n",
       "    function maybeLoadScript(lib, version) {\n",
       "      var key = `${lib.replace(\"-\", \"\")}_version`;\n",
       "      return (VEGA_DEBUG[key] == version) ?\n",
       "        Promise.resolve(paths[lib]) :\n",
       "        new Promise(function(resolve, reject) {\n",
       "          var s = document.createElement('script');\n",
       "          document.getElementsByTagName(\"head\")[0].appendChild(s);\n",
       "          s.async = true;\n",
       "          s.onload = () => {\n",
       "            VEGA_DEBUG[key] = version;\n",
       "            return resolve(paths[lib]);\n",
       "          };\n",
       "          s.onerror = () => reject(`Error loading script: ${paths[lib]}`);\n",
       "          s.src = paths[lib];\n",
       "        });\n",
       "    }\n",
       "\n",
       "    function showError(err) {\n",
       "      outputDiv.innerHTML = `<div class=\"error\" style=\"color:red;\">${err}</div>`;\n",
       "      throw err;\n",
       "    }\n",
       "\n",
       "    function displayChart(vegaEmbed) {\n",
       "      vegaEmbed(outputDiv, spec, embedOpt)\n",
       "        .catch(err => showError(`Javascript Error: ${err.message}<br>This usually means there's a typo in your chart specification. See the javascript console for the full traceback.`));\n",
       "    }\n",
       "\n",
       "    if(typeof define === \"function\" && define.amd) {\n",
       "      requirejs.config({paths});\n",
       "      require([\"vega-embed\"], displayChart, err => showError(`Error loading script: ${err.message}`));\n",
       "    } else {\n",
       "      maybeLoadScript(\"vega\", \"5\")\n",
       "        .then(() => maybeLoadScript(\"vega-lite\", \"5.15.1\"))\n",
       "        .then(() => maybeLoadScript(\"vega-embed\", \"6\"))\n",
       "        .catch(showError)\n",
       "        .then(() => displayChart(vegaEmbed));\n",
       "    }\n",
       "  })({\"config\": {\"view\": {\"continuousWidth\": 300, \"continuousHeight\": 300}}, \"layer\": [{\"mark\": {\"type\": \"geoshape\", \"fill\": \"lightgray\", \"stroke\": \"white\"}, \"projection\": {\"type\": \"equirectangular\"}, \"title\": \"Life Satisfaction Score per Country\"}, {\"mark\": {\"type\": \"geoshape\"}, \"encoding\": {\"color\": {\"field\": \"Life Satisfaction Score (Avg Score)\", \"scale\": {\"scheme\": \"bluegreen\"}, \"title\": \"Average Score\", \"type\": \"quantitative\"}, \"tooltip\": [{\"field\": \"Country_Name\", \"title\": \"Country\", \"type\": \"nominal\"}, {\"field\": \"Life Satisfaction Score (Avg Score)\", \"type\": \"quantitative\"}]}, \"transform\": [{\"lookup\": \"id\", \"from\": {\"data\": {\"name\": \"data-ab6df51b83130c2e38a7b136872b0d72\"}, \"key\": \"ISO_numeric\", \"fields\": [\"Country_Name\", \"Life Satisfaction Score (Avg Score)\"]}}]}], \"data\": {\"url\": \"https://vega.github.io/vega-datasets/data/world-110m.json\", \"format\": {\"feature\": \"countries\", \"type\": \"topojson\"}}, \"height\": 580, \"width\": 1250, \"$schema\": \"https://vega.github.io/schema/vega-lite/v5.15.1.json\", \"datasets\": {\"data-ab6df51b83130c2e38a7b136872b0d72\": [{\"Country\": \"Australia\", \"Housing - Dwellings without basic facilities as pct\": 0.6499999999999999, \"Housing - Housing expenditure as pct\": 19.4, \"Housing - Rooms per person as rat\": 1.7, \"Income - Household net adjusted disposable income in usd\": 37433.0, \"Income - Household net wealth in usd\": 528768.0, \"Jobs - Labour market insecurity as pct\": 3.1, \"Jobs - Employment rate as pct\": 73, \"Jobs - Long-term unemployment rate as pct\": 1.0, \"Jobs - Personal earnings in usd\": 55206.0, \"Community - Quality of support network as pct\": 93, \"Education - Educational attainment as pct\": 84.0, \"Education - Student skills as avg score\": 499.0, \"Education - Years in education in yrs\": 20.0, \"Environment - Air pollution in ugm3\": 6.7, \"Environment - Water quality as pct\": 92, \"Civic Engagement - Stakeholder engagement for developing regulations as avg score\": 2.7, \"Civic Engagement - Voter turnout as pct\": 92, \"Health - Life expectancy in yrs\": 83.0, \"Health - Self-reported health as pct\": 85.0, \"Life Satisfaction - Life satisfaction as avg score\": 7.1, \"Safety - Feeling safe walking alone at night as pct\": 67, \"Safety - Homicide rate as rat\": 0.9, \"Work-Life Balance - Employees working very long hours as pct\": 12.5, \"Work-Life Balance - Time devoted to leisure and personal care as hrs\": 14.36, \"ISO_numeric\": \"036\", \"Country_Name\": \"Australia\", \"Life Satisfaction Score (Avg Score)\": 7.1}, {\"Country\": \"Austria\", \"Housing - Dwellings without basic facilities as pct\": 0.8, \"Housing - Housing expenditure as pct\": 20.8, \"Housing - Rooms per person as rat\": 1.6, \"Income - Household net adjusted disposable income in usd\": 37001.0, \"Income - Household net wealth in usd\": 309637.0, \"Jobs - Labour market insecurity as pct\": 2.3, \"Jobs - Employment rate as pct\": 72, \"Jobs - Long-term unemployment rate as pct\": 1.3, \"Jobs - Personal earnings in usd\": 53132.0, \"Community - Quality of support network as pct\": 92, \"Education - Educational attainment as pct\": 86.0, \"Education - Student skills as avg score\": 491.0, \"Education - Years in education in yrs\": 17.0, \"Environment - Air pollution in ugm3\": 12.2, \"Environment - Water quality as pct\": 92, \"Civic Engagement - Stakeholder engagement for developing regulations as avg score\": 1.3, \"Civic Engagement - Voter turnout as pct\": 76, \"Health - Life expectancy in yrs\": 82.0, \"Health - Self-reported health as pct\": 71.0, \"Life Satisfaction - Life satisfaction as avg score\": 7.2, \"Safety - Feeling safe walking alone at night as pct\": 86, \"Safety - Homicide rate as rat\": 0.5, \"Work-Life Balance - Employees working very long hours as pct\": 5.3, \"Work-Life Balance - Time devoted to leisure and personal care as hrs\": 14.51, \"ISO_numeric\": \"040\", \"Country_Name\": \"Austria\", \"Life Satisfaction Score (Avg Score)\": 7.2}, {\"Country\": \"Belgium\", \"Housing - Dwellings without basic facilities as pct\": 0.7, \"Housing - Housing expenditure as pct\": 20.0, \"Housing - Rooms per person as rat\": 2.1, \"Income - Household net adjusted disposable income in usd\": 34884.0, \"Income - Household net wealth in usd\": 447607.0, \"Jobs - Labour market insecurity as pct\": 2.4, \"Jobs - Employment rate as pct\": 65, \"Jobs - Long-term unemployment rate as pct\": 2.3, \"Jobs - Personal earnings in usd\": 54327.0, \"Community - Quality of support network as pct\": 90, \"Education - Educational attainment as pct\": 80.0, \"Education - Student skills as avg score\": 500.0, \"Education - Years in education in yrs\": 19.0, \"Environment - Air pollution in ugm3\": 12.8, \"Environment - Water quality as pct\": 79, \"Civic Engagement - Stakeholder engagement for developing regulations as avg score\": 2.0, \"Civic Engagement - Voter turnout as pct\": 88, \"Health - Life expectancy in yrs\": 82.1, \"Health - Self-reported health as pct\": 74.0, \"Life Satisfaction - Life satisfaction as avg score\": 6.8, \"Safety - Feeling safe walking alone at night as pct\": 56, \"Safety - Homicide rate as rat\": 1.1, \"Work-Life Balance - Employees working very long hours as pct\": 4.3, \"Work-Life Balance - Time devoted to leisure and personal care as hrs\": 15.52, \"ISO_numeric\": \"056\", \"Country_Name\": \"Belgium\", \"Life Satisfaction Score (Avg Score)\": 6.8}, {\"Country\": \"Canada\", \"Housing - Dwellings without basic facilities as pct\": 0.2, \"Housing - Housing expenditure as pct\": 22.9, \"Housing - Rooms per person as rat\": 2.6, \"Income - Household net adjusted disposable income in usd\": 34421.0, \"Income - Household net wealth in usd\": 478240.0, \"Jobs - Labour market insecurity as pct\": 3.8, \"Jobs - Employment rate as pct\": 70, \"Jobs - Long-term unemployment rate as pct\": 0.5, \"Jobs - Personal earnings in usd\": 55342.0, \"Community - Quality of support network as pct\": 93, \"Education - Educational attainment as pct\": 92.0, \"Education - Student skills as avg score\": 517.0, \"Education - Years in education in yrs\": 17.0, \"Environment - Air pollution in ugm3\": 7.1, \"Environment - Water quality as pct\": 90, \"Civic Engagement - Stakeholder engagement for developing regulations as avg score\": 2.9, \"Civic Engagement - Voter turnout as pct\": 68, \"Health - Life expectancy in yrs\": 82.1, \"Health - Self-reported health as pct\": 89.0, \"Life Satisfaction - Life satisfaction as avg score\": 7.0, \"Safety - Feeling safe walking alone at night as pct\": 78, \"Safety - Homicide rate as rat\": 1.2, \"Work-Life Balance - Employees working very long hours as pct\": 3.3, \"Work-Life Balance - Time devoted to leisure and personal care as hrs\": 14.57, \"ISO_numeric\": \"124\", \"Country_Name\": \"Canada\", \"Life Satisfaction Score (Avg Score)\": 7.0}, {\"Country\": \"Chile\", \"Housing - Dwellings without basic facilities as pct\": 9.4, \"Housing - Housing expenditure as pct\": 18.4, \"Housing - Rooms per person as rat\": 1.9, \"Income - Household net adjusted disposable income in usd\": 29431.0, \"Income - Household net wealth in usd\": 135787.0, \"Jobs - Labour market insecurity as pct\": 7.0, \"Jobs - Employment rate as pct\": 56, \"Jobs - Long-term unemployment rate as pct\": 1.2, \"Jobs - Personal earnings in usd\": 26729.0, \"Community - Quality of support network as pct\": 88, \"Education - Educational attainment as pct\": 67.0, \"Education - Student skills as avg score\": 438.0, \"Education - Years in education in yrs\": 17.0, \"Environment - Air pollution in ugm3\": 23.4, \"Environment - Water quality as pct\": 62, \"Civic Engagement - Stakeholder engagement for developing regulations as avg score\": 1.3, \"Civic Engagement - Voter turnout as pct\": 47, \"Health - Life expectancy in yrs\": 80.6, \"Health - Self-reported health as pct\": 60.0, \"Life Satisfaction - Life satisfaction as avg score\": 6.2, \"Safety - Feeling safe walking alone at night as pct\": 41, \"Safety - Homicide rate as rat\": 2.4, \"Work-Life Balance - Employees working very long hours as pct\": 7.7, \"Work-Life Balance - Time devoted to leisure and personal care as hrs\": 14.988, \"ISO_numeric\": \"152\", \"Country_Name\": \"Chile\", \"Life Satisfaction Score (Avg Score)\": 6.2}, {\"Country\": \"Colombia\", \"Housing - Dwellings without basic facilities as pct\": 12.3, \"Housing - Housing expenditure as pct\": 20.1, \"Housing - Rooms per person as rat\": 1.0, \"Income - Household net adjusted disposable income in usd\": 29431.0, \"Income - Household net wealth in usd\": 323959.6206896552, \"Jobs - Labour market insecurity as pct\": 3.9, \"Jobs - Employment rate as pct\": 58, \"Jobs - Long-term unemployment rate as pct\": 1.1, \"Jobs - Personal earnings in usd\": 45269.0, \"Community - Quality of support network as pct\": 80, \"Education - Educational attainment as pct\": 59.0, \"Education - Student skills as avg score\": 406.0, \"Education - Years in education in yrs\": 14.0, \"Environment - Air pollution in ugm3\": 22.6, \"Environment - Water quality as pct\": 82, \"Civic Engagement - Stakeholder engagement for developing regulations as avg score\": 1.4, \"Civic Engagement - Voter turnout as pct\": 53, \"Health - Life expectancy in yrs\": 76.7, \"Health - Self-reported health as pct\": 80.0, \"Life Satisfaction - Life satisfaction as avg score\": 5.7, \"Safety - Feeling safe walking alone at night as pct\": 50, \"Safety - Homicide rate as rat\": 23.1, \"Work-Life Balance - Employees working very long hours as pct\": 23.7, \"Work-Life Balance - Time devoted to leisure and personal care as hrs\": 15.069090909090908, \"ISO_numeric\": \"170\", \"Country_Name\": \"Colombia\", \"Life Satisfaction Score (Avg Score)\": 5.7}, {\"Country\": \"Costa Rica\", \"Housing - Dwellings without basic facilities as pct\": 2.3, \"Housing - Housing expenditure as pct\": 17.0, \"Housing - Rooms per person as rat\": 1.2, \"Income - Household net adjusted disposable income in usd\": 16517.0, \"Income - Household net wealth in usd\": 323959.6206896552, \"Jobs - Labour market insecurity as pct\": 3.9, \"Jobs - Employment rate as pct\": 55, \"Jobs - Long-term unemployment rate as pct\": 1.5, \"Jobs - Personal earnings in usd\": 45269.0, \"Community - Quality of support network as pct\": 82, \"Education - Educational attainment as pct\": 43.0, \"Education - Student skills as avg score\": 415.0, \"Education - Years in education in yrs\": 18.0, \"Environment - Air pollution in ugm3\": 17.5, \"Environment - Water quality as pct\": 87, \"Civic Engagement - Stakeholder engagement for developing regulations as avg score\": 1.8, \"Civic Engagement - Voter turnout as pct\": 66, \"Health - Life expectancy in yrs\": 80.5, \"Health - Self-reported health as pct\": 73.0, \"Life Satisfaction - Life satisfaction as avg score\": 6.3, \"Safety - Feeling safe walking alone at night as pct\": 47, \"Safety - Homicide rate as rat\": 10.0, \"Work-Life Balance - Employees working very long hours as pct\": 22.0, \"Work-Life Balance - Time devoted to leisure and personal care as hrs\": 15.069090909090908, \"ISO_numeric\": \"188\", \"Country_Name\": \"Costa Rica\", \"Life Satisfaction Score (Avg Score)\": 6.3}, {\"Country\": \"Czech Republic\", \"Housing - Dwellings without basic facilities as pct\": 0.5, \"Housing - Housing expenditure as pct\": 23.4, \"Housing - Rooms per person as rat\": 1.5, \"Income - Household net adjusted disposable income in usd\": 26664.0, \"Income - Household net wealth in usd\": 323959.6206896552, \"Jobs - Labour market insecurity as pct\": 2.3, \"Jobs - Employment rate as pct\": 74, \"Jobs - Long-term unemployment rate as pct\": 0.6, \"Jobs - Personal earnings in usd\": 29885.0, \"Community - Quality of support network as pct\": 96, \"Education - Educational attainment as pct\": 94.0, \"Education - Student skills as avg score\": 495.0, \"Education - Years in education in yrs\": 18.0, \"Environment - Air pollution in ugm3\": 17.0, \"Environment - Water quality as pct\": 89, \"Civic Engagement - Stakeholder engagement for developing regulations as avg score\": 1.6, \"Civic Engagement - Voter turnout as pct\": 62, \"Health - Life expectancy in yrs\": 79.3, \"Health - Self-reported health as pct\": 62.0, \"Life Satisfaction - Life satisfaction as avg score\": 6.9, \"Safety - Feeling safe walking alone at night as pct\": 77, \"Safety - Homicide rate as rat\": 0.7, \"Work-Life Balance - Employees working very long hours as pct\": 4.5, \"Work-Life Balance - Time devoted to leisure and personal care as hrs\": 15.069090909090908, \"ISO_numeric\": \"203\", \"Country_Name\": \"Czech Republic\", \"Life Satisfaction Score (Avg Score)\": 6.9}, {\"Country\": \"Denmark\", \"Housing - Dwellings without basic facilities as pct\": 0.5, \"Housing - Housing expenditure as pct\": 23.3, \"Housing - Rooms per person as rat\": 1.9, \"Income - Household net adjusted disposable income in usd\": 33774.0, \"Income - Household net wealth in usd\": 149864.0, \"Jobs - Labour market insecurity as pct\": 4.5, \"Jobs - Employment rate as pct\": 74, \"Jobs - Long-term unemployment rate as pct\": 0.9, \"Jobs - Personal earnings in usd\": 58430.0, \"Community - Quality of support network as pct\": 95, \"Education - Educational attainment as pct\": 82.0, \"Education - Student skills as avg score\": 501.0, \"Education - Years in education in yrs\": 19.0, \"Environment - Air pollution in ugm3\": 10.0, \"Environment - Water quality as pct\": 93, \"Civic Engagement - Stakeholder engagement for developing regulations as avg score\": 2.0, \"Civic Engagement - Voter turnout as pct\": 85, \"Health - Life expectancy in yrs\": 81.5, \"Health - Self-reported health as pct\": 70.0, \"Life Satisfaction - Life satisfaction as avg score\": 7.5, \"Safety - Feeling safe walking alone at night as pct\": 85, \"Safety - Homicide rate as rat\": 0.5, \"Work-Life Balance - Employees working very long hours as pct\": 1.1, \"Work-Life Balance - Time devoted to leisure and personal care as hrs\": 14.988, \"ISO_numeric\": \"208\", \"Country_Name\": \"Denmark\", \"Life Satisfaction Score (Avg Score)\": 7.5}, {\"Country\": \"Estonia\", \"Housing - Dwellings without basic facilities as pct\": 5.7, \"Housing - Housing expenditure as pct\": 17.0, \"Housing - Rooms per person as rat\": 1.7, \"Income - Household net adjusted disposable income in usd\": 23784.0, \"Income - Household net wealth in usd\": 188627.0, \"Jobs - Labour market insecurity as pct\": 5.4, \"Jobs - Employment rate as pct\": 74, \"Jobs - Long-term unemployment rate as pct\": 1.2, \"Jobs - Personal earnings in usd\": 30720.0, \"Community - Quality of support network as pct\": 95, \"Education - Educational attainment as pct\": 91.0, \"Education - Student skills as avg score\": 526.0, \"Education - Years in education in yrs\": 18.0, \"Environment - Air pollution in ugm3\": 5.9, \"Environment - Water quality as pct\": 86, \"Civic Engagement - Stakeholder engagement for developing regulations as avg score\": 2.7, \"Civic Engagement - Voter turnout as pct\": 64, \"Health - Life expectancy in yrs\": 78.8, \"Health - Self-reported health as pct\": 57.0, \"Life Satisfaction - Life satisfaction as avg score\": 6.5, \"Safety - Feeling safe walking alone at night as pct\": 79, \"Safety - Homicide rate as rat\": 1.9, \"Work-Life Balance - Employees working very long hours as pct\": 2.2, \"Work-Life Balance - Time devoted to leisure and personal care as hrs\": 14.98, \"ISO_numeric\": \"233\", \"Country_Name\": \"Estonia\", \"Life Satisfaction Score (Avg Score)\": 6.5}, {\"Country\": \"Finland\", \"Housing - Dwellings without basic facilities as pct\": 0.4, \"Housing - Housing expenditure as pct\": 23.1, \"Housing - Rooms per person as rat\": 1.9, \"Income - Household net adjusted disposable income in usd\": 33471.0, \"Income - Household net wealth in usd\": 230032.0, \"Jobs - Labour market insecurity as pct\": 2.2, \"Jobs - Employment rate as pct\": 72, \"Jobs - Long-term unemployment rate as pct\": 1.2, \"Jobs - Personal earnings in usd\": 46230.0, \"Community - Quality of support network as pct\": 96, \"Education - Educational attainment as pct\": 91.0, \"Education - Student skills as avg score\": 516.0, \"Education - Years in education in yrs\": 20.0, \"Environment - Air pollution in ugm3\": 5.5, \"Environment - Water quality as pct\": 97, \"Civic Engagement - Stakeholder engagement for developing regulations as avg score\": 2.2, \"Civic Engagement - Voter turnout as pct\": 69, \"Health - Life expectancy in yrs\": 82.1, \"Health - Self-reported health as pct\": 68.0, \"Life Satisfaction - Life satisfaction as avg score\": 7.9, \"Safety - Feeling safe walking alone at night as pct\": 88, \"Safety - Homicide rate as rat\": 1.2, \"Work-Life Balance - Employees working very long hours as pct\": 3.6, \"Work-Life Balance - Time devoted to leisure and personal care as hrs\": 15.17, \"ISO_numeric\": \"246\", \"Country_Name\": \"Finland\", \"Life Satisfaction Score (Avg Score)\": 7.9}, {\"Country\": \"France\", \"Housing - Dwellings without basic facilities as pct\": 0.5, \"Housing - Housing expenditure as pct\": 20.7, \"Housing - Rooms per person as rat\": 1.8, \"Income - Household net adjusted disposable income in usd\": 34375.0, \"Income - Household net wealth in usd\": 298639.0, \"Jobs - Labour market insecurity as pct\": 3.1, \"Jobs - Employment rate as pct\": 65, \"Jobs - Long-term unemployment rate as pct\": 2.9, \"Jobs - Personal earnings in usd\": 45581.0, \"Community - Quality of support network as pct\": 94, \"Education - Educational attainment as pct\": 81.0, \"Education - Student skills as avg score\": 494.0, \"Education - Years in education in yrs\": 17.0, \"Environment - Air pollution in ugm3\": 11.4, \"Environment - Water quality as pct\": 78, \"Civic Engagement - Stakeholder engagement for developing regulations as avg score\": 2.1, \"Civic Engagement - Voter turnout as pct\": 75, \"Health - Life expectancy in yrs\": 82.9, \"Health - Self-reported health as pct\": 67.0, \"Life Satisfaction - Life satisfaction as avg score\": 6.7, \"Safety - Feeling safe walking alone at night as pct\": 74, \"Safety - Homicide rate as rat\": 0.4, \"Work-Life Balance - Employees working very long hours as pct\": 7.7, \"Work-Life Balance - Time devoted to leisure and personal care as hrs\": 16.2, \"ISO_numeric\": \"250\", \"Country_Name\": \"France\", \"Life Satisfaction Score (Avg Score)\": 6.7}, {\"Country\": \"Germany\", \"Housing - Dwellings without basic facilities as pct\": 0.1, \"Housing - Housing expenditure as pct\": 20.0, \"Housing - Rooms per person as rat\": 1.8, \"Income - Household net adjusted disposable income in usd\": 38971.0, \"Income - Household net wealth in usd\": 304317.0, \"Jobs - Labour market insecurity as pct\": 1.4, \"Jobs - Employment rate as pct\": 77, \"Jobs - Long-term unemployment rate as pct\": 1.2, \"Jobs - Personal earnings in usd\": 53745.0, \"Community - Quality of support network as pct\": 90, \"Education - Educational attainment as pct\": 86.0, \"Education - Student skills as avg score\": 500.0, \"Education - Years in education in yrs\": 18.0, \"Environment - Air pollution in ugm3\": 12.0, \"Environment - Water quality as pct\": 91, \"Civic Engagement - Stakeholder engagement for developing regulations as avg score\": 1.8, \"Civic Engagement - Voter turnout as pct\": 76, \"Health - Life expectancy in yrs\": 81.4, \"Health - Self-reported health as pct\": 66.0, \"Life Satisfaction - Life satisfaction as avg score\": 7.3, \"Safety - Feeling safe walking alone at night as pct\": 76, \"Safety - Homicide rate as rat\": 0.4, \"Work-Life Balance - Employees working very long hours as pct\": 3.9, \"Work-Life Balance - Time devoted to leisure and personal care as hrs\": 15.62, \"ISO_numeric\": \"276\", \"Country_Name\": \"Germany\", \"Life Satisfaction Score (Avg Score)\": 7.3}, {\"Country\": \"Greece\", \"Housing - Dwellings without basic facilities as pct\": 0.4, \"Housing - Housing expenditure as pct\": 21.8, \"Housing - Rooms per person as rat\": 1.2, \"Income - Household net adjusted disposable income in usd\": 20791.0, \"Income - Household net wealth in usd\": 148323.0, \"Jobs - Labour market insecurity as pct\": 21.7, \"Jobs - Employment rate as pct\": 56, \"Jobs - Long-term unemployment rate as pct\": 10.8, \"Jobs - Personal earnings in usd\": 27207.0, \"Community - Quality of support network as pct\": 78, \"Education - Educational attainment as pct\": 76.0, \"Education - Student skills as avg score\": 453.0, \"Education - Years in education in yrs\": 19.0, \"Environment - Air pollution in ugm3\": 14.5, \"Environment - Water quality as pct\": 67, \"Civic Engagement - Stakeholder engagement for developing regulations as avg score\": 1.8, \"Civic Engagement - Voter turnout as pct\": 58, \"Health - Life expectancy in yrs\": 81.7, \"Health - Self-reported health as pct\": 79.0, \"Life Satisfaction - Life satisfaction as avg score\": 5.8, \"Safety - Feeling safe walking alone at night as pct\": 69, \"Safety - Homicide rate as rat\": 1.0, \"Work-Life Balance - Employees working very long hours as pct\": 4.5, \"Work-Life Balance - Time devoted to leisure and personal care as hrs\": 15.03, \"ISO_numeric\": \"300\", \"Country_Name\": \"Greece\", \"Life Satisfaction Score (Avg Score)\": 5.8}, {\"Country\": \"Hungary\", \"Housing - Dwellings without basic facilities as pct\": 3.5, \"Housing - Housing expenditure as pct\": 19.9, \"Housing - Rooms per person as rat\": 1.4, \"Income - Household net adjusted disposable income in usd\": 21026.0, \"Income - Household net wealth in usd\": 150296.0, \"Jobs - Labour market insecurity as pct\": 3.8, \"Jobs - Employment rate as pct\": 70, \"Jobs - Long-term unemployment rate as pct\": 1.2, \"Jobs - Personal earnings in usd\": 25409.0, \"Community - Quality of support network as pct\": 94, \"Education - Educational attainment as pct\": 86.0, \"Education - Student skills as avg score\": 479.0, \"Education - Years in education in yrs\": 16.0, \"Environment - Air pollution in ugm3\": 16.7, \"Environment - Water quality as pct\": 81, \"Civic Engagement - Stakeholder engagement for developing regulations as avg score\": 1.2, \"Civic Engagement - Voter turnout as pct\": 70, \"Health - Life expectancy in yrs\": 76.4, \"Health - Self-reported health as pct\": 58.0, \"Life Satisfaction - Life satisfaction as avg score\": 6.0, \"Safety - Feeling safe walking alone at night as pct\": 74, \"Safety - Homicide rate as rat\": 0.9, \"Work-Life Balance - Employees working very long hours as pct\": 1.5, \"Work-Life Balance - Time devoted to leisure and personal care as hrs\": 15.08, \"ISO_numeric\": \"348\", \"Country_Name\": \"Hungary\", \"Life Satisfaction Score (Avg Score)\": 6.0}, {\"Country\": \"Iceland\", \"Housing - Dwellings without basic facilities as pct\": 0.0, \"Housing - Housing expenditure as pct\": 20.1, \"Housing - Rooms per person as rat\": 1.6, \"Income - Household net adjusted disposable income in usd\": 29431.0, \"Income - Household net wealth in usd\": 323959.6206896552, \"Jobs - Labour market insecurity as pct\": 1.0, \"Jobs - Employment rate as pct\": 78, \"Jobs - Long-term unemployment rate as pct\": 0.7, \"Jobs - Personal earnings in usd\": 67488.0, \"Community - Quality of support network as pct\": 98, \"Education - Educational attainment as pct\": 76.0, \"Education - Student skills as avg score\": 481.0, \"Education - Years in education in yrs\": 19.0, \"Environment - Air pollution in ugm3\": 6.4, \"Environment - Water quality as pct\": 97, \"Civic Engagement - Stakeholder engagement for developing regulations as avg score\": 2.1, \"Civic Engagement - Voter turnout as pct\": 81, \"Health - Life expectancy in yrs\": 83.2, \"Health - Self-reported health as pct\": 77.0, \"Life Satisfaction - Life satisfaction as avg score\": 7.6, \"Safety - Feeling safe walking alone at night as pct\": 85, \"Safety - Homicide rate as rat\": 0.3, \"Work-Life Balance - Employees working very long hours as pct\": 11.7, \"Work-Life Balance - Time devoted to leisure and personal care as hrs\": 15.069090909090908, \"ISO_numeric\": \"352\", \"Country_Name\": \"Iceland\", \"Life Satisfaction Score (Avg Score)\": 7.6}, {\"Country\": \"Ireland\", \"Housing - Dwellings without basic facilities as pct\": 0.2, \"Housing - Housing expenditure as pct\": 20.6, \"Housing - Rooms per person as rat\": 2.1, \"Income - Household net adjusted disposable income in usd\": 29488.0, \"Income - Household net wealth in usd\": 370341.0, \"Jobs - Labour market insecurity as pct\": 2.6, \"Jobs - Employment rate as pct\": 68, \"Jobs - Long-term unemployment rate as pct\": 1.2, \"Jobs - Personal earnings in usd\": 49474.0, \"Community - Quality of support network as pct\": 96, \"Education - Educational attainment as pct\": 85.0, \"Education - Student skills as avg score\": 505.0, \"Education - Years in education in yrs\": 18.0, \"Environment - Air pollution in ugm3\": 7.8, \"Environment - Water quality as pct\": 80, \"Civic Engagement - Stakeholder engagement for developing regulations as avg score\": 1.3, \"Civic Engagement - Voter turnout as pct\": 63, \"Health - Life expectancy in yrs\": 82.8, \"Health - Self-reported health as pct\": 84.0, \"Life Satisfaction - Life satisfaction as avg score\": 7.0, \"Safety - Feeling safe walking alone at night as pct\": 76, \"Safety - Homicide rate as rat\": 0.5, \"Work-Life Balance - Employees working very long hours as pct\": 4.7, \"Work-Life Balance - Time devoted to leisure and personal care as hrs\": 14.54, \"ISO_numeric\": \"372\", \"Country_Name\": \"Ireland\", \"Life Satisfaction Score (Avg Score)\": 7.0}, {\"Country\": \"Israel\", \"Housing - Dwellings without basic facilities as pct\": 0.6499999999999999, \"Housing - Housing expenditure as pct\": 20.1, \"Housing - Rooms per person as rat\": 1.2, \"Income - Household net adjusted disposable income in usd\": 29431.0, \"Income - Household net wealth in usd\": 323959.6206896552, \"Jobs - Labour market insecurity as pct\": 4.6, \"Jobs - Employment rate as pct\": 67, \"Jobs - Long-term unemployment rate as pct\": 0.2, \"Jobs - Personal earnings in usd\": 39322.0, \"Community - Quality of support network as pct\": 95, \"Education - Educational attainment as pct\": 88.0, \"Education - Student skills as avg score\": 465.0, \"Education - Years in education in yrs\": 16.0, \"Environment - Air pollution in ugm3\": 19.7, \"Environment - Water quality as pct\": 77, \"Civic Engagement - Stakeholder engagement for developing regulations as avg score\": 2.5, \"Civic Engagement - Voter turnout as pct\": 67, \"Health - Life expectancy in yrs\": 82.9, \"Health - Self-reported health as pct\": 74.0, \"Life Satisfaction - Life satisfaction as avg score\": 7.2, \"Safety - Feeling safe walking alone at night as pct\": 80, \"Safety - Homicide rate as rat\": 1.5, \"Work-Life Balance - Employees working very long hours as pct\": 14.1, \"Work-Life Balance - Time devoted to leisure and personal care as hrs\": 15.069090909090908, \"ISO_numeric\": \"376\", \"Country_Name\": \"Israel\", \"Life Satisfaction Score (Avg Score)\": 7.2}, {\"Country\": \"Italy\", \"Housing - Dwellings without basic facilities as pct\": 0.6, \"Housing - Housing expenditure as pct\": 22.5, \"Housing - Rooms per person as rat\": 1.4, \"Income - Household net adjusted disposable income in usd\": 29431.0, \"Income - Household net wealth in usd\": 295020.0, \"Jobs - Labour market insecurity as pct\": 8.6, \"Jobs - Employment rate as pct\": 58, \"Jobs - Long-term unemployment rate as pct\": 4.8, \"Jobs - Personal earnings in usd\": 37769.0, \"Community - Quality of support network as pct\": 89, \"Education - Educational attainment as pct\": 63.0, \"Education - Student skills as avg score\": 477.0, \"Education - Years in education in yrs\": 17.0, \"Environment - Air pollution in ugm3\": 15.9, \"Environment - Water quality as pct\": 77, \"Civic Engagement - Stakeholder engagement for developing regulations as avg score\": 2.5, \"Civic Engagement - Voter turnout as pct\": 73, \"Health - Life expectancy in yrs\": 83.6, \"Health - Self-reported health as pct\": 73.0, \"Life Satisfaction - Life satisfaction as avg score\": 6.5, \"Safety - Feeling safe walking alone at night as pct\": 73, \"Safety - Homicide rate as rat\": 0.5, \"Work-Life Balance - Employees working very long hours as pct\": 3.3, \"Work-Life Balance - Time devoted to leisure and personal care as hrs\": 16.47, \"ISO_numeric\": \"380\", \"Country_Name\": \"Italy\", \"Life Satisfaction Score (Avg Score)\": 6.5}, {\"Country\": \"Japan\", \"Housing - Dwellings without basic facilities as pct\": 6.4, \"Housing - Housing expenditure as pct\": 21.8, \"Housing - Rooms per person as rat\": 1.9, \"Income - Household net adjusted disposable income in usd\": 28872.0, \"Income - Household net wealth in usd\": 294735.0, \"Jobs - Labour market insecurity as pct\": 2.7, \"Jobs - Employment rate as pct\": 77, \"Jobs - Long-term unemployment rate as pct\": 0.8, \"Jobs - Personal earnings in usd\": 38515.0, \"Community - Quality of support network as pct\": 89, \"Education - Educational attainment as pct\": 83.0, \"Education - Student skills as avg score\": 520.0, \"Education - Years in education in yrs\": 16.0, \"Environment - Air pollution in ugm3\": 13.7, \"Environment - Water quality as pct\": 87, \"Civic Engagement - Stakeholder engagement for developing regulations as avg score\": 1.4, \"Civic Engagement - Voter turnout as pct\": 53, \"Health - Life expectancy in yrs\": 84.4, \"Health - Self-reported health as pct\": 37.0, \"Life Satisfaction - Life satisfaction as avg score\": 6.1, \"Safety - Feeling safe walking alone at night as pct\": 77, \"Safety - Homicide rate as rat\": 0.2, \"Work-Life Balance - Employees working very long hours as pct\": 4.5, \"Work-Life Balance - Time devoted to leisure and personal care as hrs\": 14.1, \"ISO_numeric\": \"392\", \"Country_Name\": \"Japan\", \"Life Satisfaction Score (Avg Score)\": 6.1}, {\"Country\": \"Korea\", \"Housing - Dwellings without basic facilities as pct\": 2.5, \"Housing - Housing expenditure as pct\": 14.7, \"Housing - Rooms per person as rat\": 1.5, \"Income - Household net adjusted disposable income in usd\": 24590.0, \"Income - Household net wealth in usd\": 362340.0, \"Jobs - Labour market insecurity as pct\": 2.9, \"Jobs - Employment rate as pct\": 66, \"Jobs - Long-term unemployment rate as pct\": 0.0, \"Jobs - Personal earnings in usd\": 41960.0, \"Community - Quality of support network as pct\": 80, \"Education - Educational attainment as pct\": 89.0, \"Education - Student skills as avg score\": 520.0, \"Education - Years in education in yrs\": 17.0, \"Environment - Air pollution in ugm3\": 27.3, \"Environment - Water quality as pct\": 82, \"Civic Engagement - Stakeholder engagement for developing regulations as avg score\": 2.9, \"Civic Engagement - Voter turnout as pct\": 77, \"Health - Life expectancy in yrs\": 83.3, \"Health - Self-reported health as pct\": 34.0, \"Life Satisfaction - Life satisfaction as avg score\": 5.8, \"Safety - Feeling safe walking alone at night as pct\": 82, \"Safety - Homicide rate as rat\": 0.8, \"Work-Life Balance - Employees working very long hours as pct\": 4.5, \"Work-Life Balance - Time devoted to leisure and personal care as hrs\": 14.83, \"ISO_numeric\": \"410\", \"Country_Name\": \"Korea\", \"Life Satisfaction Score (Avg Score)\": 5.8}, {\"Country\": \"Latvia\", \"Housing - Dwellings without basic facilities as pct\": 11.2, \"Housing - Housing expenditure as pct\": 20.8, \"Housing - Rooms per person as rat\": 1.2, \"Income - Household net adjusted disposable income in usd\": 19783.0, \"Income - Household net wealth in usd\": 79245.0, \"Jobs - Labour market insecurity as pct\": 6.3, \"Jobs - Employment rate as pct\": 72, \"Jobs - Long-term unemployment rate as pct\": 2.2, \"Jobs - Personal earnings in usd\": 29876.0, \"Community - Quality of support network as pct\": 92, \"Education - Educational attainment as pct\": 89.0, \"Education - Student skills as avg score\": 487.0, \"Education - Years in education in yrs\": 18.0, \"Environment - Air pollution in ugm3\": 12.7, \"Environment - Water quality as pct\": 83, \"Civic Engagement - Stakeholder engagement for developing regulations as avg score\": 2.2, \"Civic Engagement - Voter turnout as pct\": 55, \"Health - Life expectancy in yrs\": 75.5, \"Health - Self-reported health as pct\": 47.0, \"Life Satisfaction - Life satisfaction as avg score\": 6.2, \"Safety - Feeling safe walking alone at night as pct\": 72, \"Safety - Homicide rate as rat\": 3.7, \"Work-Life Balance - Employees working very long hours as pct\": 1.6, \"Work-Life Balance - Time devoted to leisure and personal care as hrs\": 14.988, \"ISO_numeric\": \"428\", \"Country_Name\": \"Latvia\", \"Life Satisfaction Score (Avg Score)\": 6.2}, {\"Country\": \"Lithuania\", \"Housing - Dwellings without basic facilities as pct\": 11.8, \"Housing - Housing expenditure as pct\": 18.4, \"Housing - Rooms per person as rat\": 1.5, \"Income - Household net adjusted disposable income in usd\": 26976.0, \"Income - Household net wealth in usd\": 182039.0, \"Jobs - Labour market insecurity as pct\": 3.9, \"Jobs - Employment rate as pct\": 72, \"Jobs - Long-term unemployment rate as pct\": 2.5, \"Jobs - Personal earnings in usd\": 31811.0, \"Community - Quality of support network as pct\": 89, \"Education - Educational attainment as pct\": 94.0, \"Education - Student skills as avg score\": 480.0, \"Education - Years in education in yrs\": 18.0, \"Environment - Air pollution in ugm3\": 10.5, \"Environment - Water quality as pct\": 83, \"Civic Engagement - Stakeholder engagement for developing regulations as avg score\": 2.4, \"Civic Engagement - Voter turnout as pct\": 57, \"Health - Life expectancy in yrs\": 76.4, \"Health - Self-reported health as pct\": 46.0, \"Life Satisfaction - Life satisfaction as avg score\": 6.4, \"Safety - Feeling safe walking alone at night as pct\": 62, \"Safety - Homicide rate as rat\": 2.5, \"Work-Life Balance - Employees working very long hours as pct\": 1.0, \"Work-Life Balance - Time devoted to leisure and personal care as hrs\": 14.988, \"ISO_numeric\": \"440\", \"Country_Name\": \"Lithuania\", \"Life Satisfaction Score (Avg Score)\": 6.4}, {\"Country\": \"Luxembourg\", \"Housing - Dwellings without basic facilities as pct\": 0.1, \"Housing - Housing expenditure as pct\": 20.7, \"Housing - Rooms per person as rat\": 2.0, \"Income - Household net adjusted disposable income in usd\": 44773.0, \"Income - Household net wealth in usd\": 941162.0, \"Jobs - Labour market insecurity as pct\": 2.2, \"Jobs - Employment rate as pct\": 67, \"Jobs - Long-term unemployment rate as pct\": 1.7, \"Jobs - Personal earnings in usd\": 65854.0, \"Community - Quality of support network as pct\": 91, \"Education - Educational attainment as pct\": 74.0, \"Education - Student skills as avg score\": 477.0, \"Education - Years in education in yrs\": 15.0, \"Environment - Air pollution in ugm3\": 10.0, \"Environment - Water quality as pct\": 85, \"Civic Engagement - Stakeholder engagement for developing regulations as avg score\": 1.7, \"Civic Engagement - Voter turnout as pct\": 90, \"Health - Life expectancy in yrs\": 82.7, \"Health - Self-reported health as pct\": 72.0, \"Life Satisfaction - Life satisfaction as avg score\": 7.4, \"Safety - Feeling safe walking alone at night as pct\": 87, \"Safety - Homicide rate as rat\": 0.2, \"Work-Life Balance - Employees working very long hours as pct\": 2.8, \"Work-Life Balance - Time devoted to leisure and personal care as hrs\": 14.662, \"ISO_numeric\": \"442\", \"Country_Name\": \"Luxembourg\", \"Life Satisfaction Score (Avg Score)\": 7.4}, {\"Country\": \"Mexico\", \"Housing - Dwellings without basic facilities as pct\": 25.9, \"Housing - Housing expenditure as pct\": 17.8, \"Housing - Rooms per person as rat\": 1.1, \"Income - Household net adjusted disposable income in usd\": 16269.0, \"Income - Household net wealth in usd\": 323959.6206896552, \"Jobs - Labour market insecurity as pct\": 4.0, \"Jobs - Employment rate as pct\": 59, \"Jobs - Long-term unemployment rate as pct\": 0.1, \"Jobs - Personal earnings in usd\": 16230.0, \"Community - Quality of support network as pct\": 77, \"Education - Educational attainment as pct\": 42.0, \"Education - Student skills as avg score\": 416.0, \"Education - Years in education in yrs\": 15.0, \"Environment - Air pollution in ugm3\": 20.3, \"Environment - Water quality as pct\": 75, \"Civic Engagement - Stakeholder engagement for developing regulations as avg score\": 3.2, \"Civic Engagement - Voter turnout as pct\": 63, \"Health - Life expectancy in yrs\": 75.1, \"Health - Self-reported health as pct\": 66.0, \"Life Satisfaction - Life satisfaction as avg score\": 6.0, \"Safety - Feeling safe walking alone at night as pct\": 42, \"Safety - Homicide rate as rat\": 26.8, \"Work-Life Balance - Employees working very long hours as pct\": 27.0, \"Work-Life Balance - Time devoted to leisure and personal care as hrs\": 15.069090909090908, \"ISO_numeric\": \"484\", \"Country_Name\": \"Mexico\", \"Life Satisfaction Score (Avg Score)\": 6.0}, {\"Country\": \"Netherlands\", \"Housing - Dwellings without basic facilities as pct\": 0.1, \"Housing - Housing expenditure as pct\": 19.6, \"Housing - Rooms per person as rat\": 2.0, \"Income - Household net adjusted disposable income in usd\": 34984.0, \"Income - Household net wealth in usd\": 248599.0, \"Jobs - Labour market insecurity as pct\": 2.5, \"Jobs - Employment rate as pct\": 78, \"Jobs - Long-term unemployment rate as pct\": 0.9, \"Jobs - Personal earnings in usd\": 58828.0, \"Community - Quality of support network as pct\": 94, \"Education - Educational attainment as pct\": 81.0, \"Education - Student skills as avg score\": 502.0, \"Education - Years in education in yrs\": 19.0, \"Environment - Air pollution in ugm3\": 12.2, \"Environment - Water quality as pct\": 91, \"Civic Engagement - Stakeholder engagement for developing regulations as avg score\": 2.6, \"Civic Engagement - Voter turnout as pct\": 79, \"Health - Life expectancy in yrs\": 82.2, \"Health - Self-reported health as pct\": 75.0, \"Life Satisfaction - Life satisfaction as avg score\": 7.5, \"Safety - Feeling safe walking alone at night as pct\": 83, \"Safety - Homicide rate as rat\": 0.6, \"Work-Life Balance - Employees working very long hours as pct\": 0.3, \"Work-Life Balance - Time devoted to leisure and personal care as hrs\": 15.45, \"ISO_numeric\": \"528\", \"Country_Name\": \"Netherlands\", \"Life Satisfaction Score (Avg Score)\": 7.5}, {\"Country\": \"New Zealand\", \"Housing - Dwellings without basic facilities as pct\": 0.6499999999999999, \"Housing - Housing expenditure as pct\": 25.0, \"Housing - Rooms per person as rat\": 2.4, \"Income - Household net adjusted disposable income in usd\": 39024.0, \"Income - Household net wealth in usd\": 514162.0, \"Jobs - Labour market insecurity as pct\": 4.5, \"Jobs - Employment rate as pct\": 77, \"Jobs - Long-term unemployment rate as pct\": 0.4, \"Jobs - Personal earnings in usd\": 45269.0, \"Community - Quality of support network as pct\": 95, \"Education - Educational attainment as pct\": 81.0, \"Education - Student skills as avg score\": 503.0, \"Education - Years in education in yrs\": 18.0, \"Environment - Air pollution in ugm3\": 6.0, \"Environment - Water quality as pct\": 85, \"Civic Engagement - Stakeholder engagement for developing regulations as avg score\": 2.5, \"Civic Engagement - Voter turnout as pct\": 82, \"Health - Life expectancy in yrs\": 82.1, \"Health - Self-reported health as pct\": 86.0, \"Life Satisfaction - Life satisfaction as avg score\": 7.3, \"Safety - Feeling safe walking alone at night as pct\": 66, \"Safety - Homicide rate as rat\": 1.3, \"Work-Life Balance - Employees working very long hours as pct\": 14.0, \"Work-Life Balance - Time devoted to leisure and personal care as hrs\": 14.87, \"ISO_numeric\": \"554\", \"Country_Name\": \"New Zealand\", \"Life Satisfaction Score (Avg Score)\": 7.3}, {\"Country\": \"Norway\", \"Housing - Dwellings without basic facilities as pct\": 0.0, \"Housing - Housing expenditure as pct\": 17.7, \"Housing - Rooms per person as rat\": 2.1, \"Income - Household net adjusted disposable income in usd\": 39144.0, \"Income - Household net wealth in usd\": 268358.0, \"Jobs - Labour market insecurity as pct\": 2.8, \"Jobs - Employment rate as pct\": 75, \"Jobs - Long-term unemployment rate as pct\": 0.9, \"Jobs - Personal earnings in usd\": 55780.0, \"Community - Quality of support network as pct\": 96, \"Education - Educational attainment as pct\": 82.0, \"Education - Student skills as avg score\": 497.0, \"Education - Years in education in yrs\": 18.0, \"Environment - Air pollution in ugm3\": 6.7, \"Environment - Water quality as pct\": 98, \"Civic Engagement - Stakeholder engagement for developing regulations as avg score\": 2.2, \"Civic Engagement - Voter turnout as pct\": 78, \"Health - Life expectancy in yrs\": 83.0, \"Health - Self-reported health as pct\": 75.0, \"Life Satisfaction - Life satisfaction as avg score\": 7.3, \"Safety - Feeling safe walking alone at night as pct\": 93, \"Safety - Homicide rate as rat\": 0.6, \"Work-Life Balance - Employees working very long hours as pct\": 1.4, \"Work-Life Balance - Time devoted to leisure and personal care as hrs\": 15.67, \"ISO_numeric\": \"578\", \"Country_Name\": \"Norway\", \"Life Satisfaction Score (Avg Score)\": 7.3}, {\"Country\": \"Poland\", \"Housing - Dwellings without basic facilities as pct\": 2.3, \"Housing - Housing expenditure as pct\": 21.2, \"Housing - Rooms per person as rat\": 1.1, \"Income - Household net adjusted disposable income in usd\": 23675.0, \"Income - Household net wealth in usd\": 233221.0, \"Jobs - Labour market insecurity as pct\": 5.0, \"Jobs - Employment rate as pct\": 69, \"Jobs - Long-term unemployment rate as pct\": 0.6, \"Jobs - Personal earnings in usd\": 32527.0, \"Community - Quality of support network as pct\": 94, \"Education - Educational attainment as pct\": 93.0, \"Education - Student skills as avg score\": 513.0, \"Education - Years in education in yrs\": 18.0, \"Environment - Air pollution in ugm3\": 22.8, \"Environment - Water quality as pct\": 82, \"Civic Engagement - Stakeholder engagement for developing regulations as avg score\": 2.6, \"Civic Engagement - Voter turnout as pct\": 68, \"Health - Life expectancy in yrs\": 78.0, \"Health - Self-reported health as pct\": 60.0, \"Life Satisfaction - Life satisfaction as avg score\": 6.1, \"Safety - Feeling safe walking alone at night as pct\": 71, \"Safety - Homicide rate as rat\": 0.5, \"Work-Life Balance - Employees working very long hours as pct\": 4.2, \"Work-Life Balance - Time devoted to leisure and personal care as hrs\": 14.68, \"ISO_numeric\": \"616\", \"Country_Name\": \"Poland\", \"Life Satisfaction Score (Avg Score)\": 6.1}, {\"Country\": \"Portugal\", \"Housing - Dwellings without basic facilities as pct\": 0.9, \"Housing - Housing expenditure as pct\": 19.6, \"Housing - Rooms per person as rat\": 1.7, \"Income - Household net adjusted disposable income in usd\": 24877.0, \"Income - Household net wealth in usd\": 255303.0, \"Jobs - Labour market insecurity as pct\": 8.1, \"Jobs - Employment rate as pct\": 69, \"Jobs - Long-term unemployment rate as pct\": 2.3, \"Jobs - Personal earnings in usd\": 28410.0, \"Community - Quality of support network as pct\": 87, \"Education - Educational attainment as pct\": 55.0, \"Education - Student skills as avg score\": 492.0, \"Education - Years in education in yrs\": 17.0, \"Environment - Air pollution in ugm3\": 8.3, \"Environment - Water quality as pct\": 89, \"Civic Engagement - Stakeholder engagement for developing regulations as avg score\": 1.5, \"Civic Engagement - Voter turnout as pct\": 49, \"Health - Life expectancy in yrs\": 81.8, \"Health - Self-reported health as pct\": 50.0, \"Life Satisfaction - Life satisfaction as avg score\": 5.8, \"Safety - Feeling safe walking alone at night as pct\": 83, \"Safety - Homicide rate as rat\": 0.7, \"Work-Life Balance - Employees working very long hours as pct\": 5.6, \"Work-Life Balance - Time devoted to leisure and personal care as hrs\": 15.014, \"ISO_numeric\": \"620\", \"Country_Name\": \"Portugal\", \"Life Satisfaction Score (Avg Score)\": 5.8}, {\"Country\": \"Slovak Republic\", \"Housing - Dwellings without basic facilities as pct\": 1.5, \"Housing - Housing expenditure as pct\": 27.4, \"Housing - Rooms per person as rat\": 1.1, \"Income - Household net adjusted disposable income in usd\": 21149.0, \"Income - Household net wealth in usd\": 171425.0, \"Jobs - Labour market insecurity as pct\": 8.8, \"Jobs - Employment rate as pct\": 68, \"Jobs - Long-term unemployment rate as pct\": 3.0, \"Jobs - Personal earnings in usd\": 23619.0, \"Community - Quality of support network as pct\": 95, \"Education - Educational attainment as pct\": 92.0, \"Education - Student skills as avg score\": 469.0, \"Education - Years in education in yrs\": 16.0, \"Environment - Air pollution in ugm3\": 18.5, \"Environment - Water quality as pct\": 81, \"Civic Engagement - Stakeholder engagement for developing regulations as avg score\": 3.0, \"Civic Engagement - Voter turnout as pct\": 66, \"Health - Life expectancy in yrs\": 77.8, \"Health - Self-reported health as pct\": 65.0, \"Life Satisfaction - Life satisfaction as avg score\": 6.5, \"Safety - Feeling safe walking alone at night as pct\": 76, \"Safety - Homicide rate as rat\": 0.8, \"Work-Life Balance - Employees working very long hours as pct\": 4.2, \"Work-Life Balance - Time devoted to leisure and personal care as hrs\": 14.988, \"ISO_numeric\": \"703\", \"Country_Name\": \"Slovak Republic\", \"Life Satisfaction Score (Avg Score)\": 6.5}, {\"Country\": \"Slovenia\", \"Housing - Dwellings without basic facilities as pct\": 0.2, \"Housing - Housing expenditure as pct\": 18.2, \"Housing - Rooms per person as rat\": 1.6, \"Income - Household net adjusted disposable income in usd\": 25250.0, \"Income - Household net wealth in usd\": 233286.0, \"Jobs - Labour market insecurity as pct\": 5.9, \"Jobs - Employment rate as pct\": 71, \"Jobs - Long-term unemployment rate as pct\": 1.9, \"Jobs - Personal earnings in usd\": 41445.0, \"Community - Quality of support network as pct\": 95, \"Education - Educational attainment as pct\": 90.0, \"Education - Student skills as avg score\": 504.0, \"Education - Years in education in yrs\": 18.0, \"Environment - Air pollution in ugm3\": 17.0, \"Environment - Water quality as pct\": 93, \"Civic Engagement - Stakeholder engagement for developing regulations as avg score\": 2.5, \"Civic Engagement - Voter turnout as pct\": 53, \"Health - Life expectancy in yrs\": 81.6, \"Health - Self-reported health as pct\": 67.0, \"Life Satisfaction - Life satisfaction as avg score\": 6.5, \"Safety - Feeling safe walking alone at night as pct\": 91, \"Safety - Homicide rate as rat\": 0.4, \"Work-Life Balance - Employees working very long hours as pct\": 5.6, \"Work-Life Balance - Time devoted to leisure and personal care as hrs\": 15.190000000000001, \"ISO_numeric\": \"705\", \"Country_Name\": \"Slovenia\", \"Life Satisfaction Score (Avg Score)\": 6.5}, {\"Country\": \"Spain\", \"Housing - Dwellings without basic facilities as pct\": 0.3, \"Housing - Housing expenditure as pct\": 21.7, \"Housing - Rooms per person as rat\": 1.9, \"Income - Household net adjusted disposable income in usd\": 27155.0, \"Income - Household net wealth in usd\": 366534.0, \"Jobs - Labour market insecurity as pct\": 15.8, \"Jobs - Employment rate as pct\": 62, \"Jobs - Long-term unemployment rate as pct\": 5.0, \"Jobs - Personal earnings in usd\": 37922.0, \"Community - Quality of support network as pct\": 93, \"Education - Educational attainment as pct\": 63.0, \"Education - Student skills as avg score\": 495.0, \"Education - Years in education in yrs\": 18.0, \"Environment - Air pollution in ugm3\": 10.0, \"Environment - Water quality as pct\": 76, \"Civic Engagement - Stakeholder engagement for developing regulations as avg score\": 1.8, \"Civic Engagement - Voter turnout as pct\": 72, \"Health - Life expectancy in yrs\": 83.9, \"Health - Self-reported health as pct\": 75.0, \"Life Satisfaction - Life satisfaction as avg score\": 6.5, \"Safety - Feeling safe walking alone at night as pct\": 80, \"Safety - Homicide rate as rat\": 0.7, \"Work-Life Balance - Employees working very long hours as pct\": 2.5, \"Work-Life Balance - Time devoted to leisure and personal care as hrs\": 15.75, \"ISO_numeric\": \"724\", \"Country_Name\": \"Spain\", \"Life Satisfaction Score (Avg Score)\": 6.5}, {\"Country\": \"Sweden\", \"Housing - Dwellings without basic facilities as pct\": 0.0, \"Housing - Housing expenditure as pct\": 20.1, \"Housing - Rooms per person as rat\": 1.7, \"Income - Household net adjusted disposable income in usd\": 33730.0, \"Income - Household net wealth in usd\": 323959.6206896552, \"Jobs - Labour market insecurity as pct\": 4.4, \"Jobs - Employment rate as pct\": 75, \"Jobs - Long-term unemployment rate as pct\": 1.0, \"Jobs - Personal earnings in usd\": 47020.0, \"Community - Quality of support network as pct\": 94, \"Education - Educational attainment as pct\": 84.0, \"Education - Student skills as avg score\": 503.0, \"Education - Years in education in yrs\": 20.0, \"Environment - Air pollution in ugm3\": 5.8, \"Environment - Water quality as pct\": 97, \"Civic Engagement - Stakeholder engagement for developing regulations as avg score\": 2.0, \"Civic Engagement - Voter turnout as pct\": 87, \"Health - Life expectancy in yrs\": 83.2, \"Health - Self-reported health as pct\": 76.0, \"Life Satisfaction - Life satisfaction as avg score\": 7.3, \"Safety - Feeling safe walking alone at night as pct\": 79, \"Safety - Homicide rate as rat\": 1.1, \"Work-Life Balance - Employees working very long hours as pct\": 0.9, \"Work-Life Balance - Time devoted to leisure and personal care as hrs\": 15.069090909090908, \"ISO_numeric\": \"752\", \"Country_Name\": \"Sweden\", \"Life Satisfaction Score (Avg Score)\": 7.3}, {\"Country\": \"Switzerland\", \"Housing - Dwellings without basic facilities as pct\": 0.0, \"Housing - Housing expenditure as pct\": 21.4, \"Housing - Rooms per person as rat\": 1.9, \"Income - Household net adjusted disposable income in usd\": 39697.0, \"Income - Household net wealth in usd\": 323959.6206896552, \"Jobs - Labour market insecurity as pct\": 3.9, \"Jobs - Employment rate as pct\": 80, \"Jobs - Long-term unemployment rate as pct\": 1.7, \"Jobs - Personal earnings in usd\": 64824.0, \"Community - Quality of support network as pct\": 94, \"Education - Educational attainment as pct\": 89.0, \"Education - Student skills as avg score\": 498.0, \"Education - Years in education in yrs\": 17.0, \"Environment - Air pollution in ugm3\": 10.1, \"Environment - Water quality as pct\": 96, \"Civic Engagement - Stakeholder engagement for developing regulations as avg score\": 2.3, \"Civic Engagement - Voter turnout as pct\": 45, \"Health - Life expectancy in yrs\": 84.0, \"Health - Self-reported health as pct\": 81.0, \"Life Satisfaction - Life satisfaction as avg score\": 7.5, \"Safety - Feeling safe walking alone at night as pct\": 86, \"Safety - Homicide rate as rat\": 0.3, \"Work-Life Balance - Employees working very long hours as pct\": 0.4, \"Work-Life Balance - Time devoted to leisure and personal care as hrs\": 15.069090909090908, \"ISO_numeric\": \"756\", \"Country_Name\": \"Switzerland\", \"Life Satisfaction Score (Avg Score)\": 7.5}, {\"Country\": \"Turkey\", \"Housing - Dwellings without basic facilities as pct\": 4.9, \"Housing - Housing expenditure as pct\": 18.9, \"Housing - Rooms per person as rat\": 1.0, \"Income - Household net adjusted disposable income in usd\": 29431.0, \"Income - Household net wealth in usd\": 415187.8, \"Jobs - Labour market insecurity as pct\": 13.0, \"Jobs - Employment rate as pct\": 48, \"Jobs - Long-term unemployment rate as pct\": 3.3, \"Jobs - Personal earnings in usd\": 45269.0, \"Community - Quality of support network as pct\": 85, \"Education - Educational attainment as pct\": 42.0, \"Education - Student skills as avg score\": 462.0, \"Education - Years in education in yrs\": 19.0, \"Environment - Air pollution in ugm3\": 27.1, \"Environment - Water quality as pct\": 62, \"Civic Engagement - Stakeholder engagement for developing regulations as avg score\": 1.5, \"Civic Engagement - Voter turnout as pct\": 86, \"Health - Life expectancy in yrs\": 78.6, \"Health - Self-reported health as pct\": 67.0, \"Life Satisfaction - Life satisfaction as avg score\": 4.9, \"Safety - Feeling safe walking alone at night as pct\": 59, \"Safety - Homicide rate as rat\": 1.0, \"Work-Life Balance - Employees working very long hours as pct\": 25.0, \"Work-Life Balance - Time devoted to leisure and personal care as hrs\": 14.61, \"ISO_numeric\": \"792\", \"Country_Name\": \"Turkey\", \"Life Satisfaction Score (Avg Score)\": 4.9}, {\"Country\": \"United Kingdom\", \"Housing - Dwellings without basic facilities as pct\": 0.5, \"Housing - Housing expenditure as pct\": 23.2, \"Housing - Rooms per person as rat\": 2.0, \"Income - Household net adjusted disposable income in usd\": 33049.0, \"Income - Household net wealth in usd\": 524422.0, \"Jobs - Labour market insecurity as pct\": 3.3, \"Jobs - Employment rate as pct\": 75, \"Jobs - Long-term unemployment rate as pct\": 0.9, \"Jobs - Personal earnings in usd\": 47147.0, \"Community - Quality of support network as pct\": 93, \"Education - Educational attainment as pct\": 82.0, \"Education - Student skills as avg score\": 503.0, \"Education - Years in education in yrs\": 17.0, \"Environment - Air pollution in ugm3\": 10.1, \"Environment - Water quality as pct\": 82, \"Civic Engagement - Stakeholder engagement for developing regulations as avg score\": 3.1, \"Civic Engagement - Voter turnout as pct\": 68, \"Health - Life expectancy in yrs\": 81.3, \"Health - Self-reported health as pct\": 73.0, \"Life Satisfaction - Life satisfaction as avg score\": 6.8, \"Safety - Feeling safe walking alone at night as pct\": 78, \"Safety - Homicide rate as rat\": 0.2, \"Work-Life Balance - Employees working very long hours as pct\": 10.8, \"Work-Life Balance - Time devoted to leisure and personal care as hrs\": 14.94, \"ISO_numeric\": \"826\", \"Country_Name\": \"United Kingdom\", \"Life Satisfaction Score (Avg Score)\": 6.8}, {\"Country\": \"United States\", \"Housing - Dwellings without basic facilities as pct\": 0.1, \"Housing - Housing expenditure as pct\": 18.3, \"Housing - Rooms per person as rat\": 2.4, \"Income - Household net adjusted disposable income in usd\": 51147.0, \"Income - Household net wealth in usd\": 684500.0, \"Jobs - Labour market insecurity as pct\": 4.2, \"Jobs - Employment rate as pct\": 67, \"Jobs - Long-term unemployment rate as pct\": 0.5, \"Jobs - Personal earnings in usd\": 69392.0, \"Community - Quality of support network as pct\": 94, \"Education - Educational attainment as pct\": 92.0, \"Education - Student skills as avg score\": 495.0, \"Education - Years in education in yrs\": 17.0, \"Environment - Air pollution in ugm3\": 7.7, \"Environment - Water quality as pct\": 88, \"Civic Engagement - Stakeholder engagement for developing regulations as avg score\": 3.1, \"Civic Engagement - Voter turnout as pct\": 65, \"Health - Life expectancy in yrs\": 78.9, \"Health - Self-reported health as pct\": 88.0, \"Life Satisfaction - Life satisfaction as avg score\": 7.0, \"Safety - Feeling safe walking alone at night as pct\": 78, \"Safety - Homicide rate as rat\": 6.0, \"Work-Life Balance - Employees working very long hours as pct\": 10.4, \"Work-Life Balance - Time devoted to leisure and personal care as hrs\": 14.57, \"ISO_numeric\": \"840\", \"Country_Name\": \"United States\", \"Life Satisfaction Score (Avg Score)\": 7.0}, {\"Country\": \"Non-OECD - Brazil\", \"Housing - Dwellings without basic facilities as pct\": 6.7, \"Housing - Housing expenditure as pct\": 20.1, \"Housing - Rooms per person as rat\": 1.7, \"Income - Household net adjusted disposable income in usd\": 29431.0, \"Income - Household net wealth in usd\": 323959.6206896552, \"Jobs - Labour market insecurity as pct\": 3.9, \"Jobs - Employment rate as pct\": 57, \"Jobs - Long-term unemployment rate as pct\": 1.2, \"Jobs - Personal earnings in usd\": 45269.0, \"Community - Quality of support network as pct\": 83, \"Education - Educational attainment as pct\": 57.0, \"Education - Student skills as avg score\": 400.0, \"Education - Years in education in yrs\": 16.0, \"Environment - Air pollution in ugm3\": 11.7, \"Environment - Water quality as pct\": 70, \"Civic Engagement - Stakeholder engagement for developing regulations as avg score\": 2.2, \"Civic Engagement - Voter turnout as pct\": 80, \"Health - Life expectancy in yrs\": 75.9, \"Health - Self-reported health as pct\": 71.0, \"Life Satisfaction - Life satisfaction as avg score\": 6.1, \"Safety - Feeling safe walking alone at night as pct\": 45, \"Safety - Homicide rate as rat\": 19.0, \"Work-Life Balance - Employees working very long hours as pct\": 5.6, \"Work-Life Balance - Time devoted to leisure and personal care as hrs\": 15.069090909090908, \"ISO_numeric\": \"076\", \"Country_Name\": \"Non-OECD - Brazil\", \"Life Satisfaction Score (Avg Score)\": 6.1}, {\"Country\": \"Non-OECD - Russia\", \"Housing - Dwellings without basic facilities as pct\": 13.8, \"Housing - Housing expenditure as pct\": 17.4, \"Housing - Rooms per person as rat\": 1.0, \"Income - Household net adjusted disposable income in usd\": 19546.0, \"Income - Household net wealth in usd\": 323959.6206896552, \"Jobs - Labour market insecurity as pct\": 3.9, \"Jobs - Employment rate as pct\": 70, \"Jobs - Long-term unemployment rate as pct\": 1.1, \"Jobs - Personal earnings in usd\": 45269.0, \"Community - Quality of support network as pct\": 89, \"Education - Educational attainment as pct\": 95.0, \"Education - Student skills as avg score\": 481.0, \"Education - Years in education in yrs\": 16.0, \"Environment - Air pollution in ugm3\": 11.8, \"Environment - Water quality as pct\": 62, \"Civic Engagement - Stakeholder engagement for developing regulations as avg score\": 2.2, \"Civic Engagement - Voter turnout as pct\": 68, \"Health - Life expectancy in yrs\": 73.2, \"Health - Self-reported health as pct\": 43.0, \"Life Satisfaction - Life satisfaction as avg score\": 5.5, \"Safety - Feeling safe walking alone at night as pct\": 64, \"Safety - Homicide rate as rat\": 4.8, \"Work-Life Balance - Employees working very long hours as pct\": 0.1, \"Work-Life Balance - Time devoted to leisure and personal care as hrs\": 15.069090909090908, \"ISO_numeric\": \"643\", \"Country_Name\": \"Non-OECD - Russia\", \"Life Satisfaction Score (Avg Score)\": 5.5}, {\"Country\": \"Non-OECD - South Africa\", \"Housing - Dwellings without basic facilities as pct\": 35.9, \"Housing - Housing expenditure as pct\": 18.1, \"Housing - Rooms per person as rat\": 1.7, \"Income - Household net adjusted disposable income in usd\": 9338.0, \"Income - Household net wealth in usd\": 323959.6206896552, \"Jobs - Labour market insecurity as pct\": 3.9, \"Jobs - Employment rate as pct\": 39, \"Jobs - Long-term unemployment rate as pct\": 17.9, \"Jobs - Personal earnings in usd\": 45269.0, \"Community - Quality of support network as pct\": 89, \"Education - Educational attainment as pct\": 48.0, \"Education - Student skills as avg score\": 495.0, \"Education - Years in education in yrs\": 18.0, \"Environment - Air pollution in ugm3\": 28.5, \"Environment - Water quality as pct\": 72, \"Civic Engagement - Stakeholder engagement for developing regulations as avg score\": 2.2, \"Civic Engagement - Voter turnout as pct\": 66, \"Health - Life expectancy in yrs\": 64.2, \"Health - Self-reported health as pct\": 71.0, \"Life Satisfaction - Life satisfaction as avg score\": 4.9, \"Safety - Feeling safe walking alone at night as pct\": 40, \"Safety - Homicide rate as rat\": 13.7, \"Work-Life Balance - Employees working very long hours as pct\": 15.4, \"Work-Life Balance - Time devoted to leisure and personal care as hrs\": 15.069090909090908, \"ISO_numeric\": \"710\", \"Country_Name\": \"Non-OECD - South Africa\", \"Life Satisfaction Score (Avg Score)\": 4.9}]}}, {\"mode\": \"vega-lite\"});\n",
       "</script>"
      ],
      "text/plain": [
       "alt.LayerChart(...)"
      ]
     },
     "execution_count": 21,
     "metadata": {},
     "output_type": "execute_result"
    }
   ],
   "source": [
    "world_url = alt.topo_feature('https://vega.github.io/vega-datasets/data/world-110m.json', 'countries')\n",
    "\n",
    "\n",
    "df['Life Satisfaction Score (Avg Score)'] = df['Life Satisfaction - Life satisfaction as avg score']\n",
    "\n",
    "\n",
    "base = alt.Chart(world_url).mark_geoshape(\n",
    "    fill='lightgray',\n",
    "    stroke='white'\n",
    ").properties(\n",
    "    title='Life Satisfaction Score per Country',\n",
    "    width=1250,\n",
    "    height=580\n",
    ").project('equirectangular')\n",
    "\n",
    "\n",
    "tooltip_fields = [\n",
    "    alt.Tooltip('Country_Name:N', title='Country'),\n",
    "    alt.Tooltip('Life Satisfaction Score (Avg Score):Q')\n",
    "]\n",
    "\n",
    "\n",
    "country_data = alt.Chart(world_url).mark_geoshape().encode(\n",
    "    color=alt.Color('Life Satisfaction Score (Avg Score):Q', scale=common_color_scale, title=\"Average Score\"),\n",
    "    tooltip=tooltip_fields\n",
    ").transform_lookup(\n",
    "    lookup='id',\n",
    "    from_=alt.LookupData(df, 'ISO_numeric', ['Country_Name', 'Life Satisfaction Score (Avg Score)'])\n",
    ")\n",
    "\n",
    "\n",
    "world_chart = base + country_data\n",
    "world_chart"
   ]
  },
  {
   "cell_type": "markdown",
   "id": "177aba68-86f7-4d8e-b505-9c665e0da043",
   "metadata": {},
   "source": [
    "### Visualisation 4: Health"
   ]
  },
  {
   "cell_type": "code",
   "execution_count": 16,
   "id": "cc19fb87-0b94-49d0-b1f2-887f8e5a743f",
   "metadata": {
    "tags": []
   },
   "outputs": [
    {
     "data": {
      "text/html": [
       "\n",
       "<style>\n",
       "  #altair-viz-c10515d9ce0548d981f15e1e230097f6.vega-embed {\n",
       "    width: 100%;\n",
       "    display: flex;\n",
       "  }\n",
       "\n",
       "  #altair-viz-c10515d9ce0548d981f15e1e230097f6.vega-embed details,\n",
       "  #altair-viz-c10515d9ce0548d981f15e1e230097f6.vega-embed details summary {\n",
       "    position: relative;\n",
       "  }\n",
       "</style>\n",
       "<div id=\"altair-viz-c10515d9ce0548d981f15e1e230097f6\"></div>\n",
       "<script type=\"text/javascript\">\n",
       "  var VEGA_DEBUG = (typeof VEGA_DEBUG == \"undefined\") ? {} : VEGA_DEBUG;\n",
       "  (function(spec, embedOpt){\n",
       "    let outputDiv = document.currentScript.previousElementSibling;\n",
       "    if (outputDiv.id !== \"altair-viz-c10515d9ce0548d981f15e1e230097f6\") {\n",
       "      outputDiv = document.getElementById(\"altair-viz-c10515d9ce0548d981f15e1e230097f6\");\n",
       "    }\n",
       "    const paths = {\n",
       "      \"vega\": \"https://cdn.jsdelivr.net/npm/vega@5?noext\",\n",
       "      \"vega-lib\": \"https://cdn.jsdelivr.net/npm/vega-lib?noext\",\n",
       "      \"vega-lite\": \"https://cdn.jsdelivr.net/npm/vega-lite@5.15.1?noext\",\n",
       "      \"vega-embed\": \"https://cdn.jsdelivr.net/npm/vega-embed@6?noext\",\n",
       "    };\n",
       "\n",
       "    function maybeLoadScript(lib, version) {\n",
       "      var key = `${lib.replace(\"-\", \"\")}_version`;\n",
       "      return (VEGA_DEBUG[key] == version) ?\n",
       "        Promise.resolve(paths[lib]) :\n",
       "        new Promise(function(resolve, reject) {\n",
       "          var s = document.createElement('script');\n",
       "          document.getElementsByTagName(\"head\")[0].appendChild(s);\n",
       "          s.async = true;\n",
       "          s.onload = () => {\n",
       "            VEGA_DEBUG[key] = version;\n",
       "            return resolve(paths[lib]);\n",
       "          };\n",
       "          s.onerror = () => reject(`Error loading script: ${paths[lib]}`);\n",
       "          s.src = paths[lib];\n",
       "        });\n",
       "    }\n",
       "\n",
       "    function showError(err) {\n",
       "      outputDiv.innerHTML = `<div class=\"error\" style=\"color:red;\">${err}</div>`;\n",
       "      throw err;\n",
       "    }\n",
       "\n",
       "    function displayChart(vegaEmbed) {\n",
       "      vegaEmbed(outputDiv, spec, embedOpt)\n",
       "        .catch(err => showError(`Javascript Error: ${err.message}<br>This usually means there's a typo in your chart specification. See the javascript console for the full traceback.`));\n",
       "    }\n",
       "\n",
       "    if(typeof define === \"function\" && define.amd) {\n",
       "      requirejs.config({paths});\n",
       "      require([\"vega-embed\"], displayChart, err => showError(`Error loading script: ${err.message}`));\n",
       "    } else {\n",
       "      maybeLoadScript(\"vega\", \"5\")\n",
       "        .then(() => maybeLoadScript(\"vega-lite\", \"5.15.1\"))\n",
       "        .then(() => maybeLoadScript(\"vega-embed\", \"6\"))\n",
       "        .catch(showError)\n",
       "        .then(() => displayChart(vegaEmbed));\n",
       "    }\n",
       "  })({\"config\": {\"view\": {\"continuousWidth\": 300, \"continuousHeight\": 300}}, \"data\": {\"name\": \"data-455b34b6eb2a187aab5a533cb99bb1ce\"}, \"mark\": {\"type\": \"circle\"}, \"encoding\": {\"color\": {\"field\": \"Health - Self-reported health as pct\", \"legend\": null, \"scale\": {\"scheme\": \"bluegreen\"}, \"type\": \"quantitative\"}, \"size\": {\"field\": \"Health - Self-reported health as pct\", \"legend\": null, \"title\": \"Health Score Size\", \"type\": \"quantitative\"}, \"tooltip\": [{\"field\": \"Country\", \"title\": \"Country\", \"type\": \"nominal\"}, {\"field\": \"Health - Self-reported health as pct\", \"title\": \"Self-Reported Health Score (%)\", \"type\": \"quantitative\"}], \"x\": {\"axis\": {\"labelAngle\": -45}, \"field\": \"Country\", \"title\": \"Country\", \"type\": \"nominal\"}, \"y\": {\"field\": \"Health - Self-reported health as pct\", \"title\": \"Self-Reported Health (%)\", \"type\": \"quantitative\"}}, \"height\": 290, \"title\": \"Self-Reported Health per Country\", \"width\": 625, \"$schema\": \"https://vega.github.io/schema/vega-lite/v5.15.1.json\", \"datasets\": {\"data-455b34b6eb2a187aab5a533cb99bb1ce\": [{\"Country\": \"Australia\", \"Health - Self-reported health as pct\": 85.0}, {\"Country\": \"Austria\", \"Health - Self-reported health as pct\": 71.0}, {\"Country\": \"Belgium\", \"Health - Self-reported health as pct\": 74.0}, {\"Country\": \"Canada\", \"Health - Self-reported health as pct\": 89.0}, {\"Country\": \"Chile\", \"Health - Self-reported health as pct\": 60.0}, {\"Country\": \"Colombia\", \"Health - Self-reported health as pct\": 80.0}, {\"Country\": \"Costa Rica\", \"Health - Self-reported health as pct\": 73.0}, {\"Country\": \"Czech Republic\", \"Health - Self-reported health as pct\": 62.0}, {\"Country\": \"Denmark\", \"Health - Self-reported health as pct\": 70.0}, {\"Country\": \"Estonia\", \"Health - Self-reported health as pct\": 57.0}, {\"Country\": \"Finland\", \"Health - Self-reported health as pct\": 68.0}, {\"Country\": \"France\", \"Health - Self-reported health as pct\": 67.0}, {\"Country\": \"Germany\", \"Health - Self-reported health as pct\": 66.0}, {\"Country\": \"Greece\", \"Health - Self-reported health as pct\": 79.0}, {\"Country\": \"Hungary\", \"Health - Self-reported health as pct\": 58.0}, {\"Country\": \"Iceland\", \"Health - Self-reported health as pct\": 77.0}, {\"Country\": \"Ireland\", \"Health - Self-reported health as pct\": 84.0}, {\"Country\": \"Israel\", \"Health - Self-reported health as pct\": 74.0}, {\"Country\": \"Italy\", \"Health - Self-reported health as pct\": 73.0}, {\"Country\": \"Japan\", \"Health - Self-reported health as pct\": 37.0}, {\"Country\": \"Korea\", \"Health - Self-reported health as pct\": 34.0}, {\"Country\": \"Latvia\", \"Health - Self-reported health as pct\": 47.0}, {\"Country\": \"Lithuania\", \"Health - Self-reported health as pct\": 46.0}, {\"Country\": \"Luxembourg\", \"Health - Self-reported health as pct\": 72.0}, {\"Country\": \"Mexico\", \"Health - Self-reported health as pct\": 66.0}, {\"Country\": \"Netherlands\", \"Health - Self-reported health as pct\": 75.0}, {\"Country\": \"New Zealand\", \"Health - Self-reported health as pct\": 86.0}, {\"Country\": \"Norway\", \"Health - Self-reported health as pct\": 75.0}, {\"Country\": \"Poland\", \"Health - Self-reported health as pct\": 60.0}, {\"Country\": \"Portugal\", \"Health - Self-reported health as pct\": 50.0}, {\"Country\": \"Slovak Republic\", \"Health - Self-reported health as pct\": 65.0}, {\"Country\": \"Slovenia\", \"Health - Self-reported health as pct\": 67.0}, {\"Country\": \"Spain\", \"Health - Self-reported health as pct\": 75.0}, {\"Country\": \"Sweden\", \"Health - Self-reported health as pct\": 76.0}, {\"Country\": \"Switzerland\", \"Health - Self-reported health as pct\": 81.0}, {\"Country\": \"Turkey\", \"Health - Self-reported health as pct\": 67.0}, {\"Country\": \"United Kingdom\", \"Health - Self-reported health as pct\": 73.0}, {\"Country\": \"United States\", \"Health - Self-reported health as pct\": 88.0}, {\"Country\": \"Non-OECD - Brazil\", \"Health - Self-reported health as pct\": 71.0}, {\"Country\": \"Non-OECD - Russia\", \"Health - Self-reported health as pct\": 43.0}, {\"Country\": \"Non-OECD - South Africa\", \"Health - Self-reported health as pct\": 71.0}]}}, {\"mode\": \"vega-lite\"});\n",
       "</script>"
      ],
      "text/plain": [
       "alt.Chart(...)"
      ]
     },
     "execution_count": 16,
     "metadata": {},
     "output_type": "execute_result"
    }
   ],
   "source": [
    "health_df = df[['Country', 'Health - Self-reported health as pct']]\n",
    "\n",
    "scatter = alt.Chart(health_df).mark_circle().encode(\n",
    "    x=alt.X('Country:N', title='Country', axis=alt.Axis(labelAngle=-45)),\n",
    "    y=alt.Y('Health - Self-reported health as pct:Q', title='Self-Reported Health (%)'),\n",
    "    color=alt.Color('Health - Self-reported health as pct:Q', scale=common_color_scale, legend=None),\n",
    "    size=alt.Size('Health - Self-reported health as pct:Q', title='Health Score Size', legend=None),\n",
    "    tooltip=[\n",
    "        alt.Tooltip('Country:N', title='Country'),\n",
    "        alt.Tooltip('Health - Self-reported health as pct:Q', title='Self-Reported Health Score (%)')\n",
    "    ]\n",
    ").properties(\n",
    "    title='Self-Reported Health per Country',\n",
    "    width=625,\n",
    "    height=290\n",
    ")\n",
    "\n",
    "scatter"
   ]
  },
  {
   "cell_type": "markdown",
   "id": "ff749994-505b-4f55-ab20-a655b9a6f94c",
   "metadata": {},
   "source": [
    "### Visualisation 5: Safety"
   ]
  },
  {
   "cell_type": "code",
   "execution_count": 17,
   "id": "5d210edc-9bab-4fd2-a2f2-b73ba270dde4",
   "metadata": {
    "tags": []
   },
   "outputs": [
    {
     "data": {
      "text/html": [
       "\n",
       "<style>\n",
       "  #altair-viz-96a82819f9ff46e48ece1868ed6df84d.vega-embed {\n",
       "    width: 100%;\n",
       "    display: flex;\n",
       "  }\n",
       "\n",
       "  #altair-viz-96a82819f9ff46e48ece1868ed6df84d.vega-embed details,\n",
       "  #altair-viz-96a82819f9ff46e48ece1868ed6df84d.vega-embed details summary {\n",
       "    position: relative;\n",
       "  }\n",
       "</style>\n",
       "<div id=\"altair-viz-96a82819f9ff46e48ece1868ed6df84d\"></div>\n",
       "<script type=\"text/javascript\">\n",
       "  var VEGA_DEBUG = (typeof VEGA_DEBUG == \"undefined\") ? {} : VEGA_DEBUG;\n",
       "  (function(spec, embedOpt){\n",
       "    let outputDiv = document.currentScript.previousElementSibling;\n",
       "    if (outputDiv.id !== \"altair-viz-96a82819f9ff46e48ece1868ed6df84d\") {\n",
       "      outputDiv = document.getElementById(\"altair-viz-96a82819f9ff46e48ece1868ed6df84d\");\n",
       "    }\n",
       "    const paths = {\n",
       "      \"vega\": \"https://cdn.jsdelivr.net/npm/vega@5?noext\",\n",
       "      \"vega-lib\": \"https://cdn.jsdelivr.net/npm/vega-lib?noext\",\n",
       "      \"vega-lite\": \"https://cdn.jsdelivr.net/npm/vega-lite@5.15.1?noext\",\n",
       "      \"vega-embed\": \"https://cdn.jsdelivr.net/npm/vega-embed@6?noext\",\n",
       "    };\n",
       "\n",
       "    function maybeLoadScript(lib, version) {\n",
       "      var key = `${lib.replace(\"-\", \"\")}_version`;\n",
       "      return (VEGA_DEBUG[key] == version) ?\n",
       "        Promise.resolve(paths[lib]) :\n",
       "        new Promise(function(resolve, reject) {\n",
       "          var s = document.createElement('script');\n",
       "          document.getElementsByTagName(\"head\")[0].appendChild(s);\n",
       "          s.async = true;\n",
       "          s.onload = () => {\n",
       "            VEGA_DEBUG[key] = version;\n",
       "            return resolve(paths[lib]);\n",
       "          };\n",
       "          s.onerror = () => reject(`Error loading script: ${paths[lib]}`);\n",
       "          s.src = paths[lib];\n",
       "        });\n",
       "    }\n",
       "\n",
       "    function showError(err) {\n",
       "      outputDiv.innerHTML = `<div class=\"error\" style=\"color:red;\">${err}</div>`;\n",
       "      throw err;\n",
       "    }\n",
       "\n",
       "    function displayChart(vegaEmbed) {\n",
       "      vegaEmbed(outputDiv, spec, embedOpt)\n",
       "        .catch(err => showError(`Javascript Error: ${err.message}<br>This usually means there's a typo in your chart specification. See the javascript console for the full traceback.`));\n",
       "    }\n",
       "\n",
       "    if(typeof define === \"function\" && define.amd) {\n",
       "      requirejs.config({paths});\n",
       "      require([\"vega-embed\"], displayChart, err => showError(`Error loading script: ${err.message}`));\n",
       "    } else {\n",
       "      maybeLoadScript(\"vega\", \"5\")\n",
       "        .then(() => maybeLoadScript(\"vega-lite\", \"5.15.1\"))\n",
       "        .then(() => maybeLoadScript(\"vega-embed\", \"6\"))\n",
       "        .catch(showError)\n",
       "        .then(() => displayChart(vegaEmbed));\n",
       "    }\n",
       "  })({\"config\": {\"view\": {\"continuousWidth\": 300, \"continuousHeight\": 300}}, \"layer\": [{\"mark\": {\"type\": \"bar\"}, \"encoding\": {\"color\": {\"field\": \"Safety - Feeling safe walking alone at night as pct\", \"legend\": null, \"scale\": {\"scheme\": \"bluegreen\"}, \"type\": \"quantitative\"}, \"tooltip\": [{\"field\": \"Country\", \"title\": \"Country\", \"type\": \"nominal\"}, {\"field\": \"Safety - Feeling safe walking alone at night as pct\", \"title\": \"Feeling Safe Walking Alone at Night(%)\", \"type\": \"quantitative\"}], \"x\": {\"axis\": {\"labelAngle\": -45, \"title\": \"Country\"}, \"field\": \"Country\", \"type\": \"nominal\"}, \"y\": {\"axis\": {\"title\": \"Feeling Safe Walking Alone at Night (%)\"}, \"field\": \"Safety - Feeling safe walking alone at night as pct\", \"type\": \"quantitative\"}}, \"title\": \"Safety Metrics by Country\"}, {\"mark\": {\"type\": \"line\", \"color\": \"orange\"}, \"encoding\": {\"x\": {\"axis\": {\"labelAngle\": -45, \"title\": \"Country\"}, \"field\": \"Country\", \"type\": \"nominal\"}, \"y\": {\"axis\": {\"title\": \"Homicide Rate\", \"titleColor\": \"orange\"}, \"field\": \"Safety - Homicide rate as rat\", \"type\": \"quantitative\"}}, \"title\": \"Safety Metrics by Country\"}], \"data\": {\"name\": \"data-88a35fcfd7a8c642b33f2bd48fa799e9\"}, \"height\": 290, \"resolve\": {\"scale\": {\"y\": \"independent\"}}, \"width\": 625, \"$schema\": \"https://vega.github.io/schema/vega-lite/v5.15.1.json\", \"datasets\": {\"data-88a35fcfd7a8c642b33f2bd48fa799e9\": [{\"Country\": \"Australia\", \"Safety - Feeling safe walking alone at night as pct\": 67, \"Safety - Homicide rate as rat\": 0.9}, {\"Country\": \"Austria\", \"Safety - Feeling safe walking alone at night as pct\": 86, \"Safety - Homicide rate as rat\": 0.5}, {\"Country\": \"Belgium\", \"Safety - Feeling safe walking alone at night as pct\": 56, \"Safety - Homicide rate as rat\": 1.1}, {\"Country\": \"Canada\", \"Safety - Feeling safe walking alone at night as pct\": 78, \"Safety - Homicide rate as rat\": 1.2}, {\"Country\": \"Chile\", \"Safety - Feeling safe walking alone at night as pct\": 41, \"Safety - Homicide rate as rat\": 2.4}, {\"Country\": \"Colombia\", \"Safety - Feeling safe walking alone at night as pct\": 50, \"Safety - Homicide rate as rat\": 23.1}, {\"Country\": \"Costa Rica\", \"Safety - Feeling safe walking alone at night as pct\": 47, \"Safety - Homicide rate as rat\": 10.0}, {\"Country\": \"Czech Republic\", \"Safety - Feeling safe walking alone at night as pct\": 77, \"Safety - Homicide rate as rat\": 0.7}, {\"Country\": \"Denmark\", \"Safety - Feeling safe walking alone at night as pct\": 85, \"Safety - Homicide rate as rat\": 0.5}, {\"Country\": \"Estonia\", \"Safety - Feeling safe walking alone at night as pct\": 79, \"Safety - Homicide rate as rat\": 1.9}, {\"Country\": \"Finland\", \"Safety - Feeling safe walking alone at night as pct\": 88, \"Safety - Homicide rate as rat\": 1.2}, {\"Country\": \"France\", \"Safety - Feeling safe walking alone at night as pct\": 74, \"Safety - Homicide rate as rat\": 0.4}, {\"Country\": \"Germany\", \"Safety - Feeling safe walking alone at night as pct\": 76, \"Safety - Homicide rate as rat\": 0.4}, {\"Country\": \"Greece\", \"Safety - Feeling safe walking alone at night as pct\": 69, \"Safety - Homicide rate as rat\": 1.0}, {\"Country\": \"Hungary\", \"Safety - Feeling safe walking alone at night as pct\": 74, \"Safety - Homicide rate as rat\": 0.9}, {\"Country\": \"Iceland\", \"Safety - Feeling safe walking alone at night as pct\": 85, \"Safety - Homicide rate as rat\": 0.3}, {\"Country\": \"Ireland\", \"Safety - Feeling safe walking alone at night as pct\": 76, \"Safety - Homicide rate as rat\": 0.5}, {\"Country\": \"Israel\", \"Safety - Feeling safe walking alone at night as pct\": 80, \"Safety - Homicide rate as rat\": 1.5}, {\"Country\": \"Italy\", \"Safety - Feeling safe walking alone at night as pct\": 73, \"Safety - Homicide rate as rat\": 0.5}, {\"Country\": \"Japan\", \"Safety - Feeling safe walking alone at night as pct\": 77, \"Safety - Homicide rate as rat\": 0.2}, {\"Country\": \"Korea\", \"Safety - Feeling safe walking alone at night as pct\": 82, \"Safety - Homicide rate as rat\": 0.8}, {\"Country\": \"Latvia\", \"Safety - Feeling safe walking alone at night as pct\": 72, \"Safety - Homicide rate as rat\": 3.7}, {\"Country\": \"Lithuania\", \"Safety - Feeling safe walking alone at night as pct\": 62, \"Safety - Homicide rate as rat\": 2.5}, {\"Country\": \"Luxembourg\", \"Safety - Feeling safe walking alone at night as pct\": 87, \"Safety - Homicide rate as rat\": 0.2}, {\"Country\": \"Mexico\", \"Safety - Feeling safe walking alone at night as pct\": 42, \"Safety - Homicide rate as rat\": 26.8}, {\"Country\": \"Netherlands\", \"Safety - Feeling safe walking alone at night as pct\": 83, \"Safety - Homicide rate as rat\": 0.6}, {\"Country\": \"New Zealand\", \"Safety - Feeling safe walking alone at night as pct\": 66, \"Safety - Homicide rate as rat\": 1.3}, {\"Country\": \"Norway\", \"Safety - Feeling safe walking alone at night as pct\": 93, \"Safety - Homicide rate as rat\": 0.6}, {\"Country\": \"Poland\", \"Safety - Feeling safe walking alone at night as pct\": 71, \"Safety - Homicide rate as rat\": 0.5}, {\"Country\": \"Portugal\", \"Safety - Feeling safe walking alone at night as pct\": 83, \"Safety - Homicide rate as rat\": 0.7}, {\"Country\": \"Slovak Republic\", \"Safety - Feeling safe walking alone at night as pct\": 76, \"Safety - Homicide rate as rat\": 0.8}, {\"Country\": \"Slovenia\", \"Safety - Feeling safe walking alone at night as pct\": 91, \"Safety - Homicide rate as rat\": 0.4}, {\"Country\": \"Spain\", \"Safety - Feeling safe walking alone at night as pct\": 80, \"Safety - Homicide rate as rat\": 0.7}, {\"Country\": \"Sweden\", \"Safety - Feeling safe walking alone at night as pct\": 79, \"Safety - Homicide rate as rat\": 1.1}, {\"Country\": \"Switzerland\", \"Safety - Feeling safe walking alone at night as pct\": 86, \"Safety - Homicide rate as rat\": 0.3}, {\"Country\": \"Turkey\", \"Safety - Feeling safe walking alone at night as pct\": 59, \"Safety - Homicide rate as rat\": 1.0}, {\"Country\": \"United Kingdom\", \"Safety - Feeling safe walking alone at night as pct\": 78, \"Safety - Homicide rate as rat\": 0.2}, {\"Country\": \"United States\", \"Safety - Feeling safe walking alone at night as pct\": 78, \"Safety - Homicide rate as rat\": 6.0}, {\"Country\": \"Non-OECD - Brazil\", \"Safety - Feeling safe walking alone at night as pct\": 45, \"Safety - Homicide rate as rat\": 19.0}, {\"Country\": \"Non-OECD - Russia\", \"Safety - Feeling safe walking alone at night as pct\": 64, \"Safety - Homicide rate as rat\": 4.8}, {\"Country\": \"Non-OECD - South Africa\", \"Safety - Feeling safe walking alone at night as pct\": 40, \"Safety - Homicide rate as rat\": 13.7}]}}, {\"mode\": \"vega-lite\"});\n",
       "</script>"
      ],
      "text/plain": [
       "alt.LayerChart(...)"
      ]
     },
     "execution_count": 17,
     "metadata": {},
     "output_type": "execute_result"
    }
   ],
   "source": [
    "safety_df = df[['Country', 'Safety - Feeling safe walking alone at night as pct', 'Safety - Homicide rate as rat']]\n",
    "\n",
    "\n",
    "base = alt.Chart(safety_df).encode(\n",
    "    alt.X('Country', axis=alt.Axis(title='Country', labelAngle=-45))\n",
    ").properties(\n",
    "    title='Safety Metrics by Country',\n",
    "    width=625,\n",
    "    height=290\n",
    ")\n",
    "\n",
    "\n",
    "line = base.mark_line(color='orange').encode(\n",
    "    alt.Y('Safety - Homicide rate as rat',\n",
    "          axis=alt.Axis(title='Homicide Rate', titleColor='orange'))\n",
    ")\n",
    "\n",
    "\n",
    "bar = base.mark_bar().encode(\n",
    "    alt.Y('Safety - Feeling safe walking alone at night as pct',\n",
    "          axis=alt.Axis(title='Feeling Safe Walking Alone at Night (%)')),\n",
    "    color=alt.Color('Safety - Feeling safe walking alone at night as pct', scale=common_color_scale, legend=None),\n",
    "    tooltip=[alt.Tooltip('Country', title='Country'),\n",
    "             alt.Tooltip('Safety - Feeling safe walking alone at night as pct', title='Feeling Safe Walking Alone at Night(%)')]\n",
    ")\n",
    "\n",
    "\n",
    "dual_axis_chart = alt.layer(bar, line).resolve_scale(\n",
    "    y='independent'\n",
    ")\n",
    "\n",
    "dual_axis_chart"
   ]
  },
  {
   "cell_type": "markdown",
   "id": "27e80768-3900-40f2-bfff-d8685935cdbe",
   "metadata": {},
   "source": [
    "# 6. Covert Visualisations to HTML Format"
   ]
  },
  {
   "cell_type": "markdown",
   "id": "561f519a-e466-4bd2-a2c3-1f8cf150d4f2",
   "metadata": {},
   "source": [
    "Now that all of the visualisations have been produced, it is time to concatenate and convert these into a single html file. In doing so, it is possible to easily view each of the graphs, allowing for the comparison of different variables inside one view. \n",
    "\n",
    "This will be done by both concatenating horizontally and vertically to create the desired view. Through this method, we will be able to create a 2 x 2 grid of our 4 graphs, with the final visualisation depicting the world map at the bottom of the page, as this graph requires a higher degree of size for clarity."
   ]
  },
  {
   "cell_type": "code",
   "execution_count": 22,
   "id": "bc4f3dc0-1e1d-4ce9-93d4-1bd23c917171",
   "metadata": {
    "tags": []
   },
   "outputs": [],
   "source": [
    "hconcat1 = alt.hconcat(income_chart, work_chart).resolve_scale(\n",
    "    color='independent'\n",
    ")\n",
    "\n",
    "hconcat2 = alt.hconcat(scatter, dual_axis_chart).resolve_scale(\n",
    "    color='independent'\n",
    ")\n",
    "\n",
    "final_chart = alt.vconcat(hconcat1, hconcat2, world_chart).resolve_scale(\n",
    "    color='independent'\n",
    ")\n",
    "\n",
    "final_chart.save('combined_chart.html')"
   ]
  },
  {
   "cell_type": "markdown",
   "id": "e49b00f6-cb81-44fa-aaa5-0b4f1afb0f5d",
   "metadata": {},
   "source": [
    "With the creation of the html file \"combined_chart.html\", we have completed the last step of our analysis."
   ]
  },
  {
   "cell_type": "markdown",
   "id": "b9e4a901-c3fc-468d-9008-d7c1de44a1c3",
   "metadata": {},
   "source": [
    "# 7. Summary\n",
    "\n",
    "In this notebook, we conducted a thorough examination of the Better Life Index dataset in an attempt to understand the well-being of individuals across various countries.\n",
    "\n",
    "Following the initial data understanding phase, we then focused on the missing data present inside the dataset, ultimately deciding to utilise imputation. For columns with less than 20% missing data, imputation using the median was employed. For columns with more that 20% missing data, K-Nearest Neighour was utilised in an attempt to retain the dataset's overall characteristics.\n",
    "\n",
    "A brief analysis into the columns data distributions was then conducted, which did not lead to any discoveries which required further action, such as outlier removal.\n",
    "\n",
    "For the latter part of the notebook, an emphasis was placed on visualising the dataset in the most comprehensive way possible. Five visualisations were created, each representing a key component of well-being, with these being:\n",
    "- Work-Life Balance\n",
    "- Disposable Income\n",
    "- Life Satisfaction\n",
    "- Health\n",
    "- Safety\n",
    "\n",
    "Each visualisation played a crucial role in providing insights into the well-being of individuals in various countries.\n",
    "\n",
    "Lastly, to view these visualisations in one place, we grouped them together and converted them into a single html file, retaining the interactive elements of the graphs, whilst also allowing for an easier viewing experience."
   ]
  }
 ],
 "metadata": {
  "kernelspec": {
   "display_name": "Python 3 (ipykernel)",
   "language": "python",
   "name": "python3"
  },
  "language_info": {
   "codemirror_mode": {
    "name": "ipython",
    "version": 3
   },
   "file_extension": ".py",
   "mimetype": "text/x-python",
   "name": "python",
   "nbconvert_exporter": "python",
   "pygments_lexer": "ipython3",
   "version": "3.11.5"
  }
 },
 "nbformat": 4,
 "nbformat_minor": 5
}
